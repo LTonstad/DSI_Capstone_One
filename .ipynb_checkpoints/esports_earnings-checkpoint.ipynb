{
 "cells": [
  {
   "cell_type": "markdown",
   "metadata": {},
   "source": [
    "# Creating imports, formats etc."
   ]
  },
  {
   "cell_type": "code",
   "execution_count": null,
   "metadata": {},
   "outputs": [],
   "source": [
    "import numpy as np\n",
    "import pandas as pd\n",
    "import scipy.stats as stats\n",
    "import matplotlib.pyplot as plt\n",
    "\n",
    "import pandas_profiling as pp\n",
    "\n",
    "plt.style.use('fivethirtyeight')"
   ]
  },
  {
   "cell_type": "code",
   "execution_count": null,
   "metadata": {},
   "outputs": [],
   "source": [
    "def mil_format(x):\n",
    "    return \"${:.1f}M\".format(x/1000000)"
   ]
  },
  {
   "cell_type": "code",
   "execution_count": null,
   "metadata": {},
   "outputs": [],
   "source": [
    "def k_format(x):\n",
    "    return \"${:.1f}K\".format(x/1000)"
   ]
  },
  {
   "cell_type": "markdown",
   "metadata": {},
   "source": [
    "# Pulling data, '_df' is the backup and the others are meant to modify"
   ]
  },
  {
   "cell_type": "code",
   "execution_count": null,
   "metadata": {},
   "outputs": [],
   "source": [
    "players_df = pd.read_csv('data/highest_earning_players.csv')\n",
    "players = pd.read_csv('data/highest_earning_players.csv')\n",
    "#players_df.head()"
   ]
  },
  {
   "cell_type": "code",
   "execution_count": null,
   "metadata": {},
   "outputs": [],
   "source": [
    "teams_df = pd.read_csv('data/highest_earning_teams.csv')\n",
    "teams = pd.read_csv('data/highest_earning_teams.csv')\n",
    "#teams_df.head()"
   ]
  },
  {
   "cell_type": "code",
   "execution_count": null,
   "metadata": {
    "scrolled": true
   },
   "outputs": [],
   "source": [
    "countries_df = pd.read_csv('data/country-and-continent-codes-list.csv')\n",
    "countries = pd.read_csv('data/country-and-continent-codes-list.csv')\n",
    "#countries_df.head()"
   ]
  },
  {
   "cell_type": "code",
   "execution_count": null,
   "metadata": {},
   "outputs": [],
   "source": [
    "# Important to note, all games were play same amount of times (100)\n",
    "games = players[['TotalUSDPrize', 'Game', 'Genre']]\n",
    "games_grouped = games.groupby('Game')\n",
    "games_grouped.head()#.sort_values(ascending=False)"
   ]
  },
  {
   "cell_type": "code",
   "execution_count": null,
   "metadata": {},
   "outputs": [],
   "source": [
    "# Summary of everything\n",
    "profile = pp.ProfileReport(players_df, title='Pandas Profiling Report', explorative=True)\n",
    "profile.to_widgets()"
   ]
  },
  {
   "cell_type": "markdown",
   "metadata": {},
   "source": [
    "# Plotting individual games"
   ]
  },
  {
   "cell_type": "code",
   "execution_count": null,
   "metadata": {},
   "outputs": [],
   "source": [
    "games_individual_sorted = games.sort_values(ascending=False, by='TotalUSDPrize')\n",
    "games_individual_sorted_k = games_individual_sorted['TotalUSDPrize']#.apply(k_format)\n",
    "games_individual_sorted_k.head()"
   ]
  },
  {
   "cell_type": "code",
   "execution_count": null,
   "metadata": {
    "scrolled": true
   },
   "outputs": [],
   "source": [
    "unique_names = games_grouped_individual_sorted.Game.unique()\n",
    "\n",
    "unique_names"
   ]
  },
  {
   "cell_type": "code",
   "execution_count": null,
   "metadata": {},
   "outputs": [],
   "source": [
    "'''df_dict = {elem : pd.DataFrame for elem in unique_names}\n",
    "\n",
    "for key in df_dict.keys():\n",
    "    df_dict[key] = games_grouped_individual_sorted[:][games_grouped_individual_sorted.Game == key]'''"
   ]
  },
  {
   "cell_type": "code",
   "execution_count": null,
   "metadata": {},
   "outputs": [],
   "source": [
    "df_dict['PUBG']"
   ]
  },
  {
   "cell_type": "code",
   "execution_count": null,
   "metadata": {},
   "outputs": [],
   "source": [
    "#fig, ax = plt.subplots(figsize=(14,10))\n",
    "\n",
    "ax = games_grouped_individual_sorted['TotalUSDPrize'].hist(figsize=(14,14), bins=50)\n",
    "\n",
    "#ax.hist(individual_game_prizes)\n",
    "\n",
    "ax.set_title('Prize Earnings Per Game')\n",
    "ax.set_xlabel('Individual_Games')\n",
    "ax.set_ylabel('Prize_USD')\n",
    "ax.set_yticks([1000000, 2000000, 3000000, 4000000, 5000000, 6000000, 7000000])\n",
    "ax.set_yticklabels(['$1m','$2m','$3m','$4m', '$5m', '$6m', '$7m'])\n",
    "#ax.tick_params(labelbottom=False)\n",
    "\n",
    "fig = ax.figure\n",
    "fig.set_size_inches(14,14)\n",
    "fig.tight_layout(pad=1)"
   ]
  },
  {
   "cell_type": "markdown",
   "metadata": {},
   "source": [
    "# Analyzing prize money grouped by game in Players DataFrame"
   ]
  },
  {
   "cell_type": "code",
   "execution_count": null,
   "metadata": {},
   "outputs": [],
   "source": [
    "games_max_prize = games.groupby('Game')['TotalUSDPrize'].agg(np.max)\n",
    "games_max_prize_sorted = games_max_prize.sort_values(ascending=False).apply(mil_format)\n",
    "#games_max_prize_sorted"
   ]
  },
  {
   "cell_type": "code",
   "execution_count": null,
   "metadata": {},
   "outputs": [],
   "source": [
    "games_min_prize = games.groupby('Game')['TotalUSDPrize'].agg(np.min)\n",
    "games_min_prize_sorted = games_min_prize.sort_values(ascending=False).apply(k_format)\n",
    "#games_min_prize_sorted"
   ]
  },
  {
   "cell_type": "code",
   "execution_count": null,
   "metadata": {},
   "outputs": [],
   "source": [
    "game_total_prizes = games.groupby('Game')['TotalUSDPrize'].agg(np.sum)\n",
    "game_total_prizes_mil = game_total_prizes.apply(mil_format).sort_values(ascending=True)\n",
    "#game_total_prizes_mil"
   ]
  },
  {
   "cell_type": "code",
   "execution_count": null,
   "metadata": {},
   "outputs": [],
   "source": [
    "ax = game_total_prizes.sort_values(ascending=True).plot.barh()\n",
    "\n",
    "ax.set_title('Total Prize Per Game')\n",
    "ax.set_xlabel('Prize_USD (Millions)')\n",
    "ax.set_ylabel('Game')\n",
    "ax.set_xticks(ticks=[25000000, 50000000, 75000000, 100000000, 125000000, 150000000, 175000000, 200000000])\n",
    "ax.set_xticklabels(['$25m','$50m','$75m','$100m','$125m','$150m','$175m','$200m'])\n",
    "\n",
    "fig = ax.figure\n",
    "fig.set_size_inches(14,6)\n",
    "fig.tight_layout(pad=1)\n",
    "#fig.savefig('images/hist_prize_per_game.png')\n",
    "\n",
    "#plt.close()"
   ]
  },
  {
   "cell_type": "code",
   "execution_count": null,
   "metadata": {},
   "outputs": [],
   "source": [
    "ax = game_total_prizes.sort_values().plot.pie(autopct='%1.1f%%')\n",
    "\n",
    "ax.set_title('Prize Share Per Game')\n",
    "ax.set_ylabel('')\n",
    "\n",
    "fig = ax.figure\n",
    "fig.set_size_inches(18,10)\n",
    "#fig.savefig('images/pie_prize_share.png')"
   ]
  },
  {
   "cell_type": "markdown",
   "metadata": {},
   "source": [
    "# Analyzing prize money grouped by Country in Players DataFrame"
   ]
  },
  {
   "cell_type": "code",
   "execution_count": null,
   "metadata": {},
   "outputs": [],
   "source": [
    "country_total_earnings = players.groupby('CountryCode')['TotalUSDPrize'].sum()\n",
    "country_total_earnings_sorted = country_total_earnings.sort_values(ascending=False).apply(mil_format)\n",
    "#country_total_earnings_sorted"
   ]
  },
  {
   "cell_type": "code",
   "execution_count": null,
   "metadata": {},
   "outputs": [],
   "source": [
    "country_average_earnings = players.groupby('CountryCode')['TotalUSDPrize'].mean()\n",
    "country_average_earnings_sorted = country_average_earnings.sort_values(ascending=False).apply(k_format)\n",
    "#country_average_earnings_sorted"
   ]
  },
  {
   "cell_type": "code",
   "execution_count": null,
   "metadata": {},
   "outputs": [],
   "source": [
    "country_total_earnings.describe()"
   ]
  },
  {
   "cell_type": "code",
   "execution_count": null,
   "metadata": {},
   "outputs": [],
   "source": [
    "ax = country_total_earnings.sort_values().plot.barh()\n",
    "\n",
    "ax.set_title('Total Prize Earnings Per Country')\n",
    "ax.set_xlabel('Prize_USD (Millions)')\n",
    "ax.set_ylabel('Game')\n",
    "ax.set_xticks(ticks=[25000000, 50000000, 75000000, 100000000])\n",
    "ax.set_xticklabels(['$25m','$50m','$75m','$100m'])\n",
    "\n",
    "fig = ax.figure\n",
    "fig.set_size_inches(14,14)\n",
    "fig.tight_layout(pad=1)"
   ]
  },
  {
   "cell_type": "code",
   "execution_count": null,
   "metadata": {},
   "outputs": [],
   "source": [
    "ax = country_average_earnings.sort_values().plot.barh()\n",
    "\n",
    "ax.set_title('Average Prize Per Game Grouped By Country')\n",
    "ax.set_xlabel('Prize_USD (Millions)')\n",
    "ax.set_ylabel('Game')\n",
    "ax.set_xticks(ticks=[1000000, 2000000, 3000000, 4000000, 5000000])\n",
    "ax.set_xticklabels(['$1m','$2m','$3m','$4m','$5m'])\n",
    "\n",
    "fig = ax.figure\n",
    "fig.set_size_inches(14,14)\n",
    "fig.tight_layout(pad=1)"
   ]
  }
 ],
 "metadata": {
  "kernelspec": {
   "display_name": "Python 3",
   "language": "python",
   "name": "python3"
  },
  "language_info": {
   "codemirror_mode": {
    "name": "ipython",
    "version": 3
   },
   "file_extension": ".py",
   "mimetype": "text/x-python",
   "name": "python",
   "nbconvert_exporter": "python",
   "pygments_lexer": "ipython3",
   "version": "3.7.9"
  }
 },
 "nbformat": 4,
 "nbformat_minor": 2
}
