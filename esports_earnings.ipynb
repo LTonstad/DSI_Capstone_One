{
 "cells": [
  {
   "cell_type": "markdown",
   "metadata": {},
   "source": [
    "# Creating imports, formats etc."
   ]
  },
  {
   "cell_type": "code",
   "execution_count": 1,
   "metadata": {},
   "outputs": [],
   "source": [
    "import numpy as np\n",
    "import pandas as pd\n",
    "import scipy.stats as stats\n",
    "import matplotlib.pyplot as plt\n",
    "\n",
    "import pandas_profiling as pp\n",
    "\n",
    "plt.style.use('fivethirtyeight')"
   ]
  },
  {
   "cell_type": "code",
   "execution_count": 2,
   "metadata": {},
   "outputs": [],
   "source": [
    "def mil_format(x):\n",
    "    return \"${:.1f}M\".format(x/1000000)"
   ]
  },
  {
   "cell_type": "code",
   "execution_count": 3,
   "metadata": {},
   "outputs": [],
   "source": [
    "def k_format(x):\n",
    "    return \"${:.1f}K\".format(x/1000)"
   ]
  },
  {
   "cell_type": "markdown",
   "metadata": {},
   "source": [
    "# Pulling data, '_df' is the backup and the others are meant to modify"
   ]
  },
  {
   "cell_type": "code",
   "execution_count": 5,
   "metadata": {},
   "outputs": [],
   "source": [
    "players_df = pd.read_csv('data/highest_earning_players.csv')\n",
    "players = pd.read_csv('data/highest_earning_players.csv')\n",
    "#players_df.head()"
   ]
  },
  {
   "cell_type": "code",
   "execution_count": 6,
   "metadata": {},
   "outputs": [],
   "source": [
    "teams_df = pd.read_csv('data/highest_earning_teams.csv')\n",
    "teams = pd.read_csv('data/highest_earning_teams.csv')\n",
    "#teams_df.head()"
   ]
  },
  {
   "cell_type": "code",
   "execution_count": 7,
   "metadata": {
    "scrolled": true
   },
   "outputs": [],
   "source": [
    "countries_df = pd.read_csv('data/country-and-continent-codes-list.csv')\n",
    "countries = pd.read_csv('data/country-and-continent-codes-list.csv')\n",
    "#countries_df.head()"
   ]
  },
  {
   "cell_type": "code",
   "execution_count": 8,
   "metadata": {},
   "outputs": [
    {
     "data": {
      "text/html": [
       "<div>\n",
       "<style scoped>\n",
       "    .dataframe tbody tr th:only-of-type {\n",
       "        vertical-align: middle;\n",
       "    }\n",
       "\n",
       "    .dataframe tbody tr th {\n",
       "        vertical-align: top;\n",
       "    }\n",
       "\n",
       "    .dataframe thead th {\n",
       "        text-align: right;\n",
       "    }\n",
       "</style>\n",
       "<table border=\"1\" class=\"dataframe\">\n",
       "  <thead>\n",
       "    <tr style=\"text-align: right;\">\n",
       "      <th></th>\n",
       "      <th>TotalUSDPrize</th>\n",
       "      <th>Game</th>\n",
       "      <th>Genre</th>\n",
       "    </tr>\n",
       "  </thead>\n",
       "  <tbody>\n",
       "    <tr>\n",
       "      <th>0</th>\n",
       "      <td>1822989.41</td>\n",
       "      <td>Counter-Strike: Global Offensive</td>\n",
       "      <td>First-Person Shooter</td>\n",
       "    </tr>\n",
       "    <tr>\n",
       "      <th>1</th>\n",
       "      <td>1799288.57</td>\n",
       "      <td>Counter-Strike: Global Offensive</td>\n",
       "      <td>First-Person Shooter</td>\n",
       "    </tr>\n",
       "    <tr>\n",
       "      <th>2</th>\n",
       "      <td>1787489.88</td>\n",
       "      <td>Counter-Strike: Global Offensive</td>\n",
       "      <td>First-Person Shooter</td>\n",
       "    </tr>\n",
       "    <tr>\n",
       "      <th>3</th>\n",
       "      <td>1652350.75</td>\n",
       "      <td>Counter-Strike: Global Offensive</td>\n",
       "      <td>First-Person Shooter</td>\n",
       "    </tr>\n",
       "    <tr>\n",
       "      <th>4</th>\n",
       "      <td>1416448.64</td>\n",
       "      <td>Counter-Strike: Global Offensive</td>\n",
       "      <td>First-Person Shooter</td>\n",
       "    </tr>\n",
       "    <tr>\n",
       "      <th>100</th>\n",
       "      <td>6952596.58</td>\n",
       "      <td>Dota 2</td>\n",
       "      <td>Multiplayer Online Battle Arena</td>\n",
       "    </tr>\n",
       "    <tr>\n",
       "      <th>101</th>\n",
       "      <td>6470000.02</td>\n",
       "      <td>Dota 2</td>\n",
       "      <td>Multiplayer Online Battle Arena</td>\n",
       "    </tr>\n",
       "    <tr>\n",
       "      <th>102</th>\n",
       "      <td>6000411.96</td>\n",
       "      <td>Dota 2</td>\n",
       "      <td>Multiplayer Online Battle Arena</td>\n",
       "    </tr>\n",
       "    <tr>\n",
       "      <th>103</th>\n",
       "      <td>5554297.41</td>\n",
       "      <td>Dota 2</td>\n",
       "      <td>Multiplayer Online Battle Arena</td>\n",
       "    </tr>\n",
       "    <tr>\n",
       "      <th>104</th>\n",
       "      <td>5470902.57</td>\n",
       "      <td>Dota 2</td>\n",
       "      <td>Multiplayer Online Battle Arena</td>\n",
       "    </tr>\n",
       "    <tr>\n",
       "      <th>200</th>\n",
       "      <td>1257615.87</td>\n",
       "      <td>League of Legends</td>\n",
       "      <td>Multiplayer Online Battle Arena</td>\n",
       "    </tr>\n",
       "    <tr>\n",
       "      <th>201</th>\n",
       "      <td>954620.62</td>\n",
       "      <td>League of Legends</td>\n",
       "      <td>Multiplayer Online Battle Arena</td>\n",
       "    </tr>\n",
       "    <tr>\n",
       "      <th>202</th>\n",
       "      <td>915451.46</td>\n",
       "      <td>League of Legends</td>\n",
       "      <td>Multiplayer Online Battle Arena</td>\n",
       "    </tr>\n",
       "    <tr>\n",
       "      <th>203</th>\n",
       "      <td>913084.70</td>\n",
       "      <td>League of Legends</td>\n",
       "      <td>Multiplayer Online Battle Arena</td>\n",
       "    </tr>\n",
       "    <tr>\n",
       "      <th>204</th>\n",
       "      <td>810683.00</td>\n",
       "      <td>League of Legends</td>\n",
       "      <td>Multiplayer Online Battle Arena</td>\n",
       "    </tr>\n",
       "    <tr>\n",
       "      <th>300</th>\n",
       "      <td>3141395.05</td>\n",
       "      <td>Fortnite</td>\n",
       "      <td>Battle Royale</td>\n",
       "    </tr>\n",
       "    <tr>\n",
       "      <th>301</th>\n",
       "      <td>1923774.23</td>\n",
       "      <td>Fortnite</td>\n",
       "      <td>Battle Royale</td>\n",
       "    </tr>\n",
       "    <tr>\n",
       "      <th>302</th>\n",
       "      <td>1873138.80</td>\n",
       "      <td>Fortnite</td>\n",
       "      <td>Battle Royale</td>\n",
       "    </tr>\n",
       "    <tr>\n",
       "      <th>303</th>\n",
       "      <td>1536845.69</td>\n",
       "      <td>Fortnite</td>\n",
       "      <td>Battle Royale</td>\n",
       "    </tr>\n",
       "    <tr>\n",
       "      <th>304</th>\n",
       "      <td>1349767.32</td>\n",
       "      <td>Fortnite</td>\n",
       "      <td>Battle Royale</td>\n",
       "    </tr>\n",
       "    <tr>\n",
       "      <th>400</th>\n",
       "      <td>331108.68</td>\n",
       "      <td>Overwatch</td>\n",
       "      <td>First-Person Shooter</td>\n",
       "    </tr>\n",
       "    <tr>\n",
       "      <th>401</th>\n",
       "      <td>327424.24</td>\n",
       "      <td>Overwatch</td>\n",
       "      <td>First-Person Shooter</td>\n",
       "    </tr>\n",
       "    <tr>\n",
       "      <th>402</th>\n",
       "      <td>322184.16</td>\n",
       "      <td>Overwatch</td>\n",
       "      <td>First-Person Shooter</td>\n",
       "    </tr>\n",
       "    <tr>\n",
       "      <th>403</th>\n",
       "      <td>319657.20</td>\n",
       "      <td>Overwatch</td>\n",
       "      <td>First-Person Shooter</td>\n",
       "    </tr>\n",
       "    <tr>\n",
       "      <th>404</th>\n",
       "      <td>314548.25</td>\n",
       "      <td>Overwatch</td>\n",
       "      <td>First-Person Shooter</td>\n",
       "    </tr>\n",
       "    <tr>\n",
       "      <th>500</th>\n",
       "      <td>893336.55</td>\n",
       "      <td>Starcraft II</td>\n",
       "      <td>Strategy</td>\n",
       "    </tr>\n",
       "    <tr>\n",
       "      <th>501</th>\n",
       "      <td>886795.83</td>\n",
       "      <td>Starcraft II</td>\n",
       "      <td>Strategy</td>\n",
       "    </tr>\n",
       "    <tr>\n",
       "      <th>502</th>\n",
       "      <td>883148.24</td>\n",
       "      <td>Starcraft II</td>\n",
       "      <td>Strategy</td>\n",
       "    </tr>\n",
       "    <tr>\n",
       "      <th>503</th>\n",
       "      <td>794627.39</td>\n",
       "      <td>Starcraft II</td>\n",
       "      <td>Strategy</td>\n",
       "    </tr>\n",
       "    <tr>\n",
       "      <th>504</th>\n",
       "      <td>762437.00</td>\n",
       "      <td>Starcraft II</td>\n",
       "      <td>Strategy</td>\n",
       "    </tr>\n",
       "    <tr>\n",
       "      <th>600</th>\n",
       "      <td>464560.82</td>\n",
       "      <td>Heroes of the Storm</td>\n",
       "      <td>Multiplayer Online Battle Arena</td>\n",
       "    </tr>\n",
       "    <tr>\n",
       "      <th>601</th>\n",
       "      <td>462790.78</td>\n",
       "      <td>Heroes of the Storm</td>\n",
       "      <td>Multiplayer Online Battle Arena</td>\n",
       "    </tr>\n",
       "    <tr>\n",
       "      <th>602</th>\n",
       "      <td>427923.28</td>\n",
       "      <td>Heroes of the Storm</td>\n",
       "      <td>Multiplayer Online Battle Arena</td>\n",
       "    </tr>\n",
       "    <tr>\n",
       "      <th>603</th>\n",
       "      <td>360093.52</td>\n",
       "      <td>Heroes of the Storm</td>\n",
       "      <td>Multiplayer Online Battle Arena</td>\n",
       "    </tr>\n",
       "    <tr>\n",
       "      <th>604</th>\n",
       "      <td>353715.98</td>\n",
       "      <td>Heroes of the Storm</td>\n",
       "      <td>Multiplayer Online Battle Arena</td>\n",
       "    </tr>\n",
       "    <tr>\n",
       "      <th>700</th>\n",
       "      <td>703953.94</td>\n",
       "      <td>PUBG</td>\n",
       "      <td>Battle Royale</td>\n",
       "    </tr>\n",
       "    <tr>\n",
       "      <th>701</th>\n",
       "      <td>610486.16</td>\n",
       "      <td>PUBG</td>\n",
       "      <td>Battle Royale</td>\n",
       "    </tr>\n",
       "    <tr>\n",
       "      <th>702</th>\n",
       "      <td>591248.41</td>\n",
       "      <td>PUBG</td>\n",
       "      <td>Battle Royale</td>\n",
       "    </tr>\n",
       "    <tr>\n",
       "      <th>703</th>\n",
       "      <td>585598.46</td>\n",
       "      <td>PUBG</td>\n",
       "      <td>Battle Royale</td>\n",
       "    </tr>\n",
       "    <tr>\n",
       "      <th>704</th>\n",
       "      <td>344350.25</td>\n",
       "      <td>PUBG</td>\n",
       "      <td>Battle Royale</td>\n",
       "    </tr>\n",
       "    <tr>\n",
       "      <th>800</th>\n",
       "      <td>465685.85</td>\n",
       "      <td>Arena of Valor</td>\n",
       "      <td>Multiplayer Online Battle Arena</td>\n",
       "    </tr>\n",
       "    <tr>\n",
       "      <th>801</th>\n",
       "      <td>416162.04</td>\n",
       "      <td>Arena of Valor</td>\n",
       "      <td>Multiplayer Online Battle Arena</td>\n",
       "    </tr>\n",
       "    <tr>\n",
       "      <th>802</th>\n",
       "      <td>399019.18</td>\n",
       "      <td>Arena of Valor</td>\n",
       "      <td>Multiplayer Online Battle Arena</td>\n",
       "    </tr>\n",
       "    <tr>\n",
       "      <th>803</th>\n",
       "      <td>399019.18</td>\n",
       "      <td>Arena of Valor</td>\n",
       "      <td>Multiplayer Online Battle Arena</td>\n",
       "    </tr>\n",
       "    <tr>\n",
       "      <th>804</th>\n",
       "      <td>399019.18</td>\n",
       "      <td>Arena of Valor</td>\n",
       "      <td>Multiplayer Online Battle Arena</td>\n",
       "    </tr>\n",
       "    <tr>\n",
       "      <th>900</th>\n",
       "      <td>491418.66</td>\n",
       "      <td>Hearthstone</td>\n",
       "      <td>Collectible Card Game</td>\n",
       "    </tr>\n",
       "    <tr>\n",
       "      <th>901</th>\n",
       "      <td>442877.87</td>\n",
       "      <td>Hearthstone</td>\n",
       "      <td>Collectible Card Game</td>\n",
       "    </tr>\n",
       "    <tr>\n",
       "      <th>902</th>\n",
       "      <td>347798.00</td>\n",
       "      <td>Hearthstone</td>\n",
       "      <td>Collectible Card Game</td>\n",
       "    </tr>\n",
       "    <tr>\n",
       "      <th>903</th>\n",
       "      <td>341931.16</td>\n",
       "      <td>Hearthstone</td>\n",
       "      <td>Collectible Card Game</td>\n",
       "    </tr>\n",
       "    <tr>\n",
       "      <th>904</th>\n",
       "      <td>316781.57</td>\n",
       "      <td>Hearthstone</td>\n",
       "      <td>Collectible Card Game</td>\n",
       "    </tr>\n",
       "  </tbody>\n",
       "</table>\n",
       "</div>"
      ],
      "text/plain": [
       "     TotalUSDPrize                              Game  \\\n",
       "0       1822989.41  Counter-Strike: Global Offensive   \n",
       "1       1799288.57  Counter-Strike: Global Offensive   \n",
       "2       1787489.88  Counter-Strike: Global Offensive   \n",
       "3       1652350.75  Counter-Strike: Global Offensive   \n",
       "4       1416448.64  Counter-Strike: Global Offensive   \n",
       "100     6952596.58                            Dota 2   \n",
       "101     6470000.02                            Dota 2   \n",
       "102     6000411.96                            Dota 2   \n",
       "103     5554297.41                            Dota 2   \n",
       "104     5470902.57                            Dota 2   \n",
       "200     1257615.87                 League of Legends   \n",
       "201      954620.62                 League of Legends   \n",
       "202      915451.46                 League of Legends   \n",
       "203      913084.70                 League of Legends   \n",
       "204      810683.00                 League of Legends   \n",
       "300     3141395.05                          Fortnite   \n",
       "301     1923774.23                          Fortnite   \n",
       "302     1873138.80                          Fortnite   \n",
       "303     1536845.69                          Fortnite   \n",
       "304     1349767.32                          Fortnite   \n",
       "400      331108.68                         Overwatch   \n",
       "401      327424.24                         Overwatch   \n",
       "402      322184.16                         Overwatch   \n",
       "403      319657.20                         Overwatch   \n",
       "404      314548.25                         Overwatch   \n",
       "500      893336.55                      Starcraft II   \n",
       "501      886795.83                      Starcraft II   \n",
       "502      883148.24                      Starcraft II   \n",
       "503      794627.39                      Starcraft II   \n",
       "504      762437.00                      Starcraft II   \n",
       "600      464560.82               Heroes of the Storm   \n",
       "601      462790.78               Heroes of the Storm   \n",
       "602      427923.28               Heroes of the Storm   \n",
       "603      360093.52               Heroes of the Storm   \n",
       "604      353715.98               Heroes of the Storm   \n",
       "700      703953.94                              PUBG   \n",
       "701      610486.16                              PUBG   \n",
       "702      591248.41                              PUBG   \n",
       "703      585598.46                              PUBG   \n",
       "704      344350.25                              PUBG   \n",
       "800      465685.85                    Arena of Valor   \n",
       "801      416162.04                    Arena of Valor   \n",
       "802      399019.18                    Arena of Valor   \n",
       "803      399019.18                    Arena of Valor   \n",
       "804      399019.18                    Arena of Valor   \n",
       "900      491418.66                       Hearthstone   \n",
       "901      442877.87                       Hearthstone   \n",
       "902      347798.00                       Hearthstone   \n",
       "903      341931.16                       Hearthstone   \n",
       "904      316781.57                       Hearthstone   \n",
       "\n",
       "                               Genre  \n",
       "0               First-Person Shooter  \n",
       "1               First-Person Shooter  \n",
       "2               First-Person Shooter  \n",
       "3               First-Person Shooter  \n",
       "4               First-Person Shooter  \n",
       "100  Multiplayer Online Battle Arena  \n",
       "101  Multiplayer Online Battle Arena  \n",
       "102  Multiplayer Online Battle Arena  \n",
       "103  Multiplayer Online Battle Arena  \n",
       "104  Multiplayer Online Battle Arena  \n",
       "200  Multiplayer Online Battle Arena  \n",
       "201  Multiplayer Online Battle Arena  \n",
       "202  Multiplayer Online Battle Arena  \n",
       "203  Multiplayer Online Battle Arena  \n",
       "204  Multiplayer Online Battle Arena  \n",
       "300                    Battle Royale  \n",
       "301                    Battle Royale  \n",
       "302                    Battle Royale  \n",
       "303                    Battle Royale  \n",
       "304                    Battle Royale  \n",
       "400             First-Person Shooter  \n",
       "401             First-Person Shooter  \n",
       "402             First-Person Shooter  \n",
       "403             First-Person Shooter  \n",
       "404             First-Person Shooter  \n",
       "500                         Strategy  \n",
       "501                         Strategy  \n",
       "502                         Strategy  \n",
       "503                         Strategy  \n",
       "504                         Strategy  \n",
       "600  Multiplayer Online Battle Arena  \n",
       "601  Multiplayer Online Battle Arena  \n",
       "602  Multiplayer Online Battle Arena  \n",
       "603  Multiplayer Online Battle Arena  \n",
       "604  Multiplayer Online Battle Arena  \n",
       "700                    Battle Royale  \n",
       "701                    Battle Royale  \n",
       "702                    Battle Royale  \n",
       "703                    Battle Royale  \n",
       "704                    Battle Royale  \n",
       "800  Multiplayer Online Battle Arena  \n",
       "801  Multiplayer Online Battle Arena  \n",
       "802  Multiplayer Online Battle Arena  \n",
       "803  Multiplayer Online Battle Arena  \n",
       "804  Multiplayer Online Battle Arena  \n",
       "900            Collectible Card Game  \n",
       "901            Collectible Card Game  \n",
       "902            Collectible Card Game  \n",
       "903            Collectible Card Game  \n",
       "904            Collectible Card Game  "
      ]
     },
     "execution_count": 8,
     "metadata": {},
     "output_type": "execute_result"
    }
   ],
   "source": [
    "# Important to note, all games were play same amount of times (100)\n",
    "games = players[['TotalUSDPrize', 'Game', 'Genre']]\n",
    "games_grouped = games.groupby('Game')\n",
    "games_grouped.head()#.sort_values(ascending=False)"
   ]
  },
  {
   "cell_type": "code",
   "execution_count": 9,
   "metadata": {},
   "outputs": [
    {
     "data": {
      "application/vnd.jupyter.widget-view+json": {
       "model_id": "089575c3c92b4f9a93329f1a73099deb",
       "version_major": 2,
       "version_minor": 0
      },
      "text/plain": [
       "HBox(children=(HTML(value='Summarize dataset'), FloatProgress(value=0.0, max=21.0), HTML(value='')))"
      ]
     },
     "metadata": {},
     "output_type": "display_data"
    },
    {
     "name": "stdout",
     "output_type": "stream",
     "text": [
      "\n"
     ]
    },
    {
     "data": {
      "application/vnd.jupyter.widget-view+json": {
       "model_id": "37a971efad9d4e13bbcd22daa986dfb7",
       "version_major": 2,
       "version_minor": 0
      },
      "text/plain": [
       "HBox(children=(HTML(value='Generate report structure'), FloatProgress(value=0.0, max=1.0), HTML(value='')))"
      ]
     },
     "metadata": {},
     "output_type": "display_data"
    },
    {
     "name": "stdout",
     "output_type": "stream",
     "text": [
      "\n"
     ]
    },
    {
     "data": {
      "application/vnd.jupyter.widget-view+json": {
       "model_id": "",
       "version_major": 2,
       "version_minor": 0
      },
      "text/plain": [
       "HBox(children=(HTML(value='Render widgets'), FloatProgress(value=0.0, max=1.0), HTML(value='')))"
      ]
     },
     "metadata": {},
     "output_type": "display_data"
    },
    {
     "data": {
      "application/vnd.jupyter.widget-view+json": {
       "model_id": "dd418cceda0143ccaba8854d0d312ba6",
       "version_major": 2,
       "version_minor": 0
      },
      "text/plain": [
       "VBox(children=(Tab(children=(Tab(children=(GridBox(children=(VBox(children=(GridspecLayout(children=(HTML(valu…"
      ]
     },
     "metadata": {},
     "output_type": "display_data"
    }
   ],
   "source": [
    "# Summary of everything\n",
    "profile = pp.ProfileReport(players_df, title='Pandas Profiling Report', explorative=True)\n",
    "profile.to_widgets()"
   ]
  },
  {
   "cell_type": "markdown",
   "metadata": {},
   "source": [
    "# Plotting individual games"
   ]
  },
  {
   "cell_type": "code",
   "execution_count": null,
   "metadata": {},
   "outputs": [],
   "source": [
    "games_individual_sorted = games.sort_values(ascending=False, by='TotalUSDPrize')\n",
    "games_individual_sorted_k = games_individual_sorted['TotalUSDPrize']#.apply(k_format)\n",
    "games_individual_sorted_k.head()"
   ]
  },
  {
   "cell_type": "code",
   "execution_count": null,
   "metadata": {
    "scrolled": true
   },
   "outputs": [],
   "source": [
    "unique_names = games_grouped_individual_sorted.Game.unique()\n",
    "\n",
    "unique_names"
   ]
  },
  {
   "cell_type": "code",
   "execution_count": null,
   "metadata": {},
   "outputs": [],
   "source": [
    "'''df_dict = {elem : pd.DataFrame for elem in unique_names}\n",
    "\n",
    "for key in df_dict.keys():\n",
    "    df_dict[key] = games_grouped_individual_sorted[:][games_grouped_individual_sorted.Game == key]'''"
   ]
  },
  {
   "cell_type": "code",
   "execution_count": null,
   "metadata": {},
   "outputs": [],
   "source": [
    "df_dict['PUBG']"
   ]
  },
  {
   "cell_type": "code",
   "execution_count": null,
   "metadata": {},
   "outputs": [],
   "source": [
    "#fig, ax = plt.subplots(figsize=(14,10))\n",
    "\n",
    "ax = games_grouped_individual_sorted['TotalUSDPrize'].hist(figsize=(14,14), bins=50)\n",
    "\n",
    "#ax.hist(individual_game_prizes)\n",
    "\n",
    "ax.set_title('Prize Earnings Per Game')\n",
    "ax.set_xlabel('Individual_Games')\n",
    "ax.set_ylabel('Prize_USD')\n",
    "ax.set_yticks([1000000, 2000000, 3000000, 4000000, 5000000, 6000000, 7000000])\n",
    "ax.set_yticklabels(['$1m','$2m','$3m','$4m', '$5m', '$6m', '$7m'])\n",
    "#ax.tick_params(labelbottom=False)\n",
    "\n",
    "fig = ax.figure\n",
    "fig.set_size_inches(14,14)\n",
    "fig.tight_layout(pad=1)"
   ]
  },
  {
   "cell_type": "markdown",
   "metadata": {},
   "source": [
    "# Analyzing prize money grouped by game in Players DataFrame"
   ]
  },
  {
   "cell_type": "code",
   "execution_count": null,
   "metadata": {},
   "outputs": [],
   "source": [
    "games_max_prize = games.groupby('Game')['TotalUSDPrize'].agg(np.max)\n",
    "games_max_prize_sorted = games_max_prize.sort_values(ascending=False).apply(mil_format)\n",
    "#games_max_prize_sorted"
   ]
  },
  {
   "cell_type": "code",
   "execution_count": null,
   "metadata": {},
   "outputs": [],
   "source": [
    "games_min_prize = games.groupby('Game')['TotalUSDPrize'].agg(np.min)\n",
    "games_min_prize_sorted = games_min_prize.sort_values(ascending=False).apply(k_format)\n",
    "#games_min_prize_sorted"
   ]
  },
  {
   "cell_type": "code",
   "execution_count": null,
   "metadata": {},
   "outputs": [],
   "source": [
    "game_total_prizes = games.groupby('Game')['TotalUSDPrize'].agg(np.sum)\n",
    "game_total_prizes_mil = game_total_prizes.apply(mil_format).sort_values(ascending=True)\n",
    "#game_total_prizes_mil"
   ]
  },
  {
   "cell_type": "code",
   "execution_count": null,
   "metadata": {},
   "outputs": [],
   "source": [
    "ax = game_total_prizes.sort_values(ascending=True).plot.barh()\n",
    "\n",
    "ax.set_title('Total Prize Per Game')\n",
    "ax.set_xlabel('Prize_USD (Millions)')\n",
    "ax.set_ylabel('Game')\n",
    "ax.set_xticks(ticks=[25000000, 50000000, 75000000, 100000000, 125000000, 150000000, 175000000, 200000000])\n",
    "ax.set_xticklabels(['$25m','$50m','$75m','$100m','$125m','$150m','$175m','$200m'])\n",
    "\n",
    "fig = ax.figure\n",
    "fig.set_size_inches(14,6)\n",
    "fig.tight_layout(pad=1)\n",
    "#fig.savefig('images/hist_prize_per_game.png')\n",
    "\n",
    "#plt.close()"
   ]
  },
  {
   "cell_type": "code",
   "execution_count": null,
   "metadata": {},
   "outputs": [],
   "source": [
    "ax = game_total_prizes.sort_values().plot.pie(autopct='%1.1f%%')\n",
    "\n",
    "ax.set_title('Prize Share Per Game')\n",
    "ax.set_ylabel('')\n",
    "\n",
    "fig = ax.figure\n",
    "fig.set_size_inches(18,10)\n",
    "#fig.savefig('images/pie_prize_share.png')"
   ]
  },
  {
   "cell_type": "markdown",
   "metadata": {},
   "source": [
    "# Analyzing prize money grouped by Country in Players DataFrame"
   ]
  },
  {
   "cell_type": "code",
   "execution_count": null,
   "metadata": {},
   "outputs": [],
   "source": [
    "country_total_earnings = players.groupby('CountryCode')['TotalUSDPrize'].sum()\n",
    "country_total_earnings_sorted = country_total_earnings.sort_values(ascending=False).apply(mil_format)\n",
    "#country_total_earnings_sorted"
   ]
  },
  {
   "cell_type": "code",
   "execution_count": null,
   "metadata": {},
   "outputs": [],
   "source": [
    "country_average_earnings = players.groupby('CountryCode')['TotalUSDPrize'].mean()\n",
    "country_average_earnings_sorted = country_average_earnings.sort_values(ascending=False).apply(k_format)\n",
    "#country_average_earnings_sorted"
   ]
  },
  {
   "cell_type": "code",
   "execution_count": null,
   "metadata": {},
   "outputs": [],
   "source": [
    "country_total_earnings.describe()"
   ]
  },
  {
   "cell_type": "code",
   "execution_count": null,
   "metadata": {},
   "outputs": [],
   "source": [
    "ax = country_total_earnings.sort_values().plot.barh()\n",
    "\n",
    "ax.set_title('Total Prize Earnings Per Country')\n",
    "ax.set_xlabel('Prize_USD (Millions)')\n",
    "ax.set_ylabel('Game')\n",
    "ax.set_xticks(ticks=[25000000, 50000000, 75000000, 100000000])\n",
    "ax.set_xticklabels(['$25m','$50m','$75m','$100m'])\n",
    "\n",
    "fig = ax.figure\n",
    "fig.set_size_inches(14,14)\n",
    "fig.tight_layout(pad=1)"
   ]
  },
  {
   "cell_type": "code",
   "execution_count": null,
   "metadata": {},
   "outputs": [],
   "source": [
    "ax = country_average_earnings.sort_values().plot.barh()\n",
    "\n",
    "ax.set_title('Average Prize Per Game Grouped By Country')\n",
    "ax.set_xlabel('Prize_USD (Millions)')\n",
    "ax.set_ylabel('Game')\n",
    "ax.set_xticks(ticks=[1000000, 2000000, 3000000, 4000000, 5000000])\n",
    "ax.set_xticklabels(['$1m','$2m','$3m','$4m','$5m'])\n",
    "\n",
    "fig = ax.figure\n",
    "fig.set_size_inches(14,14)\n",
    "fig.tight_layout(pad=1)"
   ]
  }
 ],
 "metadata": {
  "kernelspec": {
   "display_name": "Python 3",
   "language": "python",
   "name": "python3"
  },
  "language_info": {
   "codemirror_mode": {
    "name": "ipython",
    "version": 3
   },
   "file_extension": ".py",
   "mimetype": "text/x-python",
   "name": "python",
   "nbconvert_exporter": "python",
   "pygments_lexer": "ipython3",
   "version": "3.7.9"
  }
 },
 "nbformat": 4,
 "nbformat_minor": 2
}
