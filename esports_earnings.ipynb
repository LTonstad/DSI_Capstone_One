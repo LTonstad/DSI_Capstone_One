{
 "cells": [
  {
   "cell_type": "markdown",
   "metadata": {},
   "source": [
    "# Creating imports, formats etc."
   ]
  },
  {
   "cell_type": "code",
   "execution_count": 14,
   "metadata": {},
   "outputs": [],
   "source": [
    "import numpy as np\n",
    "import pandas as pd\n",
    "import scipy.stats as stats\n",
    "import matplotlib.pyplot as plt\n",
    "\n",
    "plt.style.use('fivethirtyeight')"
   ]
  },
  {
   "cell_type": "code",
   "execution_count": 15,
   "metadata": {},
   "outputs": [],
   "source": [
    "def mil_format(x):\n",
    "    return \"${:.1f}M\".format(x/1000000)"
   ]
  },
  {
   "cell_type": "code",
   "execution_count": 16,
   "metadata": {},
   "outputs": [],
   "source": [
    "def k_format(x):\n",
    "    return \"${:.1f}K\".format(x/1000)"
   ]
  },
  {
   "cell_type": "markdown",
   "metadata": {},
   "source": [
    "# Pulling data, '_df' is the backup and the others are meant to modify"
   ]
  },
  {
   "cell_type": "code",
   "execution_count": 17,
   "metadata": {},
   "outputs": [
    {
     "data": {
      "text/html": [
       "<div>\n",
       "<style scoped>\n",
       "    .dataframe tbody tr th:only-of-type {\n",
       "        vertical-align: middle;\n",
       "    }\n",
       "\n",
       "    .dataframe tbody tr th {\n",
       "        vertical-align: top;\n",
       "    }\n",
       "\n",
       "    .dataframe thead th {\n",
       "        text-align: right;\n",
       "    }\n",
       "</style>\n",
       "<table border=\"1\" class=\"dataframe\">\n",
       "  <thead>\n",
       "    <tr style=\"text-align: right;\">\n",
       "      <th></th>\n",
       "      <th>PlayerId</th>\n",
       "      <th>NameFirst</th>\n",
       "      <th>NameLast</th>\n",
       "      <th>CurrentHandle</th>\n",
       "      <th>CountryCode</th>\n",
       "      <th>TotalUSDPrize</th>\n",
       "      <th>Game</th>\n",
       "      <th>Genre</th>\n",
       "    </tr>\n",
       "  </thead>\n",
       "  <tbody>\n",
       "    <tr>\n",
       "      <th>0</th>\n",
       "      <td>3883</td>\n",
       "      <td>Peter</td>\n",
       "      <td>Rasmussen</td>\n",
       "      <td>dupreeh</td>\n",
       "      <td>dk</td>\n",
       "      <td>1822989.41</td>\n",
       "      <td>Counter-Strike: Global Offensive</td>\n",
       "      <td>First-Person Shooter</td>\n",
       "    </tr>\n",
       "    <tr>\n",
       "      <th>1</th>\n",
       "      <td>3679</td>\n",
       "      <td>Andreas</td>\n",
       "      <td>Højsleth</td>\n",
       "      <td>Xyp9x</td>\n",
       "      <td>dk</td>\n",
       "      <td>1799288.57</td>\n",
       "      <td>Counter-Strike: Global Offensive</td>\n",
       "      <td>First-Person Shooter</td>\n",
       "    </tr>\n",
       "    <tr>\n",
       "      <th>2</th>\n",
       "      <td>3885</td>\n",
       "      <td>Nicolai</td>\n",
       "      <td>Reedtz</td>\n",
       "      <td>dev1ce</td>\n",
       "      <td>dk</td>\n",
       "      <td>1787489.88</td>\n",
       "      <td>Counter-Strike: Global Offensive</td>\n",
       "      <td>First-Person Shooter</td>\n",
       "    </tr>\n",
       "    <tr>\n",
       "      <th>3</th>\n",
       "      <td>3672</td>\n",
       "      <td>Lukas</td>\n",
       "      <td>Rossander</td>\n",
       "      <td>gla1ve</td>\n",
       "      <td>dk</td>\n",
       "      <td>1652350.75</td>\n",
       "      <td>Counter-Strike: Global Offensive</td>\n",
       "      <td>First-Person Shooter</td>\n",
       "    </tr>\n",
       "    <tr>\n",
       "      <th>4</th>\n",
       "      <td>17800</td>\n",
       "      <td>Emil</td>\n",
       "      <td>Reif</td>\n",
       "      <td>Magisk</td>\n",
       "      <td>dk</td>\n",
       "      <td>1416448.64</td>\n",
       "      <td>Counter-Strike: Global Offensive</td>\n",
       "      <td>First-Person Shooter</td>\n",
       "    </tr>\n",
       "  </tbody>\n",
       "</table>\n",
       "</div>"
      ],
      "text/plain": [
       "   PlayerId NameFirst   NameLast CurrentHandle CountryCode  TotalUSDPrize  \\\n",
       "0      3883     Peter  Rasmussen       dupreeh          dk     1822989.41   \n",
       "1      3679   Andreas   Højsleth         Xyp9x          dk     1799288.57   \n",
       "2      3885   Nicolai     Reedtz        dev1ce          dk     1787489.88   \n",
       "3      3672     Lukas  Rossander        gla1ve          dk     1652350.75   \n",
       "4     17800      Emil       Reif        Magisk          dk     1416448.64   \n",
       "\n",
       "                               Game                 Genre  \n",
       "0  Counter-Strike: Global Offensive  First-Person Shooter  \n",
       "1  Counter-Strike: Global Offensive  First-Person Shooter  \n",
       "2  Counter-Strike: Global Offensive  First-Person Shooter  \n",
       "3  Counter-Strike: Global Offensive  First-Person Shooter  \n",
       "4  Counter-Strike: Global Offensive  First-Person Shooter  "
      ]
     },
     "execution_count": 17,
     "metadata": {},
     "output_type": "execute_result"
    }
   ],
   "source": [
    "players_df = pd.read_csv('data/highest_earning_players.csv')\n",
    "players = pd.read_csv('data/highest_earning_players.csv')\n",
    "players_df.head()"
   ]
  },
  {
   "cell_type": "code",
   "execution_count": 18,
   "metadata": {},
   "outputs": [],
   "source": [
    "# Important to note, all games were play same amount of times (100)\n",
    "games = players[['TotalUSDPrize', 'Game', 'Genre']]\n",
    "games_grouped = games.groupby('Game')\n",
    "#games_grouped.head(1)"
   ]
  },
  {
   "cell_type": "code",
   "execution_count": 19,
   "metadata": {
    "scrolled": true
   },
   "outputs": [
    {
     "data": {
      "text/html": [
       "<div>\n",
       "<style scoped>\n",
       "    .dataframe tbody tr th:only-of-type {\n",
       "        vertical-align: middle;\n",
       "    }\n",
       "\n",
       "    .dataframe tbody tr th {\n",
       "        vertical-align: top;\n",
       "    }\n",
       "\n",
       "    .dataframe thead th {\n",
       "        text-align: right;\n",
       "    }\n",
       "</style>\n",
       "<table border=\"1\" class=\"dataframe\">\n",
       "  <thead>\n",
       "    <tr style=\"text-align: right;\">\n",
       "      <th></th>\n",
       "      <th>TeamId</th>\n",
       "      <th>TeamName</th>\n",
       "      <th>TotalUSDPrize</th>\n",
       "      <th>TotalTournaments</th>\n",
       "      <th>Game</th>\n",
       "      <th>Genre</th>\n",
       "    </tr>\n",
       "  </thead>\n",
       "  <tbody>\n",
       "    <tr>\n",
       "      <th>0</th>\n",
       "      <td>760</td>\n",
       "      <td>San Francisco Shock</td>\n",
       "      <td>3105000.0</td>\n",
       "      <td>7</td>\n",
       "      <td>Overwatch</td>\n",
       "      <td>First-Person Shooter</td>\n",
       "    </tr>\n",
       "    <tr>\n",
       "      <th>1</th>\n",
       "      <td>776</td>\n",
       "      <td>London Spitfire</td>\n",
       "      <td>1591136.5</td>\n",
       "      <td>13</td>\n",
       "      <td>Overwatch</td>\n",
       "      <td>First-Person Shooter</td>\n",
       "    </tr>\n",
       "    <tr>\n",
       "      <th>2</th>\n",
       "      <td>768</td>\n",
       "      <td>New York Excelsior</td>\n",
       "      <td>1572618.5</td>\n",
       "      <td>18</td>\n",
       "      <td>Overwatch</td>\n",
       "      <td>First-Person Shooter</td>\n",
       "    </tr>\n",
       "    <tr>\n",
       "      <th>3</th>\n",
       "      <td>773</td>\n",
       "      <td>Philadelphia Fusion</td>\n",
       "      <td>1186278.5</td>\n",
       "      <td>15</td>\n",
       "      <td>Overwatch</td>\n",
       "      <td>First-Person Shooter</td>\n",
       "    </tr>\n",
       "    <tr>\n",
       "      <th>4</th>\n",
       "      <td>766</td>\n",
       "      <td>Seoul Dynasty</td>\n",
       "      <td>1130000.0</td>\n",
       "      <td>6</td>\n",
       "      <td>Overwatch</td>\n",
       "      <td>First-Person Shooter</td>\n",
       "    </tr>\n",
       "  </tbody>\n",
       "</table>\n",
       "</div>"
      ],
      "text/plain": [
       "   TeamId             TeamName  TotalUSDPrize  TotalTournaments       Game  \\\n",
       "0     760  San Francisco Shock      3105000.0                 7  Overwatch   \n",
       "1     776      London Spitfire      1591136.5                13  Overwatch   \n",
       "2     768   New York Excelsior      1572618.5                18  Overwatch   \n",
       "3     773  Philadelphia Fusion      1186278.5                15  Overwatch   \n",
       "4     766        Seoul Dynasty      1130000.0                 6  Overwatch   \n",
       "\n",
       "                  Genre  \n",
       "0  First-Person Shooter  \n",
       "1  First-Person Shooter  \n",
       "2  First-Person Shooter  \n",
       "3  First-Person Shooter  \n",
       "4  First-Person Shooter  "
      ]
     },
     "execution_count": 19,
     "metadata": {},
     "output_type": "execute_result"
    }
   ],
   "source": [
    "teams_df = pd.read_csv('data/highest_earning_teams.csv')\n",
    "teams = pd.read_csv('data/highest_earning_teams.csv')\n",
    "teams_df.head()"
   ]
  },
  {
   "cell_type": "code",
   "execution_count": 20,
   "metadata": {
    "scrolled": true
   },
   "outputs": [
    {
     "data": {
      "text/html": [
       "<div>\n",
       "<style scoped>\n",
       "    .dataframe tbody tr th:only-of-type {\n",
       "        vertical-align: middle;\n",
       "    }\n",
       "\n",
       "    .dataframe tbody tr th {\n",
       "        vertical-align: top;\n",
       "    }\n",
       "\n",
       "    .dataframe thead th {\n",
       "        text-align: right;\n",
       "    }\n",
       "</style>\n",
       "<table border=\"1\" class=\"dataframe\">\n",
       "  <thead>\n",
       "    <tr style=\"text-align: right;\">\n",
       "      <th></th>\n",
       "      <th>Continent_Name</th>\n",
       "      <th>Continent_Code</th>\n",
       "      <th>Country_Name</th>\n",
       "      <th>Two_Letter_Country_Code</th>\n",
       "      <th>Three_Letter_Country_Code</th>\n",
       "      <th>Country_Number</th>\n",
       "    </tr>\n",
       "  </thead>\n",
       "  <tbody>\n",
       "    <tr>\n",
       "      <th>0</th>\n",
       "      <td>Asia</td>\n",
       "      <td>AS</td>\n",
       "      <td>Afghanistan, Islamic Republic of</td>\n",
       "      <td>AF</td>\n",
       "      <td>AFG</td>\n",
       "      <td>4.0</td>\n",
       "    </tr>\n",
       "    <tr>\n",
       "      <th>1</th>\n",
       "      <td>Europe</td>\n",
       "      <td>EU</td>\n",
       "      <td>Albania, Republic of</td>\n",
       "      <td>AL</td>\n",
       "      <td>ALB</td>\n",
       "      <td>8.0</td>\n",
       "    </tr>\n",
       "    <tr>\n",
       "      <th>2</th>\n",
       "      <td>Antarctica</td>\n",
       "      <td>AN</td>\n",
       "      <td>Antarctica (the territory South of 60 deg S)</td>\n",
       "      <td>AQ</td>\n",
       "      <td>ATA</td>\n",
       "      <td>10.0</td>\n",
       "    </tr>\n",
       "    <tr>\n",
       "      <th>3</th>\n",
       "      <td>Africa</td>\n",
       "      <td>AF</td>\n",
       "      <td>Algeria, People's Democratic Republic of</td>\n",
       "      <td>DZ</td>\n",
       "      <td>DZA</td>\n",
       "      <td>12.0</td>\n",
       "    </tr>\n",
       "    <tr>\n",
       "      <th>4</th>\n",
       "      <td>Oceania</td>\n",
       "      <td>OC</td>\n",
       "      <td>American Samoa</td>\n",
       "      <td>AS</td>\n",
       "      <td>ASM</td>\n",
       "      <td>16.0</td>\n",
       "    </tr>\n",
       "  </tbody>\n",
       "</table>\n",
       "</div>"
      ],
      "text/plain": [
       "  Continent_Name Continent_Code                                  Country_Name  \\\n",
       "0           Asia             AS              Afghanistan, Islamic Republic of   \n",
       "1         Europe             EU                          Albania, Republic of   \n",
       "2     Antarctica             AN  Antarctica (the territory South of 60 deg S)   \n",
       "3         Africa             AF      Algeria, People's Democratic Republic of   \n",
       "4        Oceania             OC                                American Samoa   \n",
       "\n",
       "  Two_Letter_Country_Code Three_Letter_Country_Code  Country_Number  \n",
       "0                      AF                       AFG             4.0  \n",
       "1                      AL                       ALB             8.0  \n",
       "2                      AQ                       ATA            10.0  \n",
       "3                      DZ                       DZA            12.0  \n",
       "4                      AS                       ASM            16.0  "
      ]
     },
     "execution_count": 20,
     "metadata": {},
     "output_type": "execute_result"
    }
   ],
   "source": [
    "countries_df = pd.read_csv('data/country-and-continent-codes-list.csv')\n",
    "countries = pd.read_csv('data/country-and-continent-codes-list.csv')\n",
    "countries_df.head()"
   ]
  },
  {
   "cell_type": "code",
   "execution_count": 21,
   "metadata": {},
   "outputs": [
    {
     "data": {
      "text/html": [
       "<div>\n",
       "<style scoped>\n",
       "    .dataframe tbody tr th:only-of-type {\n",
       "        vertical-align: middle;\n",
       "    }\n",
       "\n",
       "    .dataframe tbody tr th {\n",
       "        vertical-align: top;\n",
       "    }\n",
       "\n",
       "    .dataframe thead th {\n",
       "        text-align: right;\n",
       "    }\n",
       "</style>\n",
       "<table border=\"1\" class=\"dataframe\">\n",
       "  <thead>\n",
       "    <tr style=\"text-align: right;\">\n",
       "      <th></th>\n",
       "      <th>Country_Name</th>\n",
       "      <th>Two_Letter_Country_Code</th>\n",
       "    </tr>\n",
       "  </thead>\n",
       "  <tbody>\n",
       "    <tr>\n",
       "      <th>0</th>\n",
       "      <td>Afghanistan, Islamic Republic of</td>\n",
       "      <td>AF</td>\n",
       "    </tr>\n",
       "    <tr>\n",
       "      <th>1</th>\n",
       "      <td>Albania, Republic of</td>\n",
       "      <td>AL</td>\n",
       "    </tr>\n",
       "    <tr>\n",
       "      <th>2</th>\n",
       "      <td>Antarctica (the territory South of 60 deg S)</td>\n",
       "      <td>AQ</td>\n",
       "    </tr>\n",
       "    <tr>\n",
       "      <th>3</th>\n",
       "      <td>Algeria, People's Democratic Republic of</td>\n",
       "      <td>DZ</td>\n",
       "    </tr>\n",
       "    <tr>\n",
       "      <th>4</th>\n",
       "      <td>American Samoa</td>\n",
       "      <td>AS</td>\n",
       "    </tr>\n",
       "    <tr>\n",
       "      <th>...</th>\n",
       "      <td>...</td>\n",
       "      <td>...</td>\n",
       "    </tr>\n",
       "    <tr>\n",
       "      <th>257</th>\n",
       "      <td>Zambia, Republic of</td>\n",
       "      <td>ZM</td>\n",
       "    </tr>\n",
       "    <tr>\n",
       "      <th>258</th>\n",
       "      <td>Disputed Territory</td>\n",
       "      <td>XX</td>\n",
       "    </tr>\n",
       "    <tr>\n",
       "      <th>259</th>\n",
       "      <td>Iraq-Saudi Arabia Neutral Zone</td>\n",
       "      <td>XE</td>\n",
       "    </tr>\n",
       "    <tr>\n",
       "      <th>260</th>\n",
       "      <td>United Nations Neutral Zone</td>\n",
       "      <td>XD</td>\n",
       "    </tr>\n",
       "    <tr>\n",
       "      <th>261</th>\n",
       "      <td>Spratly Islands</td>\n",
       "      <td>XS</td>\n",
       "    </tr>\n",
       "  </tbody>\n",
       "</table>\n",
       "<p>262 rows × 2 columns</p>\n",
       "</div>"
      ],
      "text/plain": [
       "                                     Country_Name Two_Letter_Country_Code\n",
       "0                Afghanistan, Islamic Republic of                      AF\n",
       "1                            Albania, Republic of                      AL\n",
       "2    Antarctica (the territory South of 60 deg S)                      AQ\n",
       "3        Algeria, People's Democratic Republic of                      DZ\n",
       "4                                  American Samoa                      AS\n",
       "..                                            ...                     ...\n",
       "257                           Zambia, Republic of                      ZM\n",
       "258                            Disputed Territory                      XX\n",
       "259                Iraq-Saudi Arabia Neutral Zone                      XE\n",
       "260                   United Nations Neutral Zone                      XD\n",
       "261                               Spratly Islands                      XS\n",
       "\n",
       "[262 rows x 2 columns]"
      ]
     },
     "execution_count": 21,
     "metadata": {},
     "output_type": "execute_result"
    }
   ],
   "source": [
    "country = countries_df[['Country_Name', 'Two_Letter_Country_Code']]\n",
    "country"
   ]
  },
  {
   "cell_type": "markdown",
   "metadata": {},
   "source": [
    "# Adding Columns\n",
    "\n",
    "## Adding Prize per Tournament"
   ]
  },
  {
   "cell_type": "code",
   "execution_count": 22,
   "metadata": {},
   "outputs": [
    {
     "data": {
      "text/html": [
       "<div>\n",
       "<style scoped>\n",
       "    .dataframe tbody tr th:only-of-type {\n",
       "        vertical-align: middle;\n",
       "    }\n",
       "\n",
       "    .dataframe tbody tr th {\n",
       "        vertical-align: top;\n",
       "    }\n",
       "\n",
       "    .dataframe thead th {\n",
       "        text-align: right;\n",
       "    }\n",
       "</style>\n",
       "<table border=\"1\" class=\"dataframe\">\n",
       "  <thead>\n",
       "    <tr style=\"text-align: right;\">\n",
       "      <th></th>\n",
       "      <th>TeamId</th>\n",
       "      <th>TeamName</th>\n",
       "      <th>TotalUSDPrize</th>\n",
       "      <th>TotalTournaments</th>\n",
       "      <th>Game</th>\n",
       "      <th>Genre</th>\n",
       "      <th>PrizePerTournament</th>\n",
       "    </tr>\n",
       "  </thead>\n",
       "  <tbody>\n",
       "    <tr>\n",
       "      <th>0</th>\n",
       "      <td>760</td>\n",
       "      <td>San Francisco Shock</td>\n",
       "      <td>3105000.0</td>\n",
       "      <td>7</td>\n",
       "      <td>Overwatch</td>\n",
       "      <td>First-Person Shooter</td>\n",
       "      <td>443571.43</td>\n",
       "    </tr>\n",
       "    <tr>\n",
       "      <th>1</th>\n",
       "      <td>776</td>\n",
       "      <td>London Spitfire</td>\n",
       "      <td>1591136.5</td>\n",
       "      <td>13</td>\n",
       "      <td>Overwatch</td>\n",
       "      <td>First-Person Shooter</td>\n",
       "      <td>122395.12</td>\n",
       "    </tr>\n",
       "    <tr>\n",
       "      <th>2</th>\n",
       "      <td>768</td>\n",
       "      <td>New York Excelsior</td>\n",
       "      <td>1572618.5</td>\n",
       "      <td>18</td>\n",
       "      <td>Overwatch</td>\n",
       "      <td>First-Person Shooter</td>\n",
       "      <td>87367.69</td>\n",
       "    </tr>\n",
       "    <tr>\n",
       "      <th>3</th>\n",
       "      <td>773</td>\n",
       "      <td>Philadelphia Fusion</td>\n",
       "      <td>1186278.5</td>\n",
       "      <td>15</td>\n",
       "      <td>Overwatch</td>\n",
       "      <td>First-Person Shooter</td>\n",
       "      <td>79085.23</td>\n",
       "    </tr>\n",
       "    <tr>\n",
       "      <th>4</th>\n",
       "      <td>766</td>\n",
       "      <td>Seoul Dynasty</td>\n",
       "      <td>1130000.0</td>\n",
       "      <td>6</td>\n",
       "      <td>Overwatch</td>\n",
       "      <td>First-Person Shooter</td>\n",
       "      <td>188333.33</td>\n",
       "    </tr>\n",
       "  </tbody>\n",
       "</table>\n",
       "</div>"
      ],
      "text/plain": [
       "   TeamId             TeamName  TotalUSDPrize  TotalTournaments       Game  \\\n",
       "0     760  San Francisco Shock      3105000.0                 7  Overwatch   \n",
       "1     776      London Spitfire      1591136.5                13  Overwatch   \n",
       "2     768   New York Excelsior      1572618.5                18  Overwatch   \n",
       "3     773  Philadelphia Fusion      1186278.5                15  Overwatch   \n",
       "4     766        Seoul Dynasty      1130000.0                 6  Overwatch   \n",
       "\n",
       "                  Genre  PrizePerTournament  \n",
       "0  First-Person Shooter           443571.43  \n",
       "1  First-Person Shooter           122395.12  \n",
       "2  First-Person Shooter            87367.69  \n",
       "3  First-Person Shooter            79085.23  \n",
       "4  First-Person Shooter           188333.33  "
      ]
     },
     "execution_count": 22,
     "metadata": {},
     "output_type": "execute_result"
    }
   ],
   "source": [
    "# Adding column for prize per tournament to teams dataframe\n",
    "teams['PrizePerTournament'] = round((teams['TotalUSDPrize'] / teams['TotalTournaments']), ndigits=2)\n",
    "teams.head()"
   ]
  },
  {
   "cell_type": "markdown",
   "metadata": {},
   "source": [
    "## Adding Colors based on Genre"
   ]
  },
  {
   "cell_type": "code",
   "execution_count": 23,
   "metadata": {},
   "outputs": [],
   "source": [
    "team_colors_genre = ['firebrick', 'darkorange', 'forestgreen', 'dodgerblue', 'darkblue']"
   ]
  },
  {
   "cell_type": "code",
   "execution_count": 24,
   "metadata": {},
   "outputs": [],
   "source": [
    "team_color_conditions = [\n",
    "    (teams['Genre'] == 'Strategy'),\n",
    "    (teams['Genre'] == 'Collectible Card Game'),\n",
    "    (teams['Genre'] == 'First-Person Shooter'),\n",
    "    (teams['Genre'] == 'Battle Royal'),\n",
    "    (teams['Genre'] == 'Multiplayer Online Battle Arena')\n",
    "]"
   ]
  },
  {
   "cell_type": "code",
   "execution_count": 25,
   "metadata": {},
   "outputs": [],
   "source": [
    "teams['GenreColor'] = np.select(team_color_conditions, team_colors_genre)\n",
    "teams_sorted_avg = teams.sort_values(ascending=False, by='PrizePerTournament')\n",
    "#teams_sorted_avg.head()"
   ]
  },
  {
   "cell_type": "markdown",
   "metadata": {},
   "source": [
    "# Team Data\n",
    "\n",
    "## Which teams make the most?"
   ]
  },
  {
   "cell_type": "code",
   "execution_count": 12,
   "metadata": {
    "scrolled": true
   },
   "outputs": [],
   "source": [
    "teams_totals = teams.groupby('TeamName').sum()\n",
    "teams_totals_by_total_prize = teams_totals.sort_values(ascending=False, by='TotalUSDPrize')\n",
    "#teams_totals_by_total_prize.head()"
   ]
  },
  {
   "cell_type": "code",
   "execution_count": 13,
   "metadata": {
    "scrolled": true
   },
   "outputs": [],
   "source": [
    "teams_totals_by_total_tournaments = teams_totals.sort_values(ascending=False, by='TotalTournaments')\n",
    "#teams_totals_by_total_tournaments.head()"
   ]
  },
  {
   "cell_type": "code",
   "execution_count": 14,
   "metadata": {},
   "outputs": [
    {
     "data": {
      "text/html": [
       "<div>\n",
       "<style scoped>\n",
       "    .dataframe tbody tr th:only-of-type {\n",
       "        vertical-align: middle;\n",
       "    }\n",
       "\n",
       "    .dataframe tbody tr th {\n",
       "        vertical-align: top;\n",
       "    }\n",
       "\n",
       "    .dataframe thead th {\n",
       "        text-align: right;\n",
       "    }\n",
       "</style>\n",
       "<table border=\"1\" class=\"dataframe\">\n",
       "  <thead>\n",
       "    <tr style=\"text-align: right;\">\n",
       "      <th></th>\n",
       "      <th>TeamId</th>\n",
       "      <th>TotalUSDPrize</th>\n",
       "      <th>TotalTournaments</th>\n",
       "      <th>PrizePerTournament</th>\n",
       "    </tr>\n",
       "    <tr>\n",
       "      <th>TeamName</th>\n",
       "      <th></th>\n",
       "      <th></th>\n",
       "      <th></th>\n",
       "      <th></th>\n",
       "    </tr>\n",
       "  </thead>\n",
       "  <tbody>\n",
       "    <tr>\n",
       "      <th>Russian National Team</th>\n",
       "      <td>2905</td>\n",
       "      <td>1235976.36</td>\n",
       "      <td>13</td>\n",
       "      <td>572670.27</td>\n",
       "    </tr>\n",
       "    <tr>\n",
       "      <th>eStar Gaming</th>\n",
       "      <td>860</td>\n",
       "      <td>3251769.38</td>\n",
       "      <td>49</td>\n",
       "      <td>537174.86</td>\n",
       "    </tr>\n",
       "    <tr>\n",
       "      <th>OG</th>\n",
       "      <td>838</td>\n",
       "      <td>34297886.13</td>\n",
       "      <td>83</td>\n",
       "      <td>529698.57</td>\n",
       "    </tr>\n",
       "    <tr>\n",
       "      <th>San Francisco Shock</th>\n",
       "      <td>760</td>\n",
       "      <td>3105000.00</td>\n",
       "      <td>7</td>\n",
       "      <td>443571.43</td>\n",
       "    </tr>\n",
       "    <tr>\n",
       "      <th>Gen.G</th>\n",
       "      <td>4884</td>\n",
       "      <td>4142726.09</td>\n",
       "      <td>50</td>\n",
       "      <td>431727.77</td>\n",
       "    </tr>\n",
       "  </tbody>\n",
       "</table>\n",
       "</div>"
      ],
      "text/plain": [
       "                       TeamId  TotalUSDPrize  TotalTournaments  \\\n",
       "TeamName                                                         \n",
       "Russian National Team    2905     1235976.36                13   \n",
       "eStar Gaming              860     3251769.38                49   \n",
       "OG                        838    34297886.13                83   \n",
       "San Francisco Shock       760     3105000.00                 7   \n",
       "Gen.G                    4884     4142726.09                50   \n",
       "\n",
       "                       PrizePerTournament  \n",
       "TeamName                                   \n",
       "Russian National Team           572670.27  \n",
       "eStar Gaming                    537174.86  \n",
       "OG                              529698.57  \n",
       "San Francisco Shock             443571.43  \n",
       "Gen.G                           431727.77  "
      ]
     },
     "execution_count": 14,
     "metadata": {},
     "output_type": "execute_result"
    }
   ],
   "source": [
    "teams_totals_by_avg_prize = teams_totals.sort_values(ascending=False, by='PrizePerTournament')\n",
    "teams_totals_by_avg_prize.head()"
   ]
  },
  {
   "cell_type": "code",
   "execution_count": 15,
   "metadata": {},
   "outputs": [],
   "source": [
    "total_tourney = teams_sorted_avg['TotalTournaments']\n",
    "total_avg = teams_sorted_avg['PrizePerTournament']\n",
    "total_prize = teams_sorted_avg['TotalUSDPrize']\n",
    "team_colors = teams_sorted_avg['GenreColor']"
   ]
  },
  {
   "cell_type": "code",
   "execution_count": 21,
   "metadata": {
    "scrolled": false
   },
   "outputs": [
    {
     "data": {
      "image/png": "[encoded data removed]",
      "text/plain": [
       "<Figure size 1296x720 with 1 Axes>"
      ]
     },
     "metadata": {},
     "output_type": "display_data"
    }
   ],
   "source": [
    "import matplotlib.cm as cm\n",
    "\n",
    "# Plotting\n",
    "fig, ax = plt.subplots(figsize=(18,10))\n",
    "l = ax.scatter(total_avg, total_prize, s=total_tourney, c=team_colors, alpha=0.6)\n",
    "\n",
    "# Colorbar\n",
    "#clb = fig.colorbar(l, orientation='horizontal')\n",
    "#clb.ax.set_title('Color')\n",
    "\n",
    "# Size Legend\n",
    "#sz = [total_tourney.min(), total_tourney.mean(), total_tourney.max()]\n",
    "#handles = [ax.scatter([],[],s=sz[i]) for i in range(len(sz))]\n",
    "#labels = [str(int(round(x, 0))) for x in sz]\n",
    "#fig.legend(handles=handles, labels=labels, loc='upper left', scatterpoints=1, title='Tournaments Attended')\n",
    "\n",
    "\n",
    "# Grid\n",
    "ax.grid(True)\n",
    "ax.set_title('Average Prize Per Tournament')\n",
    "\n",
    "ax.set_ylabel('Total Prize Earnings') # 'Total Prize Earnings'\n",
    "ax.set_yticks(ticks=[5000000, 10000000, 15000000, 20000000, 25000000, 30000000, 35000000])\n",
    "ax.set_yticklabels(['$5m','$10m','$15m','$20m','$25m','$30m','$35m'])\n",
    "\n",
    "ax.set_xlabel('Average Prize Earnings') # 'Number of Tournaments Attended'\n",
    "ax.set_xticks(ticks=[100000, 200000, 300000, 400000, 500000])\n",
    "ax.set_xticklabels(['$100k','$200k','$300k','$400k','$500k'])\n",
    "\n",
    "fig.tight_layout(pad=1)\n",
    "#fig.savefig('images/team_prize_per_tournament.png')"
   ]
  },
  {
   "cell_type": "code",
   "execution_count": 22,
   "metadata": {
    "scrolled": false
   },
   "outputs": [],
   "source": [
    "teams_sorted = teams.sort_values(ascending=False, by='PrizePerTournament')\n",
    "#teams_sorted.head(50)"
   ]
  },
  {
   "cell_type": "code",
   "execution_count": 23,
   "metadata": {},
   "outputs": [
    {
     "data": {
      "text/plain": [
       "Genre\n",
       "Battle Royale                      23767.907050\n",
       "Collectible Card Game              12301.418000\n",
       "First-Person Shooter               21844.509200\n",
       "Multiplayer Online Battle Arena    34016.457471\n",
       "Strategy                            4434.143000\n",
       "Name: PrizePerTournament, dtype: float64"
      ]
     },
     "execution_count": 23,
     "metadata": {},
     "output_type": "execute_result"
    }
   ],
   "source": [
    "teams_genre_grouped_per_tournament = teams_sorted.groupby('Genre')['PrizePerTournament'].agg(np.mean)\n",
    "teams_genre_grouped_per_tournament.head()"
   ]
  },
  {
   "cell_type": "code",
   "execution_count": 26,
   "metadata": {},
   "outputs": [
    {
     "data": {
      "image/png": "[encoded data removed]",
      "text/plain": [
       "<Figure size 1152x432 with 1 Axes>"
      ]
     },
     "metadata": {},
     "output_type": "display_data"
    }
   ],
   "source": [
    "ax = teams_genre_grouped_per_tournament.sort_values(ascending=True).plot.barh(color=team_colors_genre)\n",
    "\n",
    "ax.set_title('Average Team Prize Per Tournament by Genre')\n",
    "ax.set_xlabel('Prize_USD (Thousands)')\n",
    "ax.set_ylabel('Genre')\n",
    "ax.set_xticks(ticks=[5000, 10000, 15000, 20000, 25000, 30000, 35000])\n",
    "ax.set_xticklabels(['$5k','$10k','$15k','$20k','$25k','$30k','$35k'])\n",
    "\n",
    "fig = ax.figure\n",
    "fig.set_size_inches(16,6)\n",
    "fig.tight_layout(pad=1)\n",
    "fig.savefig('images/avg_prize_per_team_by_genre.png')\n",
    "\n",
    "#plt.close()"
   ]
  },
  {
   "cell_type": "code",
   "execution_count": null,
   "metadata": {},
   "outputs": [],
   "source": [
    "teams_genre_grouped_per_tournament_game = teams_sorted.groupby('Game')['PrizePerTournament'].agg(np.mean)\n",
    "teams_genre_grouped_per_tournament_game"
   ]
  },
  {
   "cell_type": "code",
   "execution_count": null,
   "metadata": {},
   "outputs": [],
   "source": [
    "colors_by_game = ['firebrick', 'darkblue', 'forestgreen', 'darkorange', 'dodgerblue', 'dodgerblue', 'forestgreen', 'darkblue', 'darkblue', 'darkblue'] "
   ]
  },
  {
   "cell_type": "code",
   "execution_count": null,
   "metadata": {},
   "outputs": [],
   "source": [
    "ax = teams_genre_grouped_per_tournament_game.sort_values(ascending=True).plot.barh(color=['firebrick', 'darkblue', 'forestgreen', 'darkorange', 'dodgerblue', 'dodgerblue', 'forestgreen', 'darkblue', 'darkblue', 'darkblue'])\n",
    "\n",
    "ax.set_title('Average Team Prize Per Tournament by Game')\n",
    "ax.set_xlabel('Prize_USD (Thousands)')\n",
    "ax.set_ylabel('Game')\n",
    "ax.set_xticks(ticks=[10000, 20000, 30000, 40000, 50000])\n",
    "ax.set_xticklabels(['$10k','$20k','$30k','$40k','$50k'])\n",
    "\n",
    "fig = ax.figure\n",
    "fig.set_size_inches(14,6)\n",
    "fig.tight_layout(pad=1)\n",
    "#fig.savefig('images/average_team_prize_per_game.png')\n",
    "\n",
    "#plt.close()"
   ]
  },
  {
   "cell_type": "markdown",
   "metadata": {},
   "source": [
    "# Analyzing prize money in Players DataFrame\n",
    "\n",
    "## Using Averages grouped by game"
   ]
  },
  {
   "cell_type": "code",
   "execution_count": null,
   "metadata": {},
   "outputs": [],
   "source": [
    "# Averages \n",
    "games_mean_prize = games.groupby('Game')['TotalUSDPrize'].agg(np.mean)\n",
    "games_mean_prize_sorted = games_mean_prize.sort_values(ascending=False).apply(k_format)\n",
    "games_mean_prize_sorted"
   ]
  },
  {
   "cell_type": "code",
   "execution_count": null,
   "metadata": {},
   "outputs": [],
   "source": [
    "# Averages\n",
    "color_games_averages = ['darkblue', 'darkblue', 'forestgreen', 'dodgerblue', 'darkorange', 'firebrick', 'darkblue', 'dodgerblue', 'forestgreen',  'darkblue']"
   ]
  },
  {
   "cell_type": "code",
   "execution_count": null,
   "metadata": {},
   "outputs": [],
   "source": [
    "# Averages\n",
    "ax = games_mean_prize.sort_values(ascending=True).plot.barh(color=color_games)\n",
    "\n",
    "ax.set_title('Total Prize Per Game by Player')\n",
    "ax.set_xlabel('Prize_USD (Millions)')\n",
    "ax.set_ylabel('Game')\n",
    "ax.set_xticks(ticks=[250000, 500000, 750000, 1000000, 1250000, 1500000, 1750000, 2000000])\n",
    "ax.set_xticklabels(['$250k','$500k','$750k','$1m','$1.25m','$1.50m','$1.75m','$2m'])\n",
    "\n",
    "fig = ax.figure\n",
    "fig.set_size_inches(14,6)\n",
    "fig.tight_layout(pad=1)\n",
    "#fig.savefig('images/barh_players_prize_per_game.png')\n",
    "\n",
    "#plt.close()"
   ]
  },
  {
   "cell_type": "markdown",
   "metadata": {},
   "source": [
    "## Using averages grouped by genre"
   ]
  },
  {
   "cell_type": "code",
   "execution_count": null,
   "metadata": {},
   "outputs": [],
   "source": [
    "# Averges by Genre\n",
    "genre_mean_prize = games.groupby('Genre')['TotalUSDPrize'].agg(np.mean)\n",
    "genre_mean_prize_sorted = genre_mean_prize.sort_values(ascending=False)#.apply(k_format)\n",
    "genre_mean_prize_sorted"
   ]
  },
  {
   "cell_type": "code",
   "execution_count": null,
   "metadata": {},
   "outputs": [],
   "source": [
    "# Averages\n",
    "color_genre_averages = ['darkorange', 'firebrick', 'dodgerblue' , 'forestgreen', 'darkblue']"
   ]
  },
  {
   "cell_type": "code",
   "execution_count": null,
   "metadata": {},
   "outputs": [],
   "source": [
    "# Averages\n",
    "ax = genre_mean_prize.sort_values(ascending=True).plot.barh(color=color_genre_averages)\n",
    "\n",
    "ax.set_title('Average Player Earnings Per Genre')\n",
    "ax.set_xlabel('Prize_USD (Thousands)')\n",
    "ax.set_ylabel('Game')\n",
    "ax.set_xticks(ticks=[100000, 200000, 300000, 400000, 500000, 600000])\n",
    "ax.set_xticklabels(['$100k','$200k','$300k','$400k','$500k','$600k'])\n",
    "\n",
    "fig = ax.figure\n",
    "fig.set_size_inches(14,6)\n",
    "fig.tight_layout(pad=1)\n",
    "#fig.savefig('images/barh_players_prize_per_genere.png')"
   ]
  },
  {
   "cell_type": "markdown",
   "metadata": {},
   "source": [
    "## Using totals grouped by Game"
   ]
  },
  {
   "cell_type": "code",
   "execution_count": null,
   "metadata": {},
   "outputs": [],
   "source": [
    "# Totals\n",
    "game_total_prizes = games.groupby('Game')['TotalUSDPrize'].agg(np.sum)\n",
    "game_total_prizes_mil = game_total_prizes.apply(mil_format).sort_values(ascending=True)\n",
    "game_total_prizes_mil"
   ]
  },
  {
   "cell_type": "code",
   "execution_count": null,
   "metadata": {},
   "outputs": [],
   "source": [
    "# Totals\n",
    "ax = game_total_prizes.sort_values(ascending=True).plot.barh()\n",
    "\n",
    "ax.set_title('Total Prize Per Game')\n",
    "ax.set_xlabel('Prize_USD (Millions)')\n",
    "ax.set_ylabel('Game')\n",
    "ax.set_xticks(ticks=[25000000, 50000000, 75000000, 100000000, 125000000, 150000000, 175000000, 200000000])\n",
    "ax.set_xticklabels(['$25m','$50m','$75m','$100m','$125m','$150m','$175m','$200m'])\n",
    "\n",
    "fig = ax.figure\n",
    "fig.set_size_inches(14,6)\n",
    "fig.tight_layout(pad=1)\n",
    "#fig.savefig('images/hist_prize_per_game.png')\n",
    "\n",
    "#plt.close()"
   ]
  },
  {
   "cell_type": "code",
   "execution_count": null,
   "metadata": {},
   "outputs": [],
   "source": [
    "# Totals\n",
    "ax = game_total_prizes.sort_values().plot.pie(autopct='%1.1f%%')\n",
    "\n",
    "ax.set_title('Prize Share Per Game')\n",
    "ax.set_ylabel('')\n",
    "\n",
    "fig = ax.figure\n",
    "fig.set_size_inches(18,10)\n",
    "#fig.savefig('images/pie_prize_share.png')"
   ]
  },
  {
   "cell_type": "markdown",
   "metadata": {},
   "source": [
    "# Plotting individual games"
   ]
  },
  {
   "cell_type": "code",
   "execution_count": null,
   "metadata": {},
   "outputs": [],
   "source": [
    "games_individual_sorted = games.sort_values(ascending=False, by='TotalUSDPrize')\n",
    "games_individual_sorted_k = games_individual_sorted['TotalUSDPrize']#.apply(k_format)\n",
    "games_individual_sorted_k.head()"
   ]
  },
  {
   "cell_type": "code",
   "execution_count": null,
   "metadata": {
    "scrolled": true
   },
   "outputs": [],
   "source": [
    "unique_names = games_grouped_individual_sorted.Game.unique()\n",
    "\n",
    "unique_names"
   ]
  },
  {
   "cell_type": "code",
   "execution_count": null,
   "metadata": {},
   "outputs": [],
   "source": [
    "#fig, ax = plt.subplots(figsize=(14,10))\n",
    "\n",
    "ax = games_grouped_individual_sorted['TotalUSDPrize'].hist(figsize=(14,14), bins=50)\n",
    "\n",
    "#ax.hist(individual_game_prizes)\n",
    "\n",
    "ax.set_title('Prize Earnings Per Game')\n",
    "ax.set_xlabel('Individual_Games')\n",
    "ax.set_ylabel('Prize_USD')\n",
    "ax.set_yticks([1000000, 2000000, 3000000, 4000000, 5000000, 6000000, 7000000])\n",
    "ax.set_yticklabels(['$1m','$2m','$3m','$4m', '$5m', '$6m', '$7m'])\n",
    "#ax.tick_params(labelbottom=False)\n",
    "\n",
    "fig = ax.figure\n",
    "fig.set_size_inches(14,14)\n",
    "fig.tight_layout(pad=1)"
   ]
  },
  {
   "cell_type": "markdown",
   "metadata": {},
   "source": [
    "# Analyzing prize money by Country in Players DataFrame\n",
    "\n",
    "## Total Player Earnings Per Country:"
   ]
  },
  {
   "cell_type": "code",
   "execution_count": 26,
   "metadata": {},
   "outputs": [
    {
     "ename": "KeyError",
     "evalue": "'Country_Name'",
     "output_type": "error",
     "traceback": [
      "\u001b[0;31m---------------------------------------------------------------------------\u001b[0m",
      "\u001b[0;31mKeyError\u001b[0m                                  Traceback (most recent call last)",
      "\u001b[0;32m<ipython-input-26-0c3702c799a7>\u001b[0m in \u001b[0;36m<module>\u001b[0;34m\u001b[0m\n\u001b[0;32m----> 1\u001b[0;31m \u001b[0mcountry_total_earnings\u001b[0m \u001b[0;34m=\u001b[0m \u001b[0mplayers\u001b[0m\u001b[0;34m.\u001b[0m\u001b[0mgroupby\u001b[0m\u001b[0;34m(\u001b[0m\u001b[0;34m'Country_Name'\u001b[0m\u001b[0;34m)\u001b[0m\u001b[0;34m[\u001b[0m\u001b[0;34m'TotalUSDPrize'\u001b[0m\u001b[0;34m]\u001b[0m\u001b[0;34m.\u001b[0m\u001b[0msum\u001b[0m\u001b[0;34m(\u001b[0m\u001b[0;34m)\u001b[0m\u001b[0;34m\u001b[0m\u001b[0;34m\u001b[0m\u001b[0m\n\u001b[0m\u001b[1;32m      2\u001b[0m \u001b[0mcountry_total_earnings_sorted\u001b[0m \u001b[0;34m=\u001b[0m \u001b[0mcountry_total_earnings\u001b[0m\u001b[0;34m.\u001b[0m\u001b[0msort_values\u001b[0m\u001b[0;34m(\u001b[0m\u001b[0mascending\u001b[0m\u001b[0;34m=\u001b[0m\u001b[0;32mFalse\u001b[0m\u001b[0;34m)\u001b[0m\u001b[0;31m#.apply(mil_format)\u001b[0m\u001b[0;34m\u001b[0m\u001b[0;34m\u001b[0m\u001b[0m\n\u001b[1;32m      3\u001b[0m \u001b[0;31m#country_total_earnings_sorted\u001b[0m\u001b[0;34m\u001b[0m\u001b[0;34m\u001b[0m\u001b[0;34m\u001b[0m\u001b[0m\n",
      "\u001b[0;32m~/anaconda3/lib/python3.7/site-packages/pandas/core/frame.py\u001b[0m in \u001b[0;36mgroupby\u001b[0;34m(self, by, axis, level, as_index, sort, group_keys, squeeze, observed, dropna)\u001b[0m\n\u001b[1;32m   6519\u001b[0m             \u001b[0msqueeze\u001b[0m\u001b[0;34m=\u001b[0m\u001b[0msqueeze\u001b[0m\u001b[0;34m,\u001b[0m\u001b[0;34m\u001b[0m\u001b[0;34m\u001b[0m\u001b[0m\n\u001b[1;32m   6520\u001b[0m             \u001b[0mobserved\u001b[0m\u001b[0;34m=\u001b[0m\u001b[0mobserved\u001b[0m\u001b[0;34m,\u001b[0m\u001b[0;34m\u001b[0m\u001b[0;34m\u001b[0m\u001b[0m\n\u001b[0;32m-> 6521\u001b[0;31m             \u001b[0mdropna\u001b[0m\u001b[0;34m=\u001b[0m\u001b[0mdropna\u001b[0m\u001b[0;34m,\u001b[0m\u001b[0;34m\u001b[0m\u001b[0;34m\u001b[0m\u001b[0m\n\u001b[0m\u001b[1;32m   6522\u001b[0m         )\n\u001b[1;32m   6523\u001b[0m \u001b[0;34m\u001b[0m\u001b[0m\n",
      "\u001b[0;32m~/anaconda3/lib/python3.7/site-packages/pandas/core/groupby/groupby.py\u001b[0m in \u001b[0;36m__init__\u001b[0;34m(self, obj, keys, axis, level, grouper, exclusions, selection, as_index, sort, group_keys, squeeze, observed, mutated, dropna)\u001b[0m\n\u001b[1;32m    531\u001b[0m                 \u001b[0mobserved\u001b[0m\u001b[0;34m=\u001b[0m\u001b[0mobserved\u001b[0m\u001b[0;34m,\u001b[0m\u001b[0;34m\u001b[0m\u001b[0;34m\u001b[0m\u001b[0m\n\u001b[1;32m    532\u001b[0m                 \u001b[0mmutated\u001b[0m\u001b[0;34m=\u001b[0m\u001b[0mself\u001b[0m\u001b[0;34m.\u001b[0m\u001b[0mmutated\u001b[0m\u001b[0;34m,\u001b[0m\u001b[0;34m\u001b[0m\u001b[0;34m\u001b[0m\u001b[0m\n\u001b[0;32m--> 533\u001b[0;31m                 \u001b[0mdropna\u001b[0m\u001b[0;34m=\u001b[0m\u001b[0mself\u001b[0m\u001b[0;34m.\u001b[0m\u001b[0mdropna\u001b[0m\u001b[0;34m,\u001b[0m\u001b[0;34m\u001b[0m\u001b[0;34m\u001b[0m\u001b[0m\n\u001b[0m\u001b[1;32m    534\u001b[0m             )\n\u001b[1;32m    535\u001b[0m \u001b[0;34m\u001b[0m\u001b[0m\n",
      "\u001b[0;32m~/anaconda3/lib/python3.7/site-packages/pandas/core/groupby/grouper.py\u001b[0m in \u001b[0;36mget_grouper\u001b[0;34m(obj, key, axis, level, sort, observed, mutated, validate, dropna)\u001b[0m\n\u001b[1;32m    779\u001b[0m                 \u001b[0min_axis\u001b[0m\u001b[0;34m,\u001b[0m \u001b[0mname\u001b[0m\u001b[0;34m,\u001b[0m \u001b[0mlevel\u001b[0m\u001b[0;34m,\u001b[0m \u001b[0mgpr\u001b[0m \u001b[0;34m=\u001b[0m \u001b[0;32mFalse\u001b[0m\u001b[0;34m,\u001b[0m \u001b[0;32mNone\u001b[0m\u001b[0;34m,\u001b[0m \u001b[0mgpr\u001b[0m\u001b[0;34m,\u001b[0m \u001b[0;32mNone\u001b[0m\u001b[0;34m\u001b[0m\u001b[0;34m\u001b[0m\u001b[0m\n\u001b[1;32m    780\u001b[0m             \u001b[0;32melse\u001b[0m\u001b[0;34m:\u001b[0m\u001b[0;34m\u001b[0m\u001b[0;34m\u001b[0m\u001b[0m\n\u001b[0;32m--> 781\u001b[0;31m                 \u001b[0;32mraise\u001b[0m \u001b[0mKeyError\u001b[0m\u001b[0;34m(\u001b[0m\u001b[0mgpr\u001b[0m\u001b[0;34m)\u001b[0m\u001b[0;34m\u001b[0m\u001b[0;34m\u001b[0m\u001b[0m\n\u001b[0m\u001b[1;32m    782\u001b[0m         \u001b[0;32melif\u001b[0m \u001b[0misinstance\u001b[0m\u001b[0;34m(\u001b[0m\u001b[0mgpr\u001b[0m\u001b[0;34m,\u001b[0m \u001b[0mGrouper\u001b[0m\u001b[0;34m)\u001b[0m \u001b[0;32mand\u001b[0m \u001b[0mgpr\u001b[0m\u001b[0;34m.\u001b[0m\u001b[0mkey\u001b[0m \u001b[0;32mis\u001b[0m \u001b[0;32mnot\u001b[0m \u001b[0;32mNone\u001b[0m\u001b[0;34m:\u001b[0m\u001b[0;34m\u001b[0m\u001b[0;34m\u001b[0m\u001b[0m\n\u001b[1;32m    783\u001b[0m             \u001b[0;31m# Add key to exclusions\u001b[0m\u001b[0;34m\u001b[0m\u001b[0;34m\u001b[0m\u001b[0;34m\u001b[0m\u001b[0m\n",
      "\u001b[0;31mKeyError\u001b[0m: 'Country_Name'"
     ]
    }
   ],
   "source": [
    "country_total_earnings = players.groupby('Country_Name')['TotalUSDPrize'].sum()\n",
    "country_total_earnings_sorted = country_total_earnings.sort_values(ascending=False)#.apply(mil_format)\n",
    "#country_total_earnings_sorted"
   ]
  },
  {
   "cell_type": "code",
   "execution_count": 11,
   "metadata": {
    "scrolled": true
   },
   "outputs": [
    {
     "data": {
      "image/png": "[encoded data removed]",
      "text/plain": [
       "<Figure size 1008x1008 with 1 Axes>"
      ]
     },
     "metadata": {},
     "output_type": "display_data"
    }
   ],
   "source": [
    "ax = country_total_earnings.sort_values().plot.barh()\n",
    "\n",
    "ax.set_title('Total Prize Earnings Per Country')\n",
    "ax.set_xlabel('Prize_USD (Millions)')\n",
    "ax.set_ylabel('Country Code')\n",
    "ax.set_xticks(ticks=[25000000, 50000000, 75000000, 100000000])\n",
    "ax.set_xticklabels(['$25m','$50m','$75m','$100m'])\n",
    "\n",
    "fig = ax.figure\n",
    "fig.set_size_inches(14,14)\n",
    "fig.tight_layout(pad=1)\n",
    "#fig.savefig('images/barh_conrties_prize_total.png')"
   ]
  },
  {
   "cell_type": "markdown",
   "metadata": {},
   "source": [
    "## Average Player Earnings Per Country"
   ]
  },
  {
   "cell_type": "code",
   "execution_count": null,
   "metadata": {},
   "outputs": [],
   "source": [
    "country_average_earnings = players.groupby('CountryCode')['TotalUSDPrize'].mean()\n",
    "country_average_earnings_sorted = country_average_earnings.sort_values(ascending=False).apply(k_format)\n",
    "#country_average_earnings_sorted"
   ]
  },
  {
   "cell_type": "code",
   "execution_count": null,
   "metadata": {
    "scrolled": true
   },
   "outputs": [],
   "source": [
    "ax = country_average_earnings.sort_values().plot.barh()\n",
    "\n",
    "ax.set_title('Average Prize Per Game Grouped By Country')\n",
    "ax.set_xlabel('Prize_USD (Millions)')\n",
    "ax.set_ylabel('Country')\n",
    "ax.set_xticks(ticks=[1000000, 2000000, 3000000, 4000000, 5000000])\n",
    "ax.set_xticklabels(['$1m','$2m','$3m','$4m','$5m'])\n",
    "\n",
    "fig = ax.figure\n",
    "fig.set_size_inches(14,14)\n",
    "fig.tight_layout(pad=1)\n",
    "#fig.savefig('images/barh_conrties_prize_per_game.png')"
   ]
  },
  {
   "cell_type": "markdown",
   "metadata": {},
   "source": [
    "# Where are the top 100 players?"
   ]
  },
  {
   "cell_type": "code",
   "execution_count": null,
   "metadata": {},
   "outputs": [],
   "source": [
    "player_by_country = players.groupby('CountryCode')['Game'].count()\n",
    "#player_by_country = player_by_country.sort_values(ascending=True)\n",
    "#player_by_country"
   ]
  },
  {
   "cell_type": "code",
   "execution_count": null,
   "metadata": {},
   "outputs": [],
   "source": [
    "ax = player_by_country.sort_values().plot.barh()\n",
    "\n",
    "ax.set_title('Average Prize Per Game Grouped By Country')\n",
    "ax.set_xlabel('Prize_USD (Millions)')\n",
    "ax.set_ylabel('Country')\n",
    "ax.set_xticks(ticks=[1000000, 2000000, 3000000, 4000000, 5000000])\n",
    "ax.set_xticklabels(['$1m','$2m','$3m','$4m','$5m'])\n",
    "\n",
    "fig = ax.figure\n",
    "fig.set_size_inches(14,14)\n",
    "fig.tight_layout(pad=1)"
   ]
  }
 ],
 "metadata": {
  "kernelspec": {
   "display_name": "Python 3",
   "language": "python",
   "name": "python3"
  },
  "language_info": {
   "codemirror_mode": {
    "name": "ipython",
    "version": 3
   },
   "file_extension": ".py",
   "mimetype": "text/x-python",
   "name": "python",
   "nbconvert_exporter": "python",
   "pygments_lexer": "ipython3",
   "version": "3.7.9"
  }
 },
 "nbformat": 4,
 "nbformat_minor": 2
}
