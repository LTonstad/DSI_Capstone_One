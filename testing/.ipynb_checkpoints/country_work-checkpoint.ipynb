{
 "cells": [
  {
   "cell_type": "code",
   "execution_count": 77,
   "metadata": {},
   "outputs": [],
   "source": [
    "import numpy as np\n",
    "import pandas as pd\n",
    "import scipy.stats as stats\n",
    "import matplotlib.pyplot as plt\n",
    "import seaborn as sn\n",
    "\n",
    "plt.style.use('fivethirtyeight')"
   ]
  },
  {
   "cell_type": "code",
   "execution_count": 87,
   "metadata": {},
   "outputs": [],
   "source": [
    "def mil_format(x):\n",
    "    return \"${:.1f}M\".format(x/1000000)"
   ]
  },
  {
   "cell_type": "code",
   "execution_count": 153,
   "metadata": {},
   "outputs": [],
   "source": [
    "def k_format(x):\n",
    "    return \"${:.1f}K\".format(x/1000)"
   ]
  },
  {
   "cell_type": "markdown",
   "metadata": {},
   "source": [
    "# Working with Players Data"
   ]
  },
  {
   "cell_type": "code",
   "execution_count": 2,
   "metadata": {},
   "outputs": [
    {
     "data": {
      "text/html": [
       "<div>\n",
       "<style scoped>\n",
       "    .dataframe tbody tr th:only-of-type {\n",
       "        vertical-align: middle;\n",
       "    }\n",
       "\n",
       "    .dataframe tbody tr th {\n",
       "        vertical-align: top;\n",
       "    }\n",
       "\n",
       "    .dataframe thead th {\n",
       "        text-align: right;\n",
       "    }\n",
       "</style>\n",
       "<table border=\"1\" class=\"dataframe\">\n",
       "  <thead>\n",
       "    <tr style=\"text-align: right;\">\n",
       "      <th></th>\n",
       "      <th>PlayerId</th>\n",
       "      <th>NameFirst</th>\n",
       "      <th>NameLast</th>\n",
       "      <th>CurrentHandle</th>\n",
       "      <th>CountryCode</th>\n",
       "      <th>TotalUSDPrize</th>\n",
       "      <th>Game</th>\n",
       "      <th>Genre</th>\n",
       "    </tr>\n",
       "  </thead>\n",
       "  <tbody>\n",
       "    <tr>\n",
       "      <th>0</th>\n",
       "      <td>3883</td>\n",
       "      <td>Peter</td>\n",
       "      <td>Rasmussen</td>\n",
       "      <td>dupreeh</td>\n",
       "      <td>dk</td>\n",
       "      <td>1822989.41</td>\n",
       "      <td>Counter-Strike: Global Offensive</td>\n",
       "      <td>First-Person Shooter</td>\n",
       "    </tr>\n",
       "    <tr>\n",
       "      <th>1</th>\n",
       "      <td>3679</td>\n",
       "      <td>Andreas</td>\n",
       "      <td>Højsleth</td>\n",
       "      <td>Xyp9x</td>\n",
       "      <td>dk</td>\n",
       "      <td>1799288.57</td>\n",
       "      <td>Counter-Strike: Global Offensive</td>\n",
       "      <td>First-Person Shooter</td>\n",
       "    </tr>\n",
       "    <tr>\n",
       "      <th>2</th>\n",
       "      <td>3885</td>\n",
       "      <td>Nicolai</td>\n",
       "      <td>Reedtz</td>\n",
       "      <td>dev1ce</td>\n",
       "      <td>dk</td>\n",
       "      <td>1787489.88</td>\n",
       "      <td>Counter-Strike: Global Offensive</td>\n",
       "      <td>First-Person Shooter</td>\n",
       "    </tr>\n",
       "    <tr>\n",
       "      <th>3</th>\n",
       "      <td>3672</td>\n",
       "      <td>Lukas</td>\n",
       "      <td>Rossander</td>\n",
       "      <td>gla1ve</td>\n",
       "      <td>dk</td>\n",
       "      <td>1652350.75</td>\n",
       "      <td>Counter-Strike: Global Offensive</td>\n",
       "      <td>First-Person Shooter</td>\n",
       "    </tr>\n",
       "    <tr>\n",
       "      <th>4</th>\n",
       "      <td>17800</td>\n",
       "      <td>Emil</td>\n",
       "      <td>Reif</td>\n",
       "      <td>Magisk</td>\n",
       "      <td>dk</td>\n",
       "      <td>1416448.64</td>\n",
       "      <td>Counter-Strike: Global Offensive</td>\n",
       "      <td>First-Person Shooter</td>\n",
       "    </tr>\n",
       "  </tbody>\n",
       "</table>\n",
       "</div>"
      ],
      "text/plain": [
       "   PlayerId NameFirst   NameLast CurrentHandle CountryCode  TotalUSDPrize  \\\n",
       "0      3883     Peter  Rasmussen       dupreeh          dk     1822989.41   \n",
       "1      3679   Andreas   Højsleth         Xyp9x          dk     1799288.57   \n",
       "2      3885   Nicolai     Reedtz        dev1ce          dk     1787489.88   \n",
       "3      3672     Lukas  Rossander        gla1ve          dk     1652350.75   \n",
       "4     17800      Emil       Reif        Magisk          dk     1416448.64   \n",
       "\n",
       "                               Game                 Genre  \n",
       "0  Counter-Strike: Global Offensive  First-Person Shooter  \n",
       "1  Counter-Strike: Global Offensive  First-Person Shooter  \n",
       "2  Counter-Strike: Global Offensive  First-Person Shooter  \n",
       "3  Counter-Strike: Global Offensive  First-Person Shooter  \n",
       "4  Counter-Strike: Global Offensive  First-Person Shooter  "
      ]
     },
     "execution_count": 2,
     "metadata": {},
     "output_type": "execute_result"
    }
   ],
   "source": [
    "players_df = pd.read_csv('../data/highest_earning_players.csv')\n",
    "players = pd.read_csv('../data/highest_earning_players.csv')\n",
    "players_df.head()"
   ]
  },
  {
   "cell_type": "code",
   "execution_count": 3,
   "metadata": {},
   "outputs": [
    {
     "data": {
      "text/html": [
       "<div>\n",
       "<style scoped>\n",
       "    .dataframe tbody tr th:only-of-type {\n",
       "        vertical-align: middle;\n",
       "    }\n",
       "\n",
       "    .dataframe tbody tr th {\n",
       "        vertical-align: top;\n",
       "    }\n",
       "\n",
       "    .dataframe thead th {\n",
       "        text-align: right;\n",
       "    }\n",
       "</style>\n",
       "<table border=\"1\" class=\"dataframe\">\n",
       "  <thead>\n",
       "    <tr style=\"text-align: right;\">\n",
       "      <th></th>\n",
       "      <th>CurrentHandle</th>\n",
       "      <th>CountryCode</th>\n",
       "      <th>TotalUSDPrize</th>\n",
       "      <th>Game</th>\n",
       "      <th>Genre</th>\n",
       "    </tr>\n",
       "  </thead>\n",
       "  <tbody>\n",
       "    <tr>\n",
       "      <th>0</th>\n",
       "      <td>dupreeh</td>\n",
       "      <td>dk</td>\n",
       "      <td>1822989.41</td>\n",
       "      <td>Counter-Strike: Global Offensive</td>\n",
       "      <td>First-Person Shooter</td>\n",
       "    </tr>\n",
       "    <tr>\n",
       "      <th>1</th>\n",
       "      <td>Xyp9x</td>\n",
       "      <td>dk</td>\n",
       "      <td>1799288.57</td>\n",
       "      <td>Counter-Strike: Global Offensive</td>\n",
       "      <td>First-Person Shooter</td>\n",
       "    </tr>\n",
       "    <tr>\n",
       "      <th>2</th>\n",
       "      <td>dev1ce</td>\n",
       "      <td>dk</td>\n",
       "      <td>1787489.88</td>\n",
       "      <td>Counter-Strike: Global Offensive</td>\n",
       "      <td>First-Person Shooter</td>\n",
       "    </tr>\n",
       "    <tr>\n",
       "      <th>3</th>\n",
       "      <td>gla1ve</td>\n",
       "      <td>dk</td>\n",
       "      <td>1652350.75</td>\n",
       "      <td>Counter-Strike: Global Offensive</td>\n",
       "      <td>First-Person Shooter</td>\n",
       "    </tr>\n",
       "    <tr>\n",
       "      <th>4</th>\n",
       "      <td>Magisk</td>\n",
       "      <td>dk</td>\n",
       "      <td>1416448.64</td>\n",
       "      <td>Counter-Strike: Global Offensive</td>\n",
       "      <td>First-Person Shooter</td>\n",
       "    </tr>\n",
       "  </tbody>\n",
       "</table>\n",
       "</div>"
      ],
      "text/plain": [
       "  CurrentHandle CountryCode  TotalUSDPrize                              Game  \\\n",
       "0       dupreeh          dk     1822989.41  Counter-Strike: Global Offensive   \n",
       "1         Xyp9x          dk     1799288.57  Counter-Strike: Global Offensive   \n",
       "2        dev1ce          dk     1787489.88  Counter-Strike: Global Offensive   \n",
       "3        gla1ve          dk     1652350.75  Counter-Strike: Global Offensive   \n",
       "4        Magisk          dk     1416448.64  Counter-Strike: Global Offensive   \n",
       "\n",
       "                  Genre  \n",
       "0  First-Person Shooter  \n",
       "1  First-Person Shooter  \n",
       "2  First-Person Shooter  \n",
       "3  First-Person Shooter  \n",
       "4  First-Person Shooter  "
      ]
     },
     "execution_count": 3,
     "metadata": {},
     "output_type": "execute_result"
    }
   ],
   "source": [
    "# Important to note, all games were play same amount of times (100)\n",
    "players = players[['CurrentHandle', 'CountryCode', 'TotalUSDPrize', 'Game', 'Genre']]\n",
    "players.head()"
   ]
  },
  {
   "cell_type": "code",
   "execution_count": 4,
   "metadata": {},
   "outputs": [
    {
     "data": {
      "text/html": [
       "<div>\n",
       "<style scoped>\n",
       "    .dataframe tbody tr th:only-of-type {\n",
       "        vertical-align: middle;\n",
       "    }\n",
       "\n",
       "    .dataframe tbody tr th {\n",
       "        vertical-align: top;\n",
       "    }\n",
       "\n",
       "    .dataframe thead th {\n",
       "        text-align: right;\n",
       "    }\n",
       "</style>\n",
       "<table border=\"1\" class=\"dataframe\">\n",
       "  <thead>\n",
       "    <tr style=\"text-align: right;\">\n",
       "      <th></th>\n",
       "      <th>CurrentHandle</th>\n",
       "      <th>CountryCode</th>\n",
       "      <th>TotalUSDPrize</th>\n",
       "      <th>Game</th>\n",
       "      <th>Genre</th>\n",
       "    </tr>\n",
       "  </thead>\n",
       "  <tbody>\n",
       "    <tr>\n",
       "      <th>0</th>\n",
       "      <td>dupreeh</td>\n",
       "      <td>DK</td>\n",
       "      <td>1822989.41</td>\n",
       "      <td>Counter-Strike: Global Offensive</td>\n",
       "      <td>First-Person Shooter</td>\n",
       "    </tr>\n",
       "    <tr>\n",
       "      <th>1</th>\n",
       "      <td>Xyp9x</td>\n",
       "      <td>DK</td>\n",
       "      <td>1799288.57</td>\n",
       "      <td>Counter-Strike: Global Offensive</td>\n",
       "      <td>First-Person Shooter</td>\n",
       "    </tr>\n",
       "    <tr>\n",
       "      <th>2</th>\n",
       "      <td>dev1ce</td>\n",
       "      <td>DK</td>\n",
       "      <td>1787489.88</td>\n",
       "      <td>Counter-Strike: Global Offensive</td>\n",
       "      <td>First-Person Shooter</td>\n",
       "    </tr>\n",
       "    <tr>\n",
       "      <th>3</th>\n",
       "      <td>gla1ve</td>\n",
       "      <td>DK</td>\n",
       "      <td>1652350.75</td>\n",
       "      <td>Counter-Strike: Global Offensive</td>\n",
       "      <td>First-Person Shooter</td>\n",
       "    </tr>\n",
       "    <tr>\n",
       "      <th>4</th>\n",
       "      <td>Magisk</td>\n",
       "      <td>DK</td>\n",
       "      <td>1416448.64</td>\n",
       "      <td>Counter-Strike: Global Offensive</td>\n",
       "      <td>First-Person Shooter</td>\n",
       "    </tr>\n",
       "  </tbody>\n",
       "</table>\n",
       "</div>"
      ],
      "text/plain": [
       "  CurrentHandle CountryCode  TotalUSDPrize                              Game  \\\n",
       "0       dupreeh          DK     1822989.41  Counter-Strike: Global Offensive   \n",
       "1         Xyp9x          DK     1799288.57  Counter-Strike: Global Offensive   \n",
       "2        dev1ce          DK     1787489.88  Counter-Strike: Global Offensive   \n",
       "3        gla1ve          DK     1652350.75  Counter-Strike: Global Offensive   \n",
       "4        Magisk          DK     1416448.64  Counter-Strike: Global Offensive   \n",
       "\n",
       "                  Genre  \n",
       "0  First-Person Shooter  \n",
       "1  First-Person Shooter  \n",
       "2  First-Person Shooter  \n",
       "3  First-Person Shooter  \n",
       "4  First-Person Shooter  "
      ]
     },
     "execution_count": 4,
     "metadata": {},
     "output_type": "execute_result"
    }
   ],
   "source": [
    "players['CountryCode'] = players.CountryCode.str.upper()\n",
    "players.head()"
   ]
  },
  {
   "cell_type": "code",
   "execution_count": 5,
   "metadata": {
    "scrolled": true
   },
   "outputs": [
    {
     "data": {
      "text/plain": [
       "56"
      ]
     },
     "execution_count": 5,
     "metadata": {},
     "output_type": "execute_result"
    }
   ],
   "source": [
    "players.CountryCode.nunique()"
   ]
  },
  {
   "cell_type": "code",
   "execution_count": null,
   "metadata": {},
   "outputs": [],
   "source": []
  },
  {
   "cell_type": "markdown",
   "metadata": {},
   "source": [
    "# Working with Country Data"
   ]
  },
  {
   "cell_type": "code",
   "execution_count": 6,
   "metadata": {},
   "outputs": [
    {
     "data": {
      "text/html": [
       "<div>\n",
       "<style scoped>\n",
       "    .dataframe tbody tr th:only-of-type {\n",
       "        vertical-align: middle;\n",
       "    }\n",
       "\n",
       "    .dataframe tbody tr th {\n",
       "        vertical-align: top;\n",
       "    }\n",
       "\n",
       "    .dataframe thead th {\n",
       "        text-align: right;\n",
       "    }\n",
       "</style>\n",
       "<table border=\"1\" class=\"dataframe\">\n",
       "  <thead>\n",
       "    <tr style=\"text-align: right;\">\n",
       "      <th></th>\n",
       "      <th>Continent_Name</th>\n",
       "      <th>Continent_Code</th>\n",
       "      <th>Country_Name</th>\n",
       "      <th>Two_Letter_Country_Code</th>\n",
       "      <th>Three_Letter_Country_Code</th>\n",
       "      <th>Country_Number</th>\n",
       "    </tr>\n",
       "  </thead>\n",
       "  <tbody>\n",
       "    <tr>\n",
       "      <th>0</th>\n",
       "      <td>Asia</td>\n",
       "      <td>AS</td>\n",
       "      <td>Afghanistan, Islamic Republic of</td>\n",
       "      <td>AF</td>\n",
       "      <td>AFG</td>\n",
       "      <td>4.0</td>\n",
       "    </tr>\n",
       "    <tr>\n",
       "      <th>1</th>\n",
       "      <td>Europe</td>\n",
       "      <td>EU</td>\n",
       "      <td>Albania, Republic of</td>\n",
       "      <td>AL</td>\n",
       "      <td>ALB</td>\n",
       "      <td>8.0</td>\n",
       "    </tr>\n",
       "    <tr>\n",
       "      <th>2</th>\n",
       "      <td>Antarctica</td>\n",
       "      <td>AN</td>\n",
       "      <td>Antarctica (the territory South of 60 deg S)</td>\n",
       "      <td>AQ</td>\n",
       "      <td>ATA</td>\n",
       "      <td>10.0</td>\n",
       "    </tr>\n",
       "    <tr>\n",
       "      <th>3</th>\n",
       "      <td>Africa</td>\n",
       "      <td>AF</td>\n",
       "      <td>Algeria, People's Democratic Republic of</td>\n",
       "      <td>DZ</td>\n",
       "      <td>DZA</td>\n",
       "      <td>12.0</td>\n",
       "    </tr>\n",
       "    <tr>\n",
       "      <th>4</th>\n",
       "      <td>Oceania</td>\n",
       "      <td>OC</td>\n",
       "      <td>American Samoa</td>\n",
       "      <td>AS</td>\n",
       "      <td>ASM</td>\n",
       "      <td>16.0</td>\n",
       "    </tr>\n",
       "  </tbody>\n",
       "</table>\n",
       "</div>"
      ],
      "text/plain": [
       "  Continent_Name Continent_Code                                  Country_Name  \\\n",
       "0           Asia             AS              Afghanistan, Islamic Republic of   \n",
       "1         Europe             EU                          Albania, Republic of   \n",
       "2     Antarctica             AN  Antarctica (the territory South of 60 deg S)   \n",
       "3         Africa             AF      Algeria, People's Democratic Republic of   \n",
       "4        Oceania             OC                                American Samoa   \n",
       "\n",
       "  Two_Letter_Country_Code Three_Letter_Country_Code  Country_Number  \n",
       "0                      AF                       AFG             4.0  \n",
       "1                      AL                       ALB             8.0  \n",
       "2                      AQ                       ATA            10.0  \n",
       "3                      DZ                       DZA            12.0  \n",
       "4                      AS                       ASM            16.0  "
      ]
     },
     "execution_count": 6,
     "metadata": {},
     "output_type": "execute_result"
    }
   ],
   "source": [
    "countries_df = pd.read_csv('../data/country-and-continent-codes-list.csv')\n",
    "countries = pd.read_csv('../data/country-and-continent-codes-list.csv')\n",
    "countries_df.head()"
   ]
  },
  {
   "cell_type": "code",
   "execution_count": 7,
   "metadata": {
    "scrolled": false
   },
   "outputs": [
    {
     "data": {
      "text/plain": [
       "253"
      ]
     },
     "execution_count": 7,
     "metadata": {},
     "output_type": "execute_result"
    }
   ],
   "source": [
    "countries = countries[['Continent_Name', 'Country_Name', 'Two_Letter_Country_Code']]\n",
    "countries.Two_Letter_Country_Code.nunique()"
   ]
  },
  {
   "cell_type": "markdown",
   "metadata": {},
   "source": [
    "## Gotta rename columns for merge"
   ]
  },
  {
   "cell_type": "code",
   "execution_count": 8,
   "metadata": {},
   "outputs": [],
   "source": [
    "countries = countries.rename(columns={'Continent_Name': 'ContinentName', 'Country_Name': 'CountryName', 'Two_Letter_Country_Code': 'CountryCode'})"
   ]
  },
  {
   "cell_type": "code",
   "execution_count": 9,
   "metadata": {},
   "outputs": [
    {
     "data": {
      "text/html": [
       "<div>\n",
       "<style scoped>\n",
       "    .dataframe tbody tr th:only-of-type {\n",
       "        vertical-align: middle;\n",
       "    }\n",
       "\n",
       "    .dataframe tbody tr th {\n",
       "        vertical-align: top;\n",
       "    }\n",
       "\n",
       "    .dataframe thead th {\n",
       "        text-align: right;\n",
       "    }\n",
       "</style>\n",
       "<table border=\"1\" class=\"dataframe\">\n",
       "  <thead>\n",
       "    <tr style=\"text-align: right;\">\n",
       "      <th></th>\n",
       "      <th>ContinentName</th>\n",
       "      <th>CountryName</th>\n",
       "      <th>CountryCode</th>\n",
       "    </tr>\n",
       "  </thead>\n",
       "  <tbody>\n",
       "    <tr>\n",
       "      <th>0</th>\n",
       "      <td>Asia</td>\n",
       "      <td>Afghanistan, Islamic Republic of</td>\n",
       "      <td>AF</td>\n",
       "    </tr>\n",
       "    <tr>\n",
       "      <th>1</th>\n",
       "      <td>Europe</td>\n",
       "      <td>Albania, Republic of</td>\n",
       "      <td>AL</td>\n",
       "    </tr>\n",
       "    <tr>\n",
       "      <th>2</th>\n",
       "      <td>Antarctica</td>\n",
       "      <td>Antarctica (the territory South of 60 deg S)</td>\n",
       "      <td>AQ</td>\n",
       "    </tr>\n",
       "    <tr>\n",
       "      <th>3</th>\n",
       "      <td>Africa</td>\n",
       "      <td>Algeria, People's Democratic Republic of</td>\n",
       "      <td>DZ</td>\n",
       "    </tr>\n",
       "    <tr>\n",
       "      <th>4</th>\n",
       "      <td>Oceania</td>\n",
       "      <td>American Samoa</td>\n",
       "      <td>AS</td>\n",
       "    </tr>\n",
       "    <tr>\n",
       "      <th>...</th>\n",
       "      <td>...</td>\n",
       "      <td>...</td>\n",
       "      <td>...</td>\n",
       "    </tr>\n",
       "    <tr>\n",
       "      <th>257</th>\n",
       "      <td>Africa</td>\n",
       "      <td>Zambia, Republic of</td>\n",
       "      <td>ZM</td>\n",
       "    </tr>\n",
       "    <tr>\n",
       "      <th>258</th>\n",
       "      <td>Oceania</td>\n",
       "      <td>Disputed Territory</td>\n",
       "      <td>XX</td>\n",
       "    </tr>\n",
       "    <tr>\n",
       "      <th>259</th>\n",
       "      <td>Asia</td>\n",
       "      <td>Iraq-Saudi Arabia Neutral Zone</td>\n",
       "      <td>XE</td>\n",
       "    </tr>\n",
       "    <tr>\n",
       "      <th>260</th>\n",
       "      <td>Asia</td>\n",
       "      <td>United Nations Neutral Zone</td>\n",
       "      <td>XD</td>\n",
       "    </tr>\n",
       "    <tr>\n",
       "      <th>261</th>\n",
       "      <td>Asia</td>\n",
       "      <td>Spratly Islands</td>\n",
       "      <td>XS</td>\n",
       "    </tr>\n",
       "  </tbody>\n",
       "</table>\n",
       "<p>262 rows × 3 columns</p>\n",
       "</div>"
      ],
      "text/plain": [
       "    ContinentName                                   CountryName CountryCode\n",
       "0            Asia              Afghanistan, Islamic Republic of          AF\n",
       "1          Europe                          Albania, Republic of          AL\n",
       "2      Antarctica  Antarctica (the territory South of 60 deg S)          AQ\n",
       "3          Africa      Algeria, People's Democratic Republic of          DZ\n",
       "4         Oceania                                American Samoa          AS\n",
       "..            ...                                           ...         ...\n",
       "257        Africa                           Zambia, Republic of          ZM\n",
       "258       Oceania                            Disputed Territory          XX\n",
       "259          Asia                Iraq-Saudi Arabia Neutral Zone          XE\n",
       "260          Asia                   United Nations Neutral Zone          XD\n",
       "261          Asia                               Spratly Islands          XS\n",
       "\n",
       "[262 rows x 3 columns]"
      ]
     },
     "execution_count": 9,
     "metadata": {},
     "output_type": "execute_result"
    }
   ],
   "source": [
    "countries"
   ]
  },
  {
   "cell_type": "markdown",
   "metadata": {},
   "source": [
    "# Merging"
   ]
  },
  {
   "cell_type": "code",
   "execution_count": 10,
   "metadata": {},
   "outputs": [
    {
     "data": {
      "text/html": [
       "<div>\n",
       "<style scoped>\n",
       "    .dataframe tbody tr th:only-of-type {\n",
       "        vertical-align: middle;\n",
       "    }\n",
       "\n",
       "    .dataframe tbody tr th {\n",
       "        vertical-align: top;\n",
       "    }\n",
       "\n",
       "    .dataframe thead th {\n",
       "        text-align: right;\n",
       "    }\n",
       "</style>\n",
       "<table border=\"1\" class=\"dataframe\">\n",
       "  <thead>\n",
       "    <tr style=\"text-align: right;\">\n",
       "      <th></th>\n",
       "      <th>CurrentHandle</th>\n",
       "      <th>CountryCode</th>\n",
       "      <th>TotalUSDPrize</th>\n",
       "      <th>Game</th>\n",
       "      <th>Genre</th>\n",
       "      <th>ContinentName</th>\n",
       "      <th>CountryName</th>\n",
       "    </tr>\n",
       "  </thead>\n",
       "  <tbody>\n",
       "    <tr>\n",
       "      <th>0</th>\n",
       "      <td>dupreeh</td>\n",
       "      <td>DK</td>\n",
       "      <td>1822989.41</td>\n",
       "      <td>Counter-Strike: Global Offensive</td>\n",
       "      <td>First-Person Shooter</td>\n",
       "      <td>Europe</td>\n",
       "      <td>Denmark, Kingdom of</td>\n",
       "    </tr>\n",
       "    <tr>\n",
       "      <th>1</th>\n",
       "      <td>Xyp9x</td>\n",
       "      <td>DK</td>\n",
       "      <td>1799288.57</td>\n",
       "      <td>Counter-Strike: Global Offensive</td>\n",
       "      <td>First-Person Shooter</td>\n",
       "      <td>Europe</td>\n",
       "      <td>Denmark, Kingdom of</td>\n",
       "    </tr>\n",
       "    <tr>\n",
       "      <th>2</th>\n",
       "      <td>dev1ce</td>\n",
       "      <td>DK</td>\n",
       "      <td>1787489.88</td>\n",
       "      <td>Counter-Strike: Global Offensive</td>\n",
       "      <td>First-Person Shooter</td>\n",
       "      <td>Europe</td>\n",
       "      <td>Denmark, Kingdom of</td>\n",
       "    </tr>\n",
       "    <tr>\n",
       "      <th>3</th>\n",
       "      <td>gla1ve</td>\n",
       "      <td>DK</td>\n",
       "      <td>1652350.75</td>\n",
       "      <td>Counter-Strike: Global Offensive</td>\n",
       "      <td>First-Person Shooter</td>\n",
       "      <td>Europe</td>\n",
       "      <td>Denmark, Kingdom of</td>\n",
       "    </tr>\n",
       "    <tr>\n",
       "      <th>4</th>\n",
       "      <td>Magisk</td>\n",
       "      <td>DK</td>\n",
       "      <td>1416448.64</td>\n",
       "      <td>Counter-Strike: Global Offensive</td>\n",
       "      <td>First-Person Shooter</td>\n",
       "      <td>Europe</td>\n",
       "      <td>Denmark, Kingdom of</td>\n",
       "    </tr>\n",
       "  </tbody>\n",
       "</table>\n",
       "</div>"
      ],
      "text/plain": [
       "  CurrentHandle CountryCode  TotalUSDPrize                              Game  \\\n",
       "0       dupreeh          DK     1822989.41  Counter-Strike: Global Offensive   \n",
       "1         Xyp9x          DK     1799288.57  Counter-Strike: Global Offensive   \n",
       "2        dev1ce          DK     1787489.88  Counter-Strike: Global Offensive   \n",
       "3        gla1ve          DK     1652350.75  Counter-Strike: Global Offensive   \n",
       "4        Magisk          DK     1416448.64  Counter-Strike: Global Offensive   \n",
       "\n",
       "                  Genre ContinentName          CountryName  \n",
       "0  First-Person Shooter        Europe  Denmark, Kingdom of  \n",
       "1  First-Person Shooter        Europe  Denmark, Kingdom of  \n",
       "2  First-Person Shooter        Europe  Denmark, Kingdom of  \n",
       "3  First-Person Shooter        Europe  Denmark, Kingdom of  \n",
       "4  First-Person Shooter        Europe  Denmark, Kingdom of  "
      ]
     },
     "execution_count": 10,
     "metadata": {},
     "output_type": "execute_result"
    }
   ],
   "source": [
    "merged_dfs = pd.merge(players, countries, how='inner', on='CountryCode')\n",
    "merged_dfs.head()"
   ]
  },
  {
   "cell_type": "code",
   "execution_count": 11,
   "metadata": {},
   "outputs": [
    {
     "data": {
      "text/plain": [
       "array(['First-Person Shooter', 'Multiplayer Online Battle Arena',\n",
       "       'Battle Royale', 'Strategy', 'Collectible Card Game'], dtype=object)"
      ]
     },
     "execution_count": 11,
     "metadata": {},
     "output_type": "execute_result"
    }
   ],
   "source": [
    "merged_dfs['Genre'].unique()"
   ]
  },
  {
   "cell_type": "code",
   "execution_count": 12,
   "metadata": {},
   "outputs": [
    {
     "data": {
      "text/plain": [
       "['firebrick', 'darkorange', 'forestgreen', 'dodgerblue', 'darkblue']"
      ]
     },
     "execution_count": 12,
     "metadata": {},
     "output_type": "execute_result"
    }
   ],
   "source": [
    "colors_genre = ['firebrick', 'darkorange', 'forestgreen', 'dodgerblue', 'darkblue']\n",
    "colors_genre"
   ]
  },
  {
   "cell_type": "code",
   "execution_count": 13,
   "metadata": {},
   "outputs": [],
   "source": [
    "color_conditions = [\n",
    "    (merged_dfs['Genre'] == 'Strategy'),\n",
    "    (merged_dfs['Genre'] == 'Collectible Card Game'),\n",
    "    (merged_dfs['Genre'] == 'First-Person Shooter'),\n",
    "    (merged_dfs['Genre'] == 'Battle Royale'),\n",
    "    (merged_dfs['Genre'] == 'Multiplayer Online Battle Arena')\n",
    "]"
   ]
  },
  {
   "cell_type": "code",
   "execution_count": 14,
   "metadata": {
    "scrolled": false
   },
   "outputs": [
    {
     "data": {
      "text/html": [
       "<div>\n",
       "<style scoped>\n",
       "    .dataframe tbody tr th:only-of-type {\n",
       "        vertical-align: middle;\n",
       "    }\n",
       "\n",
       "    .dataframe tbody tr th {\n",
       "        vertical-align: top;\n",
       "    }\n",
       "\n",
       "    .dataframe thead th {\n",
       "        text-align: right;\n",
       "    }\n",
       "</style>\n",
       "<table border=\"1\" class=\"dataframe\">\n",
       "  <thead>\n",
       "    <tr style=\"text-align: right;\">\n",
       "      <th></th>\n",
       "      <th>CurrentHandle</th>\n",
       "      <th>CountryCode</th>\n",
       "      <th>TotalUSDPrize</th>\n",
       "      <th>Game</th>\n",
       "      <th>Genre</th>\n",
       "      <th>ContinentName</th>\n",
       "      <th>CountryName</th>\n",
       "      <th>GenreColor</th>\n",
       "    </tr>\n",
       "  </thead>\n",
       "  <tbody>\n",
       "    <tr>\n",
       "      <th>1027</th>\n",
       "      <td>Happy</td>\n",
       "      <td>TH</td>\n",
       "      <td>40376.87</td>\n",
       "      <td>Arena of Valor</td>\n",
       "      <td>Multiplayer Online Battle Arena</td>\n",
       "      <td>Asia</td>\n",
       "      <td>Thailand, Kingdom of</td>\n",
       "      <td>darkblue</td>\n",
       "    </tr>\n",
       "    <tr>\n",
       "      <th>1028</th>\n",
       "      <td>Sky</td>\n",
       "      <td>TH</td>\n",
       "      <td>28083.35</td>\n",
       "      <td>Arena of Valor</td>\n",
       "      <td>Multiplayer Online Battle Arena</td>\n",
       "      <td>Asia</td>\n",
       "      <td>Thailand, Kingdom of</td>\n",
       "      <td>darkblue</td>\n",
       "    </tr>\n",
       "    <tr>\n",
       "      <th>1029</th>\n",
       "      <td>Erl2oR</td>\n",
       "      <td>TH</td>\n",
       "      <td>27074.40</td>\n",
       "      <td>Arena of Valor</td>\n",
       "      <td>Multiplayer Online Battle Arena</td>\n",
       "      <td>Asia</td>\n",
       "      <td>Thailand, Kingdom of</td>\n",
       "      <td>darkblue</td>\n",
       "    </tr>\n",
       "    <tr>\n",
       "      <th>1030</th>\n",
       "      <td>O7T-V1</td>\n",
       "      <td>TH</td>\n",
       "      <td>25941.03</td>\n",
       "      <td>Arena of Valor</td>\n",
       "      <td>Multiplayer Online Battle Arena</td>\n",
       "      <td>Asia</td>\n",
       "      <td>Thailand, Kingdom of</td>\n",
       "      <td>darkblue</td>\n",
       "    </tr>\n",
       "    <tr>\n",
       "      <th>1031</th>\n",
       "      <td>Fenomeno</td>\n",
       "      <td>GR</td>\n",
       "      <td>94073.00</td>\n",
       "      <td>Hearthstone</td>\n",
       "      <td>Collectible Card Game</td>\n",
       "      <td>Europe</td>\n",
       "      <td>Greece, Hellenic Republic</td>\n",
       "      <td>darkorange</td>\n",
       "    </tr>\n",
       "  </tbody>\n",
       "</table>\n",
       "</div>"
      ],
      "text/plain": [
       "     CurrentHandle CountryCode  TotalUSDPrize            Game  \\\n",
       "1027         Happy          TH       40376.87  Arena of Valor   \n",
       "1028           Sky          TH       28083.35  Arena of Valor   \n",
       "1029        Erl2oR          TH       27074.40  Arena of Valor   \n",
       "1030        O7T-V1          TH       25941.03  Arena of Valor   \n",
       "1031      Fenomeno          GR       94073.00     Hearthstone   \n",
       "\n",
       "                                Genre ContinentName  \\\n",
       "1027  Multiplayer Online Battle Arena          Asia   \n",
       "1028  Multiplayer Online Battle Arena          Asia   \n",
       "1029  Multiplayer Online Battle Arena          Asia   \n",
       "1030  Multiplayer Online Battle Arena          Asia   \n",
       "1031            Collectible Card Game        Europe   \n",
       "\n",
       "                    CountryName  GenreColor  \n",
       "1027       Thailand, Kingdom of    darkblue  \n",
       "1028       Thailand, Kingdom of    darkblue  \n",
       "1029       Thailand, Kingdom of    darkblue  \n",
       "1030       Thailand, Kingdom of    darkblue  \n",
       "1031  Greece, Hellenic Republic  darkorange  "
      ]
     },
     "execution_count": 14,
     "metadata": {},
     "output_type": "execute_result"
    }
   ],
   "source": [
    "merged_dfs['GenreColor'] = np.select(color_conditions, colors_genre)\n",
    "merged_dfs.tail()"
   ]
  },
  {
   "cell_type": "code",
   "execution_count": 25,
   "metadata": {},
   "outputs": [
    {
     "data": {
      "text/plain": [
       "CountryName\n",
       "Korea, Republic of              251\n",
       "China, People's Republic of     168\n",
       "United States of America        114\n",
       "Sweden, Kingdom of               45\n",
       "Russian Federation               44\n",
       "France, French Republic          37\n",
       "Canada                           37\n",
       "Denmark, Kingdom of              36\n",
       "Taiwan                           34\n",
       "Germany, Federal Republic of     30\n",
       "Name: TotalUSDPrize, dtype: int64"
      ]
     },
     "execution_count": 25,
     "metadata": {},
     "output_type": "execute_result"
    }
   ],
   "source": [
    "merged_dfs_grouped_count = merged_dfs.groupby('CountryName')['TotalUSDPrize'].count()\n",
    "merged_dfs_grouped_count = merged_dfs_grouped_count.sort_values(ascending=False).head(10)\n",
    "merged_dfs_grouped_count"
   ]
  },
  {
   "cell_type": "code",
   "execution_count": 30,
   "metadata": {},
   "outputs": [
    {
     "data": {
      "image/png": "[encoded data removed]",
      "text/plain": [
       "<Figure size 1008x1008 with 1 Axes>"
      ]
     },
     "metadata": {},
     "output_type": "display_data"
    }
   ],
   "source": [
    "ax = merged_dfs_grouped_count.sort_values(ascending=True).plot.barh()\n",
    "\n",
    "ax.set_title('Top Ten Total Tournaments Played Per Country')\n",
    "ax.set_xlabel('Tournaments Played')\n",
    "ax.set_ylabel('Country')\n",
    "ax.set_xticks(ticks=[50, 100, 150, 200, 250, 300])\n",
    "#ax.set_xticklabels(['50','100','150','200'])\n",
    "\n",
    "fig = ax.figure\n",
    "fig.set_size_inches(14,14)\n",
    "fig.tight_layout(pad=1)\n",
    "#fig.savefig('../images/barh_conrties_tournaments_played.png')"
   ]
  },
  {
   "cell_type": "code",
   "execution_count": 31,
   "metadata": {},
   "outputs": [
    {
     "data": {
      "text/plain": [
       "CountryName\n",
       "China, People's Republic of     72391878.56\n",
       "Korea, Republic of              58441733.71\n",
       "United States of America        43099381.78\n",
       "Denmark, Kingdom of             26840800.02\n",
       "Russian Federation              21645785.42\n",
       "Sweden, Kingdom of              20770423.01\n",
       "Finland, Republic of            18876262.25\n",
       "France, French Republic         15803240.18\n",
       "Canada                          13483648.61\n",
       "Germany, Federal Republic of    10143181.56\n",
       "Name: TotalUSDPrize, dtype: float64"
      ]
     },
     "execution_count": 31,
     "metadata": {},
     "output_type": "execute_result"
    }
   ],
   "source": [
    "merged_dfs_grouped_sum = merged_dfs.groupby('CountryName')['TotalUSDPrize'].sum()\n",
    "merged_dfs_grouped_sum = merged_dfs_grouped_sum.sort_values(ascending=False).head(10)\n",
    "merged_dfs_grouped_sum"
   ]
  },
  {
   "cell_type": "code",
   "execution_count": 35,
   "metadata": {},
   "outputs": [
    {
     "data": {
      "image/png": "[encoded data removed]",
      "text/plain": [
       "<Figure size 1008x1008 with 1 Axes>"
      ]
     },
     "metadata": {},
     "output_type": "display_data"
    }
   ],
   "source": [
    "ax = merged_dfs_grouped_sum.sort_values().plot.barh()\n",
    "\n",
    "ax.set_title('Top Ten Total Prize Earnings Per Country')\n",
    "ax.set_xlabel('Prize_USD (Millions)')\n",
    "ax.set_ylabel('Country')\n",
    "ax.set_xticks(ticks=[25000000, 50000000, 75000000, 100000000])\n",
    "ax.set_xticklabels(['$25m','$50m','$75m','$100m'])\n",
    "\n",
    "fig = ax.figure\n",
    "fig.set_size_inches(14,14)\n",
    "fig.tight_layout(pad=1)\n",
    "#fig.savefig('../images/barh_conrties_prize_total.png')"
   ]
  },
  {
   "cell_type": "markdown",
   "metadata": {},
   "source": [
    "# Groupings\n",
    "\n",
    "## By Continent\n",
    "\n",
    "### Creating Continent DF's"
   ]
  },
  {
   "cell_type": "code",
   "execution_count": 38,
   "metadata": {},
   "outputs": [],
   "source": [
    "asia_df = merged_dfs[merged_dfs['ContinentName'] == 'Asia']"
   ]
  },
  {
   "cell_type": "code",
   "execution_count": 39,
   "metadata": {},
   "outputs": [],
   "source": [
    "europe_df = merged_dfs[merged_dfs['ContinentName'] == 'Europe']"
   ]
  },
  {
   "cell_type": "code",
   "execution_count": 40,
   "metadata": {},
   "outputs": [],
   "source": [
    "north_america_df = merged_dfs[merged_dfs['ContinentName'] == 'North America']"
   ]
  },
  {
   "cell_type": "code",
   "execution_count": 41,
   "metadata": {},
   "outputs": [],
   "source": [
    "oceania_df = merged_dfs[merged_dfs['ContinentName'] == 'Oceania']"
   ]
  },
  {
   "cell_type": "code",
   "execution_count": 42,
   "metadata": {},
   "outputs": [],
   "source": [
    "south_america_df = merged_dfs[merged_dfs['ContinentName'] == 'South America']"
   ]
  },
  {
   "cell_type": "code",
   "execution_count": 43,
   "metadata": {},
   "outputs": [
    {
     "data": {
      "text/plain": [
       "331002.7917391304"
      ]
     },
     "execution_count": 43,
     "metadata": {},
     "output_type": "execute_result"
    }
   ],
   "source": [
    "ppp_asia = asia_df['TotalUSDPrize'].sum() / len(asia_df.index)\n",
    "ppp_asia"
   ]
  },
  {
   "cell_type": "code",
   "execution_count": 44,
   "metadata": {},
   "outputs": [
    {
     "data": {
      "text/plain": [
       "505993.3767637541"
      ]
     },
     "execution_count": 44,
     "metadata": {},
     "output_type": "execute_result"
    }
   ],
   "source": [
    "ppp_europe = europe_df['TotalUSDPrize'].sum() / len(europe_df.index)\n",
    "ppp_europe"
   ]
  },
  {
   "cell_type": "code",
   "execution_count": 45,
   "metadata": {},
   "outputs": [
    {
     "data": {
      "text/plain": [
       "372792.5974509804"
      ]
     },
     "execution_count": 45,
     "metadata": {},
     "output_type": "execute_result"
    }
   ],
   "source": [
    "ppp_north_america = north_america_df['TotalUSDPrize'].sum() / len(north_america_df.index)\n",
    "ppp_north_america"
   ]
  },
  {
   "cell_type": "code",
   "execution_count": 46,
   "metadata": {},
   "outputs": [
    {
     "data": {
      "text/plain": [
       "1599934.952"
      ]
     },
     "execution_count": 46,
     "metadata": {},
     "output_type": "execute_result"
    }
   ],
   "source": [
    "ppp_oceania = oceania_df['TotalUSDPrize'].sum() / len(oceania_df.index)\n",
    "ppp_oceania"
   ]
  },
  {
   "cell_type": "code",
   "execution_count": 47,
   "metadata": {},
   "outputs": [
    {
     "data": {
      "text/plain": [
       "534747.0184615386"
      ]
     },
     "execution_count": 47,
     "metadata": {},
     "output_type": "execute_result"
    }
   ],
   "source": [
    "ppp_south_america = south_america_df['TotalUSDPrize'].sum() / len(south_america_df.index)\n",
    "ppp_south_america"
   ]
  },
  {
   "cell_type": "code",
   "execution_count": 48,
   "metadata": {},
   "outputs": [
    {
     "data": {
      "text/plain": [
       "[331002.7917391304,\n",
       " 505993.3767637541,\n",
       " 372792.5974509804,\n",
       " 1599934.952,\n",
       " 534747.0184615386]"
      ]
     },
     "execution_count": 48,
     "metadata": {},
     "output_type": "execute_result"
    }
   ],
   "source": [
    "#continent_ppp = {'Asia': ppp_asia,'Europe': ppp_europe,'North America': ppp_north_america,'Oceania': ppp_oceania,'South America': ppp_south_america}\n",
    "#continent_ppp_df = pd.DataFrame.from_dict(continent_ppp, orient='index')\n",
    "#continent_ppp_df\n",
    "continent_ppp = [ppp_asia,ppp_europe,ppp_north_america,ppp_oceania,ppp_south_america]\n",
    "continent_ppp"
   ]
  },
  {
   "cell_type": "markdown",
   "metadata": {},
   "source": [
    "## Asia"
   ]
  },
  {
   "cell_type": "code",
   "execution_count": 97,
   "metadata": {},
   "outputs": [
    {
     "data": {
      "text/plain": [
       "Genre\n",
       "Battle Royale                      149066.413939\n",
       "Collectible Card Game              136738.422051\n",
       "First-Person Shooter               166003.663409\n",
       "Multiplayer Online Battle Arena    465272.938403\n",
       "Strategy                           266696.205915\n",
       "Name: TotalUSDPrize, dtype: float64"
      ]
     },
     "execution_count": 97,
     "metadata": {},
     "output_type": "execute_result"
    }
   ],
   "source": [
    "asia_df_genre = asia_df.groupby('Genre')['TotalUSDPrize'].mean()\n",
    "asia_df_genre.head()"
   ]
  },
  {
   "cell_type": "code",
   "execution_count": 98,
   "metadata": {},
   "outputs": [],
   "source": [
    "asia_genre_share = asia_df_genre / asia_df_genre.sum()"
   ]
  },
  {
   "cell_type": "code",
   "execution_count": null,
   "metadata": {},
   "outputs": [],
   "source": []
  },
  {
   "cell_type": "markdown",
   "metadata": {},
   "source": [
    "## Europe"
   ]
  },
  {
   "cell_type": "code",
   "execution_count": 99,
   "metadata": {},
   "outputs": [
    {
     "data": {
      "text/plain": [
       "Genre\n",
       "Battle Royale                      2.868787e+05\n",
       "Collectible Card Game              1.453690e+05\n",
       "First-Person Shooter               4.632462e+05\n",
       "Multiplayer Online Battle Arena    1.037706e+06\n",
       "Strategy                           2.050141e+05\n",
       "Name: TotalUSDPrize, dtype: float64"
      ]
     },
     "execution_count": 99,
     "metadata": {},
     "output_type": "execute_result"
    }
   ],
   "source": [
    "europe_df_genre = europe_df.groupby('Genre')['TotalUSDPrize'].mean()\n",
    "europe_df_genre.head()"
   ]
  },
  {
   "cell_type": "code",
   "execution_count": 100,
   "metadata": {},
   "outputs": [
    {
     "data": {
      "text/plain": [
       "Genre\n",
       "Battle Royale                      0.134167\n",
       "Collectible Card Game              0.067986\n",
       "First-Person Shooter               0.216651\n",
       "Multiplayer Online Battle Arena    0.485314\n",
       "Strategy                           0.095881\n",
       "Name: TotalUSDPrize, dtype: float64"
      ]
     },
     "execution_count": 100,
     "metadata": {},
     "output_type": "execute_result"
    }
   ],
   "source": [
    "europe_genre_share = europe_df_genre / europe_df_genre.sum()\n",
    "europe_genre_share"
   ]
  },
  {
   "cell_type": "code",
   "execution_count": null,
   "metadata": {},
   "outputs": [],
   "source": []
  },
  {
   "cell_type": "markdown",
   "metadata": {},
   "source": [
    "## North America"
   ]
  },
  {
   "cell_type": "code",
   "execution_count": 101,
   "metadata": {},
   "outputs": [
    {
     "data": {
      "text/plain": [
       "Genre\n",
       "Battle Royale                      372968.032769\n",
       "Collectible Card Game              122938.602308\n",
       "First-Person Shooter               449630.102273\n",
       "Multiplayer Online Battle Arena    518145.789143\n",
       "Strategy                           314195.350000\n",
       "Name: TotalUSDPrize, dtype: float64"
      ]
     },
     "execution_count": 101,
     "metadata": {},
     "output_type": "execute_result"
    }
   ],
   "source": [
    "north_america_genre = north_america_df.groupby('Genre')['TotalUSDPrize'].mean()\n",
    "north_america_genre.head()"
   ]
  },
  {
   "cell_type": "code",
   "execution_count": 102,
   "metadata": {},
   "outputs": [
    {
     "data": {
      "text/plain": [
       "Genre\n",
       "Battle Royale                      0.209783\n",
       "Collectible Card Game              0.069149\n",
       "First-Person Shooter               0.252903\n",
       "Multiplayer Online Battle Arena    0.291441\n",
       "Strategy                           0.176725\n",
       "Name: TotalUSDPrize, dtype: float64"
      ]
     },
     "execution_count": 102,
     "metadata": {},
     "output_type": "execute_result"
    }
   ],
   "source": [
    "north_america_genre_share = north_america_genre / north_america_genre.sum()\n",
    "north_america_genre_share"
   ]
  },
  {
   "cell_type": "code",
   "execution_count": null,
   "metadata": {},
   "outputs": [],
   "source": []
  },
  {
   "cell_type": "markdown",
   "metadata": {},
   "source": [
    "## Oceania"
   ]
  },
  {
   "cell_type": "code",
   "execution_count": 103,
   "metadata": {},
   "outputs": [
    {
     "data": {
      "text/plain": [
       "Genre\n",
       "Battle Royale                        79049.82\n",
       "First-Person Shooter                 53759.68\n",
       "Multiplayer Online Battle Arena    2622288.42\n",
       "Name: TotalUSDPrize, dtype: float64"
      ]
     },
     "execution_count": 103,
     "metadata": {},
     "output_type": "execute_result"
    }
   ],
   "source": [
    "oceania_genre = oceania_df.groupby('Genre')['TotalUSDPrize'].mean()\n",
    "oceania_genre.head()"
   ]
  },
  {
   "cell_type": "code",
   "execution_count": 104,
   "metadata": {},
   "outputs": [
    {
     "data": {
      "text/plain": [
       "Genre\n",
       "Battle Royale                      0.028692\n",
       "First-Person Shooter               0.019513\n",
       "Multiplayer Online Battle Arena    0.951795\n",
       "Name: TotalUSDPrize, dtype: float64"
      ]
     },
     "execution_count": 104,
     "metadata": {},
     "output_type": "execute_result"
    }
   ],
   "source": [
    "oceania_genre_share = oceania_genre / oceania_genre.sum()\n",
    "oceania_genre_share"
   ]
  },
  {
   "cell_type": "code",
   "execution_count": null,
   "metadata": {},
   "outputs": [],
   "source": []
  },
  {
   "cell_type": "markdown",
   "metadata": {},
   "source": [
    "## South America"
   ]
  },
  {
   "cell_type": "code",
   "execution_count": 105,
   "metadata": {},
   "outputs": [
    {
     "data": {
      "text/plain": [
       "Genre\n",
       "Battle Royale            1.021000e+06\n",
       "Collectible Card Game    7.657962e+04\n",
       "First-Person Shooter     6.243845e+05\n",
       "Strategy                 1.580917e+05\n",
       "Name: TotalUSDPrize, dtype: float64"
      ]
     },
     "execution_count": 105,
     "metadata": {},
     "output_type": "execute_result"
    }
   ],
   "source": [
    "south_america_genre = south_america_df.groupby('Genre')['TotalUSDPrize'].mean()\n",
    "south_america_genre.head()"
   ]
  },
  {
   "cell_type": "code",
   "execution_count": 106,
   "metadata": {},
   "outputs": [
    {
     "data": {
      "text/plain": [
       "Genre\n",
       "Battle Royale            0.543069\n",
       "Collectible Card Game    0.040733\n",
       "First-Person Shooter     0.332110\n",
       "Strategy                 0.084089\n",
       "Name: TotalUSDPrize, dtype: float64"
      ]
     },
     "execution_count": 106,
     "metadata": {},
     "output_type": "execute_result"
    }
   ],
   "source": [
    "south_america_genre_share = south_america_genre / south_america_genre.sum()\n",
    "south_america_genre_share"
   ]
  },
  {
   "cell_type": "code",
   "execution_count": null,
   "metadata": {},
   "outputs": [],
   "source": []
  },
  {
   "cell_type": "markdown",
   "metadata": {},
   "source": [
    "### Creating Continent Dataframe:"
   ]
  },
  {
   "cell_type": "code",
   "execution_count": 173,
   "metadata": {},
   "outputs": [
    {
     "data": {
      "text/html": [
       "<div>\n",
       "<style scoped>\n",
       "    .dataframe tbody tr th:only-of-type {\n",
       "        vertical-align: middle;\n",
       "    }\n",
       "\n",
       "    .dataframe tbody tr th {\n",
       "        vertical-align: top;\n",
       "    }\n",
       "\n",
       "    .dataframe thead th {\n",
       "        text-align: right;\n",
       "    }\n",
       "</style>\n",
       "<table border=\"1\" class=\"dataframe\">\n",
       "  <thead>\n",
       "    <tr style=\"text-align: right;\">\n",
       "      <th></th>\n",
       "      <th>0</th>\n",
       "    </tr>\n",
       "  </thead>\n",
       "  <tbody>\n",
       "    <tr>\n",
       "      <th>Asia</th>\n",
       "      <td>1.827135e+08</td>\n",
       "    </tr>\n",
       "    <tr>\n",
       "      <th>Europe</th>\n",
       "      <td>1.563520e+08</td>\n",
       "    </tr>\n",
       "    <tr>\n",
       "      <th>North America</th>\n",
       "      <td>5.703727e+07</td>\n",
       "    </tr>\n",
       "    <tr>\n",
       "      <th>Oceania</th>\n",
       "      <td>7.999675e+06</td>\n",
       "    </tr>\n",
       "    <tr>\n",
       "      <th>South America</th>\n",
       "      <td>6.951711e+06</td>\n",
       "    </tr>\n",
       "  </tbody>\n",
       "</table>\n",
       "</div>"
      ],
      "text/plain": [
       "                          0\n",
       "Asia           1.827135e+08\n",
       "Europe         1.563520e+08\n",
       "North America  5.703727e+07\n",
       "Oceania        7.999675e+06\n",
       "South America  6.951711e+06"
      ]
     },
     "execution_count": 173,
     "metadata": {},
     "output_type": "execute_result"
    }
   ],
   "source": [
    "continent_sum = {'Asia': asia_df['TotalUSDPrize'].sum(),'Europe': europe_df['TotalUSDPrize'].sum(),'North America': north_america_df['TotalUSDPrize'].sum(),'Oceania': oceania_df['TotalUSDPrize'].sum(),'South America': south_america_df['TotalUSDPrize'].sum()}\n",
    "continent_df = pd.DataFrame.from_dict(continent_sum, orient='index')\n",
    "continent_df"
   ]
  },
  {
   "cell_type": "code",
   "execution_count": 174,
   "metadata": {
    "scrolled": true
   },
   "outputs": [
    {
     "data": {
      "text/html": [
       "<div>\n",
       "<style scoped>\n",
       "    .dataframe tbody tr th:only-of-type {\n",
       "        vertical-align: middle;\n",
       "    }\n",
       "\n",
       "    .dataframe tbody tr th {\n",
       "        vertical-align: top;\n",
       "    }\n",
       "\n",
       "    .dataframe thead th {\n",
       "        text-align: right;\n",
       "    }\n",
       "</style>\n",
       "<table border=\"1\" class=\"dataframe\">\n",
       "  <thead>\n",
       "    <tr style=\"text-align: right;\">\n",
       "      <th></th>\n",
       "      <th>0</th>\n",
       "      <th>PrizePerPerson</th>\n",
       "    </tr>\n",
       "  </thead>\n",
       "  <tbody>\n",
       "    <tr>\n",
       "      <th>Asia</th>\n",
       "      <td>1.827135e+08</td>\n",
       "      <td>3.310028e+05</td>\n",
       "    </tr>\n",
       "    <tr>\n",
       "      <th>Europe</th>\n",
       "      <td>1.563520e+08</td>\n",
       "      <td>5.059934e+05</td>\n",
       "    </tr>\n",
       "    <tr>\n",
       "      <th>North America</th>\n",
       "      <td>5.703727e+07</td>\n",
       "      <td>3.727926e+05</td>\n",
       "    </tr>\n",
       "    <tr>\n",
       "      <th>Oceania</th>\n",
       "      <td>7.999675e+06</td>\n",
       "      <td>1.599935e+06</td>\n",
       "    </tr>\n",
       "    <tr>\n",
       "      <th>South America</th>\n",
       "      <td>6.951711e+06</td>\n",
       "      <td>5.347470e+05</td>\n",
       "    </tr>\n",
       "  </tbody>\n",
       "</table>\n",
       "</div>"
      ],
      "text/plain": [
       "                          0  PrizePerPerson\n",
       "Asia           1.827135e+08    3.310028e+05\n",
       "Europe         1.563520e+08    5.059934e+05\n",
       "North America  5.703727e+07    3.727926e+05\n",
       "Oceania        7.999675e+06    1.599935e+06\n",
       "South America  6.951711e+06    5.347470e+05"
      ]
     },
     "execution_count": 174,
     "metadata": {},
     "output_type": "execute_result"
    }
   ],
   "source": [
    "continent_df['PrizePerPerson'] = continent_ppp\n",
    "continent_df"
   ]
  },
  {
   "cell_type": "code",
   "execution_count": 175,
   "metadata": {},
   "outputs": [
    {
     "data": {
      "text/html": [
       "<div>\n",
       "<style scoped>\n",
       "    .dataframe tbody tr th:only-of-type {\n",
       "        vertical-align: middle;\n",
       "    }\n",
       "\n",
       "    .dataframe tbody tr th {\n",
       "        vertical-align: top;\n",
       "    }\n",
       "\n",
       "    .dataframe thead th {\n",
       "        text-align: right;\n",
       "    }\n",
       "</style>\n",
       "<table border=\"1\" class=\"dataframe\">\n",
       "  <thead>\n",
       "    <tr style=\"text-align: right;\">\n",
       "      <th></th>\n",
       "      <th>0</th>\n",
       "      <th>PrizePerPerson</th>\n",
       "      <th>TotalPrizeEarnings</th>\n",
       "    </tr>\n",
       "  </thead>\n",
       "  <tbody>\n",
       "    <tr>\n",
       "      <th>Asia</th>\n",
       "      <td>1.827135e+08</td>\n",
       "      <td>3.310028e+05</td>\n",
       "      <td>1.827135e+08</td>\n",
       "    </tr>\n",
       "    <tr>\n",
       "      <th>Europe</th>\n",
       "      <td>1.563520e+08</td>\n",
       "      <td>5.059934e+05</td>\n",
       "      <td>1.563520e+08</td>\n",
       "    </tr>\n",
       "    <tr>\n",
       "      <th>North America</th>\n",
       "      <td>5.703727e+07</td>\n",
       "      <td>3.727926e+05</td>\n",
       "      <td>5.703727e+07</td>\n",
       "    </tr>\n",
       "    <tr>\n",
       "      <th>Oceania</th>\n",
       "      <td>7.999675e+06</td>\n",
       "      <td>1.599935e+06</td>\n",
       "      <td>7.999675e+06</td>\n",
       "    </tr>\n",
       "    <tr>\n",
       "      <th>South America</th>\n",
       "      <td>6.951711e+06</td>\n",
       "      <td>5.347470e+05</td>\n",
       "      <td>6.951711e+06</td>\n",
       "    </tr>\n",
       "  </tbody>\n",
       "</table>\n",
       "</div>"
      ],
      "text/plain": [
       "                          0  PrizePerPerson  TotalPrizeEarnings\n",
       "Asia           1.827135e+08    3.310028e+05        1.827135e+08\n",
       "Europe         1.563520e+08    5.059934e+05        1.563520e+08\n",
       "North America  5.703727e+07    3.727926e+05        5.703727e+07\n",
       "Oceania        7.999675e+06    1.599935e+06        7.999675e+06\n",
       "South America  6.951711e+06    5.347470e+05        6.951711e+06"
      ]
     },
     "execution_count": 175,
     "metadata": {},
     "output_type": "execute_result"
    }
   ],
   "source": [
    "continent_df['TotalPrizeEarnings'] = continent_df[0]\n",
    "continent_df"
   ]
  },
  {
   "cell_type": "code",
   "execution_count": 176,
   "metadata": {},
   "outputs": [],
   "source": [
    "del continent_df[0]"
   ]
  },
  {
   "cell_type": "code",
   "execution_count": 177,
   "metadata": {},
   "outputs": [
    {
     "data": {
      "text/html": [
       "<div>\n",
       "<style scoped>\n",
       "    .dataframe tbody tr th:only-of-type {\n",
       "        vertical-align: middle;\n",
       "    }\n",
       "\n",
       "    .dataframe tbody tr th {\n",
       "        vertical-align: top;\n",
       "    }\n",
       "\n",
       "    .dataframe thead th {\n",
       "        text-align: right;\n",
       "    }\n",
       "</style>\n",
       "<table border=\"1\" class=\"dataframe\">\n",
       "  <thead>\n",
       "    <tr style=\"text-align: right;\">\n",
       "      <th></th>\n",
       "      <th>PrizePerPerson</th>\n",
       "      <th>TotalPrizeEarnings</th>\n",
       "    </tr>\n",
       "  </thead>\n",
       "  <tbody>\n",
       "    <tr>\n",
       "      <th>Asia</th>\n",
       "      <td>3.310028e+05</td>\n",
       "      <td>1.827135e+08</td>\n",
       "    </tr>\n",
       "    <tr>\n",
       "      <th>Europe</th>\n",
       "      <td>5.059934e+05</td>\n",
       "      <td>1.563520e+08</td>\n",
       "    </tr>\n",
       "    <tr>\n",
       "      <th>North America</th>\n",
       "      <td>3.727926e+05</td>\n",
       "      <td>5.703727e+07</td>\n",
       "    </tr>\n",
       "    <tr>\n",
       "      <th>Oceania</th>\n",
       "      <td>1.599935e+06</td>\n",
       "      <td>7.999675e+06</td>\n",
       "    </tr>\n",
       "    <tr>\n",
       "      <th>South America</th>\n",
       "      <td>5.347470e+05</td>\n",
       "      <td>6.951711e+06</td>\n",
       "    </tr>\n",
       "  </tbody>\n",
       "</table>\n",
       "</div>"
      ],
      "text/plain": [
       "               PrizePerPerson  TotalPrizeEarnings\n",
       "Asia             3.310028e+05        1.827135e+08\n",
       "Europe           5.059934e+05        1.563520e+08\n",
       "North America    3.727926e+05        5.703727e+07\n",
       "Oceania          1.599935e+06        7.999675e+06\n",
       "South America    5.347470e+05        6.951711e+06"
      ]
     },
     "execution_count": 177,
     "metadata": {},
     "output_type": "execute_result"
    }
   ],
   "source": [
    "continent_df"
   ]
  },
  {
   "cell_type": "code",
   "execution_count": 178,
   "metadata": {},
   "outputs": [],
   "source": [
    "people_per_continent = [552, 309, 153, 5, 13]"
   ]
  },
  {
   "cell_type": "code",
   "execution_count": 179,
   "metadata": {},
   "outputs": [
    {
     "data": {
      "text/html": [
       "<div>\n",
       "<style scoped>\n",
       "    .dataframe tbody tr th:only-of-type {\n",
       "        vertical-align: middle;\n",
       "    }\n",
       "\n",
       "    .dataframe tbody tr th {\n",
       "        vertical-align: top;\n",
       "    }\n",
       "\n",
       "    .dataframe thead th {\n",
       "        text-align: right;\n",
       "    }\n",
       "</style>\n",
       "<table border=\"1\" class=\"dataframe\">\n",
       "  <thead>\n",
       "    <tr style=\"text-align: right;\">\n",
       "      <th></th>\n",
       "      <th>PrizePerPerson</th>\n",
       "      <th>TotalPrizeEarnings</th>\n",
       "      <th>PeoplePerContinent</th>\n",
       "    </tr>\n",
       "  </thead>\n",
       "  <tbody>\n",
       "    <tr>\n",
       "      <th>Asia</th>\n",
       "      <td>3.310028e+05</td>\n",
       "      <td>1.827135e+08</td>\n",
       "      <td>552</td>\n",
       "    </tr>\n",
       "    <tr>\n",
       "      <th>Europe</th>\n",
       "      <td>5.059934e+05</td>\n",
       "      <td>1.563520e+08</td>\n",
       "      <td>309</td>\n",
       "    </tr>\n",
       "    <tr>\n",
       "      <th>North America</th>\n",
       "      <td>3.727926e+05</td>\n",
       "      <td>5.703727e+07</td>\n",
       "      <td>153</td>\n",
       "    </tr>\n",
       "    <tr>\n",
       "      <th>Oceania</th>\n",
       "      <td>1.599935e+06</td>\n",
       "      <td>7.999675e+06</td>\n",
       "      <td>5</td>\n",
       "    </tr>\n",
       "    <tr>\n",
       "      <th>South America</th>\n",
       "      <td>5.347470e+05</td>\n",
       "      <td>6.951711e+06</td>\n",
       "      <td>13</td>\n",
       "    </tr>\n",
       "  </tbody>\n",
       "</table>\n",
       "</div>"
      ],
      "text/plain": [
       "               PrizePerPerson  TotalPrizeEarnings  PeoplePerContinent\n",
       "Asia             3.310028e+05        1.827135e+08                 552\n",
       "Europe           5.059934e+05        1.563520e+08                 309\n",
       "North America    3.727926e+05        5.703727e+07                 153\n",
       "Oceania          1.599935e+06        7.999675e+06                   5\n",
       "South America    5.347470e+05        6.951711e+06                  13"
      ]
     },
     "execution_count": 179,
     "metadata": {},
     "output_type": "execute_result"
    }
   ],
   "source": [
    "continent_df['PeoplePerContinent'] = people_per_continent\n",
    "continent_df"
   ]
  },
  {
   "cell_type": "code",
   "execution_count": 180,
   "metadata": {},
   "outputs": [],
   "source": [
    "BR_Share = [0.125924, 0.134167, 0.209783, 0.028692, 0.543069]\n",
    "MOBA_Share = [0.393041, 0.485314, 0.291441, 0.951795, 0]\n",
    "FPS_Share = [0.140232, 0.216651, 0.252903, 0.019513, 0.33211]\n",
    "Card_Share = [0.11551, 0.067986, 0.069149, 0, 0.040733]\n",
    "Strategy_Share = [0.225292, 0.095881, 0.176725, 0, 0.084089]"
   ]
  },
  {
   "cell_type": "code",
   "execution_count": 181,
   "metadata": {},
   "outputs": [
    {
     "data": {
      "text/html": [
       "<div>\n",
       "<style scoped>\n",
       "    .dataframe tbody tr th:only-of-type {\n",
       "        vertical-align: middle;\n",
       "    }\n",
       "\n",
       "    .dataframe tbody tr th {\n",
       "        vertical-align: top;\n",
       "    }\n",
       "\n",
       "    .dataframe thead th {\n",
       "        text-align: right;\n",
       "    }\n",
       "</style>\n",
       "<table border=\"1\" class=\"dataframe\">\n",
       "  <thead>\n",
       "    <tr style=\"text-align: right;\">\n",
       "      <th></th>\n",
       "      <th>PrizePerPerson</th>\n",
       "      <th>TotalPrizeEarnings</th>\n",
       "      <th>PeoplePerContinent</th>\n",
       "      <th>BR_Share</th>\n",
       "    </tr>\n",
       "  </thead>\n",
       "  <tbody>\n",
       "    <tr>\n",
       "      <th>Asia</th>\n",
       "      <td>3.310028e+05</td>\n",
       "      <td>1.827135e+08</td>\n",
       "      <td>552</td>\n",
       "      <td>0.125924</td>\n",
       "    </tr>\n",
       "    <tr>\n",
       "      <th>Europe</th>\n",
       "      <td>5.059934e+05</td>\n",
       "      <td>1.563520e+08</td>\n",
       "      <td>309</td>\n",
       "      <td>0.134167</td>\n",
       "    </tr>\n",
       "    <tr>\n",
       "      <th>North America</th>\n",
       "      <td>3.727926e+05</td>\n",
       "      <td>5.703727e+07</td>\n",
       "      <td>153</td>\n",
       "      <td>0.209783</td>\n",
       "    </tr>\n",
       "    <tr>\n",
       "      <th>Oceania</th>\n",
       "      <td>1.599935e+06</td>\n",
       "      <td>7.999675e+06</td>\n",
       "      <td>5</td>\n",
       "      <td>0.028692</td>\n",
       "    </tr>\n",
       "    <tr>\n",
       "      <th>South America</th>\n",
       "      <td>5.347470e+05</td>\n",
       "      <td>6.951711e+06</td>\n",
       "      <td>13</td>\n",
       "      <td>0.543069</td>\n",
       "    </tr>\n",
       "  </tbody>\n",
       "</table>\n",
       "</div>"
      ],
      "text/plain": [
       "               PrizePerPerson  TotalPrizeEarnings  PeoplePerContinent  \\\n",
       "Asia             3.310028e+05        1.827135e+08                 552   \n",
       "Europe           5.059934e+05        1.563520e+08                 309   \n",
       "North America    3.727926e+05        5.703727e+07                 153   \n",
       "Oceania          1.599935e+06        7.999675e+06                   5   \n",
       "South America    5.347470e+05        6.951711e+06                  13   \n",
       "\n",
       "               BR_Share  \n",
       "Asia           0.125924  \n",
       "Europe         0.134167  \n",
       "North America  0.209783  \n",
       "Oceania        0.028692  \n",
       "South America  0.543069  "
      ]
     },
     "execution_count": 181,
     "metadata": {},
     "output_type": "execute_result"
    }
   ],
   "source": [
    "continent_df['BR_Share'] = BR_Share\n",
    "continent_df"
   ]
  },
  {
   "cell_type": "code",
   "execution_count": 182,
   "metadata": {},
   "outputs": [
    {
     "data": {
      "text/html": [
       "<div>\n",
       "<style scoped>\n",
       "    .dataframe tbody tr th:only-of-type {\n",
       "        vertical-align: middle;\n",
       "    }\n",
       "\n",
       "    .dataframe tbody tr th {\n",
       "        vertical-align: top;\n",
       "    }\n",
       "\n",
       "    .dataframe thead th {\n",
       "        text-align: right;\n",
       "    }\n",
       "</style>\n",
       "<table border=\"1\" class=\"dataframe\">\n",
       "  <thead>\n",
       "    <tr style=\"text-align: right;\">\n",
       "      <th></th>\n",
       "      <th>PrizePerPerson</th>\n",
       "      <th>TotalPrizeEarnings</th>\n",
       "      <th>PeoplePerContinent</th>\n",
       "      <th>BR_Share</th>\n",
       "      <th>MOBA_Share</th>\n",
       "    </tr>\n",
       "  </thead>\n",
       "  <tbody>\n",
       "    <tr>\n",
       "      <th>Asia</th>\n",
       "      <td>3.310028e+05</td>\n",
       "      <td>1.827135e+08</td>\n",
       "      <td>552</td>\n",
       "      <td>0.125924</td>\n",
       "      <td>0.393041</td>\n",
       "    </tr>\n",
       "    <tr>\n",
       "      <th>Europe</th>\n",
       "      <td>5.059934e+05</td>\n",
       "      <td>1.563520e+08</td>\n",
       "      <td>309</td>\n",
       "      <td>0.134167</td>\n",
       "      <td>0.485314</td>\n",
       "    </tr>\n",
       "    <tr>\n",
       "      <th>North America</th>\n",
       "      <td>3.727926e+05</td>\n",
       "      <td>5.703727e+07</td>\n",
       "      <td>153</td>\n",
       "      <td>0.209783</td>\n",
       "      <td>0.291441</td>\n",
       "    </tr>\n",
       "    <tr>\n",
       "      <th>Oceania</th>\n",
       "      <td>1.599935e+06</td>\n",
       "      <td>7.999675e+06</td>\n",
       "      <td>5</td>\n",
       "      <td>0.028692</td>\n",
       "      <td>0.951795</td>\n",
       "    </tr>\n",
       "    <tr>\n",
       "      <th>South America</th>\n",
       "      <td>5.347470e+05</td>\n",
       "      <td>6.951711e+06</td>\n",
       "      <td>13</td>\n",
       "      <td>0.543069</td>\n",
       "      <td>0.000000</td>\n",
       "    </tr>\n",
       "  </tbody>\n",
       "</table>\n",
       "</div>"
      ],
      "text/plain": [
       "               PrizePerPerson  TotalPrizeEarnings  PeoplePerContinent  \\\n",
       "Asia             3.310028e+05        1.827135e+08                 552   \n",
       "Europe           5.059934e+05        1.563520e+08                 309   \n",
       "North America    3.727926e+05        5.703727e+07                 153   \n",
       "Oceania          1.599935e+06        7.999675e+06                   5   \n",
       "South America    5.347470e+05        6.951711e+06                  13   \n",
       "\n",
       "               BR_Share  MOBA_Share  \n",
       "Asia           0.125924    0.393041  \n",
       "Europe         0.134167    0.485314  \n",
       "North America  0.209783    0.291441  \n",
       "Oceania        0.028692    0.951795  \n",
       "South America  0.543069    0.000000  "
      ]
     },
     "execution_count": 182,
     "metadata": {},
     "output_type": "execute_result"
    }
   ],
   "source": [
    "continent_df['MOBA_Share'] = MOBA_Share\n",
    "continent_df"
   ]
  },
  {
   "cell_type": "code",
   "execution_count": 183,
   "metadata": {},
   "outputs": [
    {
     "data": {
      "text/html": [
       "<div>\n",
       "<style scoped>\n",
       "    .dataframe tbody tr th:only-of-type {\n",
       "        vertical-align: middle;\n",
       "    }\n",
       "\n",
       "    .dataframe tbody tr th {\n",
       "        vertical-align: top;\n",
       "    }\n",
       "\n",
       "    .dataframe thead th {\n",
       "        text-align: right;\n",
       "    }\n",
       "</style>\n",
       "<table border=\"1\" class=\"dataframe\">\n",
       "  <thead>\n",
       "    <tr style=\"text-align: right;\">\n",
       "      <th></th>\n",
       "      <th>PrizePerPerson</th>\n",
       "      <th>TotalPrizeEarnings</th>\n",
       "      <th>PeoplePerContinent</th>\n",
       "      <th>BR_Share</th>\n",
       "      <th>MOBA_Share</th>\n",
       "      <th>FPS_Share</th>\n",
       "    </tr>\n",
       "  </thead>\n",
       "  <tbody>\n",
       "    <tr>\n",
       "      <th>Asia</th>\n",
       "      <td>3.310028e+05</td>\n",
       "      <td>1.827135e+08</td>\n",
       "      <td>552</td>\n",
       "      <td>0.125924</td>\n",
       "      <td>0.393041</td>\n",
       "      <td>0.140232</td>\n",
       "    </tr>\n",
       "    <tr>\n",
       "      <th>Europe</th>\n",
       "      <td>5.059934e+05</td>\n",
       "      <td>1.563520e+08</td>\n",
       "      <td>309</td>\n",
       "      <td>0.134167</td>\n",
       "      <td>0.485314</td>\n",
       "      <td>0.216651</td>\n",
       "    </tr>\n",
       "    <tr>\n",
       "      <th>North America</th>\n",
       "      <td>3.727926e+05</td>\n",
       "      <td>5.703727e+07</td>\n",
       "      <td>153</td>\n",
       "      <td>0.209783</td>\n",
       "      <td>0.291441</td>\n",
       "      <td>0.252903</td>\n",
       "    </tr>\n",
       "    <tr>\n",
       "      <th>Oceania</th>\n",
       "      <td>1.599935e+06</td>\n",
       "      <td>7.999675e+06</td>\n",
       "      <td>5</td>\n",
       "      <td>0.028692</td>\n",
       "      <td>0.951795</td>\n",
       "      <td>0.019513</td>\n",
       "    </tr>\n",
       "    <tr>\n",
       "      <th>South America</th>\n",
       "      <td>5.347470e+05</td>\n",
       "      <td>6.951711e+06</td>\n",
       "      <td>13</td>\n",
       "      <td>0.543069</td>\n",
       "      <td>0.000000</td>\n",
       "      <td>0.332110</td>\n",
       "    </tr>\n",
       "  </tbody>\n",
       "</table>\n",
       "</div>"
      ],
      "text/plain": [
       "               PrizePerPerson  TotalPrizeEarnings  PeoplePerContinent  \\\n",
       "Asia             3.310028e+05        1.827135e+08                 552   \n",
       "Europe           5.059934e+05        1.563520e+08                 309   \n",
       "North America    3.727926e+05        5.703727e+07                 153   \n",
       "Oceania          1.599935e+06        7.999675e+06                   5   \n",
       "South America    5.347470e+05        6.951711e+06                  13   \n",
       "\n",
       "               BR_Share  MOBA_Share  FPS_Share  \n",
       "Asia           0.125924    0.393041   0.140232  \n",
       "Europe         0.134167    0.485314   0.216651  \n",
       "North America  0.209783    0.291441   0.252903  \n",
       "Oceania        0.028692    0.951795   0.019513  \n",
       "South America  0.543069    0.000000   0.332110  "
      ]
     },
     "execution_count": 183,
     "metadata": {},
     "output_type": "execute_result"
    }
   ],
   "source": [
    "continent_df['FPS_Share'] = FPS_Share\n",
    "continent_df"
   ]
  },
  {
   "cell_type": "code",
   "execution_count": 184,
   "metadata": {},
   "outputs": [
    {
     "data": {
      "text/html": [
       "<div>\n",
       "<style scoped>\n",
       "    .dataframe tbody tr th:only-of-type {\n",
       "        vertical-align: middle;\n",
       "    }\n",
       "\n",
       "    .dataframe tbody tr th {\n",
       "        vertical-align: top;\n",
       "    }\n",
       "\n",
       "    .dataframe thead th {\n",
       "        text-align: right;\n",
       "    }\n",
       "</style>\n",
       "<table border=\"1\" class=\"dataframe\">\n",
       "  <thead>\n",
       "    <tr style=\"text-align: right;\">\n",
       "      <th></th>\n",
       "      <th>PrizePerPerson</th>\n",
       "      <th>TotalPrizeEarnings</th>\n",
       "      <th>PeoplePerContinent</th>\n",
       "      <th>BR_Share</th>\n",
       "      <th>MOBA_Share</th>\n",
       "      <th>FPS_Share</th>\n",
       "      <th>Card_Share</th>\n",
       "    </tr>\n",
       "  </thead>\n",
       "  <tbody>\n",
       "    <tr>\n",
       "      <th>Asia</th>\n",
       "      <td>3.310028e+05</td>\n",
       "      <td>1.827135e+08</td>\n",
       "      <td>552</td>\n",
       "      <td>0.125924</td>\n",
       "      <td>0.393041</td>\n",
       "      <td>0.140232</td>\n",
       "      <td>0.115510</td>\n",
       "    </tr>\n",
       "    <tr>\n",
       "      <th>Europe</th>\n",
       "      <td>5.059934e+05</td>\n",
       "      <td>1.563520e+08</td>\n",
       "      <td>309</td>\n",
       "      <td>0.134167</td>\n",
       "      <td>0.485314</td>\n",
       "      <td>0.216651</td>\n",
       "      <td>0.067986</td>\n",
       "    </tr>\n",
       "    <tr>\n",
       "      <th>North America</th>\n",
       "      <td>3.727926e+05</td>\n",
       "      <td>5.703727e+07</td>\n",
       "      <td>153</td>\n",
       "      <td>0.209783</td>\n",
       "      <td>0.291441</td>\n",
       "      <td>0.252903</td>\n",
       "      <td>0.069149</td>\n",
       "    </tr>\n",
       "    <tr>\n",
       "      <th>Oceania</th>\n",
       "      <td>1.599935e+06</td>\n",
       "      <td>7.999675e+06</td>\n",
       "      <td>5</td>\n",
       "      <td>0.028692</td>\n",
       "      <td>0.951795</td>\n",
       "      <td>0.019513</td>\n",
       "      <td>0.000000</td>\n",
       "    </tr>\n",
       "    <tr>\n",
       "      <th>South America</th>\n",
       "      <td>5.347470e+05</td>\n",
       "      <td>6.951711e+06</td>\n",
       "      <td>13</td>\n",
       "      <td>0.543069</td>\n",
       "      <td>0.000000</td>\n",
       "      <td>0.332110</td>\n",
       "      <td>0.040733</td>\n",
       "    </tr>\n",
       "  </tbody>\n",
       "</table>\n",
       "</div>"
      ],
      "text/plain": [
       "               PrizePerPerson  TotalPrizeEarnings  PeoplePerContinent  \\\n",
       "Asia             3.310028e+05        1.827135e+08                 552   \n",
       "Europe           5.059934e+05        1.563520e+08                 309   \n",
       "North America    3.727926e+05        5.703727e+07                 153   \n",
       "Oceania          1.599935e+06        7.999675e+06                   5   \n",
       "South America    5.347470e+05        6.951711e+06                  13   \n",
       "\n",
       "               BR_Share  MOBA_Share  FPS_Share  Card_Share  \n",
       "Asia           0.125924    0.393041   0.140232    0.115510  \n",
       "Europe         0.134167    0.485314   0.216651    0.067986  \n",
       "North America  0.209783    0.291441   0.252903    0.069149  \n",
       "Oceania        0.028692    0.951795   0.019513    0.000000  \n",
       "South America  0.543069    0.000000   0.332110    0.040733  "
      ]
     },
     "execution_count": 184,
     "metadata": {},
     "output_type": "execute_result"
    }
   ],
   "source": [
    "continent_df['Card_Share'] = Card_Share\n",
    "continent_df"
   ]
  },
  {
   "cell_type": "code",
   "execution_count": 185,
   "metadata": {},
   "outputs": [
    {
     "data": {
      "text/html": [
       "<div>\n",
       "<style scoped>\n",
       "    .dataframe tbody tr th:only-of-type {\n",
       "        vertical-align: middle;\n",
       "    }\n",
       "\n",
       "    .dataframe tbody tr th {\n",
       "        vertical-align: top;\n",
       "    }\n",
       "\n",
       "    .dataframe thead th {\n",
       "        text-align: right;\n",
       "    }\n",
       "</style>\n",
       "<table border=\"1\" class=\"dataframe\">\n",
       "  <thead>\n",
       "    <tr style=\"text-align: right;\">\n",
       "      <th></th>\n",
       "      <th>PrizePerPerson</th>\n",
       "      <th>TotalPrizeEarnings</th>\n",
       "      <th>PeoplePerContinent</th>\n",
       "      <th>BR_Share</th>\n",
       "      <th>MOBA_Share</th>\n",
       "      <th>FPS_Share</th>\n",
       "      <th>Card_Share</th>\n",
       "      <th>Strategy_Share</th>\n",
       "    </tr>\n",
       "  </thead>\n",
       "  <tbody>\n",
       "    <tr>\n",
       "      <th>Asia</th>\n",
       "      <td>3.310028e+05</td>\n",
       "      <td>1.827135e+08</td>\n",
       "      <td>552</td>\n",
       "      <td>0.125924</td>\n",
       "      <td>0.393041</td>\n",
       "      <td>0.140232</td>\n",
       "      <td>0.115510</td>\n",
       "      <td>0.225292</td>\n",
       "    </tr>\n",
       "    <tr>\n",
       "      <th>Europe</th>\n",
       "      <td>5.059934e+05</td>\n",
       "      <td>1.563520e+08</td>\n",
       "      <td>309</td>\n",
       "      <td>0.134167</td>\n",
       "      <td>0.485314</td>\n",
       "      <td>0.216651</td>\n",
       "      <td>0.067986</td>\n",
       "      <td>0.095881</td>\n",
       "    </tr>\n",
       "    <tr>\n",
       "      <th>North America</th>\n",
       "      <td>3.727926e+05</td>\n",
       "      <td>5.703727e+07</td>\n",
       "      <td>153</td>\n",
       "      <td>0.209783</td>\n",
       "      <td>0.291441</td>\n",
       "      <td>0.252903</td>\n",
       "      <td>0.069149</td>\n",
       "      <td>0.176725</td>\n",
       "    </tr>\n",
       "    <tr>\n",
       "      <th>Oceania</th>\n",
       "      <td>1.599935e+06</td>\n",
       "      <td>7.999675e+06</td>\n",
       "      <td>5</td>\n",
       "      <td>0.028692</td>\n",
       "      <td>0.951795</td>\n",
       "      <td>0.019513</td>\n",
       "      <td>0.000000</td>\n",
       "      <td>0.000000</td>\n",
       "    </tr>\n",
       "    <tr>\n",
       "      <th>South America</th>\n",
       "      <td>5.347470e+05</td>\n",
       "      <td>6.951711e+06</td>\n",
       "      <td>13</td>\n",
       "      <td>0.543069</td>\n",
       "      <td>0.000000</td>\n",
       "      <td>0.332110</td>\n",
       "      <td>0.040733</td>\n",
       "      <td>0.084089</td>\n",
       "    </tr>\n",
       "  </tbody>\n",
       "</table>\n",
       "</div>"
      ],
      "text/plain": [
       "               PrizePerPerson  TotalPrizeEarnings  PeoplePerContinent  \\\n",
       "Asia             3.310028e+05        1.827135e+08                 552   \n",
       "Europe           5.059934e+05        1.563520e+08                 309   \n",
       "North America    3.727926e+05        5.703727e+07                 153   \n",
       "Oceania          1.599935e+06        7.999675e+06                   5   \n",
       "South America    5.347470e+05        6.951711e+06                  13   \n",
       "\n",
       "               BR_Share  MOBA_Share  FPS_Share  Card_Share  Strategy_Share  \n",
       "Asia           0.125924    0.393041   0.140232    0.115510        0.225292  \n",
       "Europe         0.134167    0.485314   0.216651    0.067986        0.095881  \n",
       "North America  0.209783    0.291441   0.252903    0.069149        0.176725  \n",
       "Oceania        0.028692    0.951795   0.019513    0.000000        0.000000  \n",
       "South America  0.543069    0.000000   0.332110    0.040733        0.084089  "
      ]
     },
     "execution_count": 185,
     "metadata": {},
     "output_type": "execute_result"
    }
   ],
   "source": [
    "continent_df['Strategy_Share'] = Strategy_Share\n",
    "continent_df"
   ]
  },
  {
   "cell_type": "code",
   "execution_count": 186,
   "metadata": {},
   "outputs": [
    {
     "data": {
      "image/png": "[encoded data removed]",
      "text/plain": [
       "<Figure size 1296x1296 with 2 Axes>"
      ]
     },
     "metadata": {},
     "output_type": "display_data"
    }
   ],
   "source": [
    "fig, ax = plt.subplots(figsize=(18,18))\n",
    "\n",
    "sn.heatmap(continent_df.corr(method='pearson'), annot=True, \n",
    "            cmap=plt.get_cmap('coolwarm'), ax=ax)\n",
    "ax.set_yticklabels(ax.get_yticklabels(), rotation=\"horizontal\")\n",
    "plt.savefig('../images/coor_matrix.png', bbox_inches='tight', pad_inches=0.5)"
   ]
  },
  {
   "cell_type": "code",
   "execution_count": 187,
   "metadata": {},
   "outputs": [
    {
     "data": {
      "text/html": [
       "<div>\n",
       "<style scoped>\n",
       "    .dataframe tbody tr th:only-of-type {\n",
       "        vertical-align: middle;\n",
       "    }\n",
       "\n",
       "    .dataframe tbody tr th {\n",
       "        vertical-align: top;\n",
       "    }\n",
       "\n",
       "    .dataframe thead th {\n",
       "        text-align: right;\n",
       "    }\n",
       "</style>\n",
       "<table border=\"1\" class=\"dataframe\">\n",
       "  <thead>\n",
       "    <tr style=\"text-align: right;\">\n",
       "      <th></th>\n",
       "      <th>PrizePerPerson</th>\n",
       "      <th>TotalPrizeEarnings</th>\n",
       "      <th>PeoplePerContinent</th>\n",
       "      <th>BR_Share</th>\n",
       "      <th>MOBA_Share</th>\n",
       "      <th>FPS_Share</th>\n",
       "      <th>Card_Share</th>\n",
       "      <th>Strategy_Share</th>\n",
       "    </tr>\n",
       "  </thead>\n",
       "  <tbody>\n",
       "    <tr>\n",
       "      <th>Asia</th>\n",
       "      <td>$331.0K</td>\n",
       "      <td>1.827135e+08</td>\n",
       "      <td>552</td>\n",
       "      <td>0.125924</td>\n",
       "      <td>0.393041</td>\n",
       "      <td>0.140232</td>\n",
       "      <td>0.115510</td>\n",
       "      <td>0.225292</td>\n",
       "    </tr>\n",
       "    <tr>\n",
       "      <th>Europe</th>\n",
       "      <td>$506.0K</td>\n",
       "      <td>1.563520e+08</td>\n",
       "      <td>309</td>\n",
       "      <td>0.134167</td>\n",
       "      <td>0.485314</td>\n",
       "      <td>0.216651</td>\n",
       "      <td>0.067986</td>\n",
       "      <td>0.095881</td>\n",
       "    </tr>\n",
       "    <tr>\n",
       "      <th>North America</th>\n",
       "      <td>$372.8K</td>\n",
       "      <td>5.703727e+07</td>\n",
       "      <td>153</td>\n",
       "      <td>0.209783</td>\n",
       "      <td>0.291441</td>\n",
       "      <td>0.252903</td>\n",
       "      <td>0.069149</td>\n",
       "      <td>0.176725</td>\n",
       "    </tr>\n",
       "    <tr>\n",
       "      <th>Oceania</th>\n",
       "      <td>$1599.9K</td>\n",
       "      <td>7.999675e+06</td>\n",
       "      <td>5</td>\n",
       "      <td>0.028692</td>\n",
       "      <td>0.951795</td>\n",
       "      <td>0.019513</td>\n",
       "      <td>0.000000</td>\n",
       "      <td>0.000000</td>\n",
       "    </tr>\n",
       "    <tr>\n",
       "      <th>South America</th>\n",
       "      <td>$534.7K</td>\n",
       "      <td>6.951711e+06</td>\n",
       "      <td>13</td>\n",
       "      <td>0.543069</td>\n",
       "      <td>0.000000</td>\n",
       "      <td>0.332110</td>\n",
       "      <td>0.040733</td>\n",
       "      <td>0.084089</td>\n",
       "    </tr>\n",
       "  </tbody>\n",
       "</table>\n",
       "</div>"
      ],
      "text/plain": [
       "              PrizePerPerson  TotalPrizeEarnings  PeoplePerContinent  \\\n",
       "Asia                 $331.0K        1.827135e+08                 552   \n",
       "Europe               $506.0K        1.563520e+08                 309   \n",
       "North America        $372.8K        5.703727e+07                 153   \n",
       "Oceania             $1599.9K        7.999675e+06                   5   \n",
       "South America        $534.7K        6.951711e+06                  13   \n",
       "\n",
       "               BR_Share  MOBA_Share  FPS_Share  Card_Share  Strategy_Share  \n",
       "Asia           0.125924    0.393041   0.140232    0.115510        0.225292  \n",
       "Europe         0.134167    0.485314   0.216651    0.067986        0.095881  \n",
       "North America  0.209783    0.291441   0.252903    0.069149        0.176725  \n",
       "Oceania        0.028692    0.951795   0.019513    0.000000        0.000000  \n",
       "South America  0.543069    0.000000   0.332110    0.040733        0.084089  "
      ]
     },
     "execution_count": 187,
     "metadata": {},
     "output_type": "execute_result"
    }
   ],
   "source": [
    "continent_df['PrizePerPerson'] = continent_df['PrizePerPerson'].apply(k_format)\n",
    "continent_df"
   ]
  },
  {
   "cell_type": "code",
   "execution_count": 188,
   "metadata": {},
   "outputs": [
    {
     "data": {
      "text/html": [
       "<div>\n",
       "<style scoped>\n",
       "    .dataframe tbody tr th:only-of-type {\n",
       "        vertical-align: middle;\n",
       "    }\n",
       "\n",
       "    .dataframe tbody tr th {\n",
       "        vertical-align: top;\n",
       "    }\n",
       "\n",
       "    .dataframe thead th {\n",
       "        text-align: right;\n",
       "    }\n",
       "</style>\n",
       "<table border=\"1\" class=\"dataframe\">\n",
       "  <thead>\n",
       "    <tr style=\"text-align: right;\">\n",
       "      <th></th>\n",
       "      <th>PrizePerPerson</th>\n",
       "      <th>TotalPrizeEarnings</th>\n",
       "      <th>PeoplePerContinent</th>\n",
       "      <th>BR_Share</th>\n",
       "      <th>MOBA_Share</th>\n",
       "      <th>FPS_Share</th>\n",
       "      <th>Card_Share</th>\n",
       "      <th>Strategy_Share</th>\n",
       "    </tr>\n",
       "  </thead>\n",
       "  <tbody>\n",
       "    <tr>\n",
       "      <th>Asia</th>\n",
       "      <td>$331.0K</td>\n",
       "      <td>$182.7M</td>\n",
       "      <td>552</td>\n",
       "      <td>0.125924</td>\n",
       "      <td>0.393041</td>\n",
       "      <td>0.140232</td>\n",
       "      <td>0.115510</td>\n",
       "      <td>0.225292</td>\n",
       "    </tr>\n",
       "    <tr>\n",
       "      <th>Europe</th>\n",
       "      <td>$506.0K</td>\n",
       "      <td>$156.4M</td>\n",
       "      <td>309</td>\n",
       "      <td>0.134167</td>\n",
       "      <td>0.485314</td>\n",
       "      <td>0.216651</td>\n",
       "      <td>0.067986</td>\n",
       "      <td>0.095881</td>\n",
       "    </tr>\n",
       "    <tr>\n",
       "      <th>North America</th>\n",
       "      <td>$372.8K</td>\n",
       "      <td>$57.0M</td>\n",
       "      <td>153</td>\n",
       "      <td>0.209783</td>\n",
       "      <td>0.291441</td>\n",
       "      <td>0.252903</td>\n",
       "      <td>0.069149</td>\n",
       "      <td>0.176725</td>\n",
       "    </tr>\n",
       "    <tr>\n",
       "      <th>Oceania</th>\n",
       "      <td>$1599.9K</td>\n",
       "      <td>$8.0M</td>\n",
       "      <td>5</td>\n",
       "      <td>0.028692</td>\n",
       "      <td>0.951795</td>\n",
       "      <td>0.019513</td>\n",
       "      <td>0.000000</td>\n",
       "      <td>0.000000</td>\n",
       "    </tr>\n",
       "    <tr>\n",
       "      <th>South America</th>\n",
       "      <td>$534.7K</td>\n",
       "      <td>$7.0M</td>\n",
       "      <td>13</td>\n",
       "      <td>0.543069</td>\n",
       "      <td>0.000000</td>\n",
       "      <td>0.332110</td>\n",
       "      <td>0.040733</td>\n",
       "      <td>0.084089</td>\n",
       "    </tr>\n",
       "  </tbody>\n",
       "</table>\n",
       "</div>"
      ],
      "text/plain": [
       "              PrizePerPerson TotalPrizeEarnings  PeoplePerContinent  BR_Share  \\\n",
       "Asia                 $331.0K            $182.7M                 552  0.125924   \n",
       "Europe               $506.0K            $156.4M                 309  0.134167   \n",
       "North America        $372.8K             $57.0M                 153  0.209783   \n",
       "Oceania             $1599.9K              $8.0M                   5  0.028692   \n",
       "South America        $534.7K              $7.0M                  13  0.543069   \n",
       "\n",
       "               MOBA_Share  FPS_Share  Card_Share  Strategy_Share  \n",
       "Asia             0.393041   0.140232    0.115510        0.225292  \n",
       "Europe           0.485314   0.216651    0.067986        0.095881  \n",
       "North America    0.291441   0.252903    0.069149        0.176725  \n",
       "Oceania          0.951795   0.019513    0.000000        0.000000  \n",
       "South America    0.000000   0.332110    0.040733        0.084089  "
      ]
     },
     "execution_count": 188,
     "metadata": {},
     "output_type": "execute_result"
    }
   ],
   "source": [
    "continent_df['TotalPrizeEarnings'] = continent_df['TotalPrizeEarnings'].apply(mil_format)\n",
    "continent_df"
   ]
  },
  {
   "cell_type": "code",
   "execution_count": 172,
   "metadata": {},
   "outputs": [
    {
     "data": {
      "text/html": [
       "<div>\n",
       "<style scoped>\n",
       "    .dataframe tbody tr th:only-of-type {\n",
       "        vertical-align: middle;\n",
       "    }\n",
       "\n",
       "    .dataframe tbody tr th {\n",
       "        vertical-align: top;\n",
       "    }\n",
       "\n",
       "    .dataframe thead th {\n",
       "        text-align: right;\n",
       "    }\n",
       "</style>\n",
       "<table border=\"1\" class=\"dataframe\">\n",
       "  <thead>\n",
       "    <tr style=\"text-align: right;\">\n",
       "      <th></th>\n",
       "      <th>PrizePerPerson</th>\n",
       "      <th>TotalPrizeEarnings</th>\n",
       "      <th>PeoplePerContinent</th>\n",
       "      <th>BR_Share</th>\n",
       "      <th>MOBA_Share</th>\n",
       "      <th>FPS_Share</th>\n",
       "      <th>Card_Share</th>\n",
       "      <th>Strategy_Share</th>\n",
       "    </tr>\n",
       "  </thead>\n",
       "  <tbody>\n",
       "    <tr>\n",
       "      <th>Asia</th>\n",
       "      <td>$331.0K</td>\n",
       "      <td>$182.7M</td>\n",
       "      <td>552</td>\n",
       "      <td>0.125924</td>\n",
       "      <td>0.393041</td>\n",
       "      <td>0.140232</td>\n",
       "      <td>0.115510</td>\n",
       "      <td>0.225292</td>\n",
       "    </tr>\n",
       "    <tr>\n",
       "      <th>Europe</th>\n",
       "      <td>$506.0K</td>\n",
       "      <td>$156.4M</td>\n",
       "      <td>309</td>\n",
       "      <td>0.134167</td>\n",
       "      <td>0.485314</td>\n",
       "      <td>0.216651</td>\n",
       "      <td>0.067986</td>\n",
       "      <td>0.095881</td>\n",
       "    </tr>\n",
       "    <tr>\n",
       "      <th>North America</th>\n",
       "      <td>$372.8K</td>\n",
       "      <td>$57.0M</td>\n",
       "      <td>153</td>\n",
       "      <td>0.209783</td>\n",
       "      <td>0.291441</td>\n",
       "      <td>0.252903</td>\n",
       "      <td>0.069149</td>\n",
       "      <td>0.176725</td>\n",
       "    </tr>\n",
       "    <tr>\n",
       "      <th>Oceania</th>\n",
       "      <td>$1599.9K</td>\n",
       "      <td>$8.0M</td>\n",
       "      <td>5</td>\n",
       "      <td>0.028692</td>\n",
       "      <td>0.951795</td>\n",
       "      <td>0.019513</td>\n",
       "      <td>0.000000</td>\n",
       "      <td>0.000000</td>\n",
       "    </tr>\n",
       "    <tr>\n",
       "      <th>South America</th>\n",
       "      <td>$534.7K</td>\n",
       "      <td>$7.0M</td>\n",
       "      <td>13</td>\n",
       "      <td>0.543069</td>\n",
       "      <td>0.000000</td>\n",
       "      <td>0.332110</td>\n",
       "      <td>0.040733</td>\n",
       "      <td>0.084089</td>\n",
       "    </tr>\n",
       "  </tbody>\n",
       "</table>\n",
       "</div>"
      ],
      "text/plain": [
       "              PrizePerPerson TotalPrizeEarnings  PeoplePerContinent  BR_Share  \\\n",
       "Asia                 $331.0K            $182.7M                 552  0.125924   \n",
       "Europe               $506.0K            $156.4M                 309  0.134167   \n",
       "North America        $372.8K             $57.0M                 153  0.209783   \n",
       "Oceania             $1599.9K              $8.0M                   5  0.028692   \n",
       "South America        $534.7K              $7.0M                  13  0.543069   \n",
       "\n",
       "               MOBA_Share  FPS_Share  Card_Share  Strategy_Share  \n",
       "Asia             0.393041   0.140232    0.115510        0.225292  \n",
       "Europe           0.485314   0.216651    0.067986        0.095881  \n",
       "North America    0.291441   0.252903    0.069149        0.176725  \n",
       "Oceania          0.951795   0.019513    0.000000        0.000000  \n",
       "South America    0.000000   0.332110    0.040733        0.084089  "
      ]
     },
     "execution_count": 172,
     "metadata": {},
     "output_type": "execute_result"
    }
   ],
   "source": [
    "continent_df"
   ]
  },
  {
   "cell_type": "code",
   "execution_count": null,
   "metadata": {},
   "outputs": [],
   "source": []
  },
  {
   "cell_type": "code",
   "execution_count": null,
   "metadata": {},
   "outputs": [],
   "source": []
  },
  {
   "cell_type": "code",
   "execution_count": null,
   "metadata": {},
   "outputs": [],
   "source": []
  },
  {
   "cell_type": "code",
   "execution_count": null,
   "metadata": {},
   "outputs": [],
   "source": []
  },
  {
   "cell_type": "markdown",
   "metadata": {},
   "source": [
    "### Prize Earnings:"
   ]
  },
  {
   "cell_type": "code",
   "execution_count": 32,
   "metadata": {},
   "outputs": [
    {
     "data": {
      "text/html": [
       "<div>\n",
       "<style scoped>\n",
       "    .dataframe tbody tr th:only-of-type {\n",
       "        vertical-align: middle;\n",
       "    }\n",
       "\n",
       "    .dataframe tbody tr th {\n",
       "        vertical-align: top;\n",
       "    }\n",
       "\n",
       "    .dataframe thead th {\n",
       "        text-align: right;\n",
       "    }\n",
       "</style>\n",
       "<table border=\"1\" class=\"dataframe\">\n",
       "  <thead>\n",
       "    <tr style=\"text-align: right;\">\n",
       "      <th></th>\n",
       "      <th>TotalUSDPrize</th>\n",
       "    </tr>\n",
       "    <tr>\n",
       "      <th>ContinentName</th>\n",
       "      <th></th>\n",
       "    </tr>\n",
       "  </thead>\n",
       "  <tbody>\n",
       "    <tr>\n",
       "      <th>Asia</th>\n",
       "      <td>1.827135e+08</td>\n",
       "    </tr>\n",
       "    <tr>\n",
       "      <th>Europe</th>\n",
       "      <td>1.563520e+08</td>\n",
       "    </tr>\n",
       "    <tr>\n",
       "      <th>North America</th>\n",
       "      <td>5.703727e+07</td>\n",
       "    </tr>\n",
       "    <tr>\n",
       "      <th>Oceania</th>\n",
       "      <td>7.999675e+06</td>\n",
       "    </tr>\n",
       "    <tr>\n",
       "      <th>South America</th>\n",
       "      <td>6.951711e+06</td>\n",
       "    </tr>\n",
       "  </tbody>\n",
       "</table>\n",
       "</div>"
      ],
      "text/plain": [
       "               TotalUSDPrize\n",
       "ContinentName               \n",
       "Asia            1.827135e+08\n",
       "Europe          1.563520e+08\n",
       "North America   5.703727e+07\n",
       "Oceania         7.999675e+06\n",
       "South America   6.951711e+06"
      ]
     },
     "execution_count": 32,
     "metadata": {},
     "output_type": "execute_result"
    }
   ],
   "source": [
    "continent_grouped = merged_dfs.groupby('ContinentName').agg(np.sum)\n",
    "continent_grouped"
   ]
  },
  {
   "cell_type": "code",
   "execution_count": 45,
   "metadata": {},
   "outputs": [
    {
     "data": {
      "image/png": "[encoded data removed]",
      "text/plain": [
       "<Figure size 1008x576 with 1 Axes>"
      ]
     },
     "metadata": {},
     "output_type": "display_data"
    }
   ],
   "source": [
    "ax = continent_grouped.sort_values(by='TotalUSDPrize').plot.barh()\n",
    "\n",
    "ax.set_title('Total Prize Earnings Per Continent')\n",
    "ax.set_xlabel('Prize_USD (Millions)')\n",
    "ax.set_ylabel('')\n",
    "ax.set_xticks(ticks=[50000000, 100000000, 150000000, 200000000])\n",
    "ax.set_xticklabels(['$50m','$100m','$150m','$200m'])\n",
    "\n",
    "fig = ax.figure\n",
    "fig.set_size_inches(14,8)\n",
    "fig.tight_layout(pad=1)\n",
    "fig.savefig('../images/barh_continent_total.png')"
   ]
  },
  {
   "cell_type": "markdown",
   "metadata": {},
   "source": [
    "### Count of Players per Continent:"
   ]
  },
  {
   "cell_type": "code",
   "execution_count": 39,
   "metadata": {},
   "outputs": [
    {
     "data": {
      "text/plain": [
       "ContinentName\n",
       "Asia             552\n",
       "Europe           309\n",
       "North America    153\n",
       "Oceania            5\n",
       "South America     13\n",
       "Name: CurrentHandle, dtype: int64"
      ]
     },
     "execution_count": 39,
     "metadata": {},
     "output_type": "execute_result"
    }
   ],
   "source": [
    "player_count_continent = merged_dfs.groupby('ContinentName')['CurrentHandle'].count()\n",
    "player_count_continent.head()"
   ]
  },
  {
   "cell_type": "code",
   "execution_count": 46,
   "metadata": {},
   "outputs": [
    {
     "data": {
      "image/png": "[encoded data removed]",
      "text/plain": [
       "<Figure size 1008x576 with 1 Axes>"
      ]
     },
     "metadata": {},
     "output_type": "display_data"
    }
   ],
   "source": [
    "ax = player_count_continent.sort_values().plot.barh()\n",
    "\n",
    "ax.set_title('Total Players Per Continent')\n",
    "ax.set_xlabel('Prize_USD (Millions)')\n",
    "ax.set_ylabel('')\n",
    "ax.set_xticks(ticks=[100, 200, 300, 400, 500, 600])\n",
    "ax.set_xticklabels([100, 200, 300, 400, 500, 600])\n",
    "\n",
    "fig = ax.figure\n",
    "fig.set_size_inches(14,8)\n",
    "fig.tight_layout(pad=1)\n",
    "fig.savefig('../images/barh_continent_player_count.png')"
   ]
  },
  {
   "cell_type": "markdown",
   "metadata": {},
   "source": [
    "### Count of Genres by continent"
   ]
  },
  {
   "cell_type": "code",
   "execution_count": 48,
   "metadata": {},
   "outputs": [
    {
     "data": {
      "text/plain": [
       "Genre\n",
       "Battle Royale                      210\n",
       "Collectible Card Game              105\n",
       "First-Person Shooter               213\n",
       "Multiplayer Online Battle Arena    404\n",
       "Strategy                           100\n",
       "Name: ContinentName, dtype: int64"
      ]
     },
     "execution_count": 48,
     "metadata": {},
     "output_type": "execute_result"
    }
   ],
   "source": []
  },
  {
   "cell_type": "code",
   "execution_count": null,
   "metadata": {},
   "outputs": [],
   "source": [
    "ax = genre_count_continent.sort_values().plot.barh()\n",
    "\n",
    "ax.set_title('Total Players Per Continent')\n",
    "ax.set_xlabel('Number of Players')\n",
    "ax.set_ylabel('')\n",
    "ax.set_xticks(ticks=[100, 200, 300, 400, 500, 600])\n",
    "ax.set_xticklabels([100, 200, 300, 400, 500, 600])\n",
    "\n",
    "fig = ax.figure\n",
    "fig.set_size_inches(14,8)\n",
    "fig.tight_layout(pad=1)\n",
    "fig.savefig('../images/barh_continent_player_count.png')"
   ]
  },
  {
   "cell_type": "code",
   "execution_count": null,
   "metadata": {},
   "outputs": [],
   "source": []
  },
  {
   "cell_type": "code",
   "execution_count": null,
   "metadata": {},
   "outputs": [],
   "source": []
  },
  {
   "cell_type": "code",
   "execution_count": null,
   "metadata": {},
   "outputs": [],
   "source": []
  },
  {
   "cell_type": "markdown",
   "metadata": {},
   "source": [
    "## By Country"
   ]
  },
  {
   "cell_type": "code",
   "execution_count": null,
   "metadata": {},
   "outputs": [],
   "source": [
    "country_grouped = merged_dfs.groupby('ContinentName').agg(np.sum)\n",
    "country_grouped"
   ]
  }
 ],
 "metadata": {
  "kernelspec": {
   "display_name": "Python 3",
   "language": "python",
   "name": "python3"
  },
  "language_info": {
   "codemirror_mode": {
    "name": "ipython",
    "version": 3
   },
   "file_extension": ".py",
   "mimetype": "text/x-python",
   "name": "python",
   "nbconvert_exporter": "python",
   "pygments_lexer": "ipython3",
   "version": "3.7.9"
  }
 },
 "nbformat": 4,
 "nbformat_minor": 4
}
