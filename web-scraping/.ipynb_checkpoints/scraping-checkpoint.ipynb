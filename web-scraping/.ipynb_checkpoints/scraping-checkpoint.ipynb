{
 "cells": [
  {
   "cell_type": "code",
   "execution_count": 26,
   "metadata": {},
   "outputs": [],
   "source": [
    "import numpy as np\n",
    "import pandas as pd\n",
    "import requests\n",
    "import os\n",
    "import re\n",
    "from bs4 import BeautifulSoup"
   ]
  },
  {
   "cell_type": "markdown",
   "metadata": {},
   "source": [
    "# Web Scraping Data\n",
    "\n",
    "Scraping from this site --> https://www.esportsearnings.com/games\n",
    "\n",
    "Will be saving data in the ../data folder\n",
    "\n",
    "## Functions"
   ]
  },
  {
   "cell_type": "markdown",
   "metadata": {},
   "source": [
    "## Top Games"
   ]
  },
  {
   "cell_type": "code",
   "execution_count": 38,
   "metadata": {},
   "outputs": [
    {
     "data": {
      "text/plain": [
       "[        0                                     1               2             3  \\\n",
       " 0     6.0                             Overwatch  $26,750,317.28  3532 Players   \n",
       " 1     7.0       PLAYERUNKNOWNâ€™S BATTLEGROUNDS  $25,653,470.88  2951 Players   \n",
       " 2     8.0                           Hearthstone  $24,151,978.24  2431 Players   \n",
       " 3     9.0                        Arena of Valor  $23,760,471.67   664 Players   \n",
       " 4    10.0                   Heroes of the Storm  $18,188,482.65  1253 Players   \n",
       " 5    11.0                        Counter-Strike  $13,529,661.03  4141 Players   \n",
       " 6    12.0                     Rainbow Six Siege  $13,198,525.74  1601 Players   \n",
       " 7    13.0                         Rocket League  $11,918,793.66  1383 Players   \n",
       " 8    14.0  PLAYERUNKNOWN'S BATTLEGROUNDS Mobile  $11,193,572.02  1266 Players   \n",
       " 9    15.0                                 SMITE   $9,240,112.75   525 Players   \n",
       " 10   16.0                  StarCraft: Brood War   $8,430,170.61   682 Players   \n",
       " 11   17.0                     Halo 5: Guardians   $7,071,480.97   233 Players   \n",
       " 12   18.0             Call of Duty: Black Ops 4   $6,731,938.95   380 Players   \n",
       " 13   19.0          Call of Duty: Modern Warfare   $6,617,284.50   251 Players   \n",
       " 14   20.0                             CrossFire   $6,609,445.02   643 Players   \n",
       " 15   21.0            Magic: The Gathering Arena   $6,012,000.00   241 Players   \n",
       " 16   22.0                          WarCraft III   $5,811,479.73   558 Players   \n",
       " 17   23.0                          Apex Legends   $5,220,226.69  1229 Players   \n",
       " 18   24.0                     World of WarCraft   $4,957,837.61   413 Players   \n",
       " 19   25.0            Call of Duty: World War II   $4,559,271.00   266 Players   \n",
       " 20   26.0        Call of Duty: Infinite Warfare   $4,156,205.06   341 Players   \n",
       " 21   27.0           Call of Duty: Black Ops III   $3,939,783.29   419 Players   \n",
       " 22   28.0                        World of Tanks   $3,656,496.59   403 Players   \n",
       " 23   29.0                 Call of Duty: Warzone   $3,444,090.26   742 Players   \n",
       " 24   30.0                          Clash Royale   $3,363,348.27   290 Players   \n",
       " 25   31.0               Super Smash Bros. Melee   $3,243,573.57  1883 Players   \n",
       " 26   32.0                               FIFA 19   $3,242,642.34   300 Players   \n",
       " 27   33.0                           Shadowverse   $3,211,177.09   239 Players   \n",
       " 28   34.0                Counter-Strike: Source   $3,117,222.29  1502 Players   \n",
       " 29   35.0                        Gears of War 4   $3,087,285.00   135 Players   \n",
       " ..    ...                                   ...             ...           ...   \n",
       " 65   71.0                       Madden NFL 2017   $1,004,000.00    42 Players   \n",
       " 66   72.0                              NBA 2K18   $1,000,000.00    91 Players   \n",
       " 67   73.0                   Turbo Racing League   $1,000,000.00    16 Players   \n",
       " 68   74.0                                 Gwent     $956,277.17   324 Players   \n",
       " 69   75.0               Defense of the Ancients     $857,420.65   468 Players   \n",
       " 70   76.0                           Injustice 2     $835,742.83    81 Players   \n",
       " 71   77.0                           Halo: Reach     $822,089.97   101 Players   \n",
       " 72   78.0                    Forza Motorsport 7     $820,200.00   124 Players   \n",
       " 73   79.0                     Teamfight Tactics     $819,313.65   159 Players   \n",
       " 74   80.0               Ultra Street Fighter IV     $816,713.46   231 Players   \n",
       " 75   81.0                             Vainglory     $797,421.19   247 Players   \n",
       " 76   82.0                               F1 2020     $751,947.00    39 Players   \n",
       " 77   83.0      Call of Duty: Black Ops Cold War     $748,000.00    98 Players   \n",
       " 78   84.0                       Team Fortress 2     $718,078.81  1364 Players   \n",
       " 79   85.0                           Point Blank     $699,167.75   297 Players   \n",
       " 80   86.0                            Quake Live     $682,294.04   213 Players   \n",
       " 81   87.0                Call of Duty: Blackout     $611,608.35   175 Players   \n",
       " 82   88.0                WarCraft III: Reforged     $571,463.84    91 Players   \n",
       " 83   89.0                             KartRider     $567,366.35    76 Players   \n",
       " 84   90.0                               Quake 4     $556,892.79   102 Players   \n",
       " 85   91.0                               F1 2019     $538,047.38    25 Players   \n",
       " 86   92.0                       Mortal Kombat X     $523,532.42   100 Players   \n",
       " 87   93.0             Pro Evolution Soccer 2017     $514,697.71    39 Players   \n",
       " 88   94.0                       Dead or Alive 4     $497,745.31    45 Players   \n",
       " 89   95.0                          Guild Wars 2     $476,005.50   152 Players   \n",
       " 90   96.0                    Halo 2 Anniversary     $468,705.05    97 Players   \n",
       " 91   97.0                               FIFA 13     $458,427.82    53 Players   \n",
       " 92   98.0                                TEPPEN     $456,721.47    12 Players   \n",
       " 93   99.0                                Halo 4     $430,748.76    66 Players   \n",
       " 94  100.0                             Minecraft     $429,539.15    84 Players   \n",
       " \n",
       "                    4  \n",
       " 0    747 Tournaments  \n",
       " 1    323 Tournaments  \n",
       " 2    902 Tournaments  \n",
       " 3     61 Tournaments  \n",
       " 4    475 Tournaments  \n",
       " 5    997 Tournaments  \n",
       " 6    242 Tournaments  \n",
       " 7   1372 Tournaments  \n",
       " 8     49 Tournaments  \n",
       " 9     96 Tournaments  \n",
       " 10   681 Tournaments  \n",
       " 11    75 Tournaments  \n",
       " 12    68 Tournaments  \n",
       " 13    45 Tournaments  \n",
       " 14   310 Tournaments  \n",
       " 15    38 Tournaments  \n",
       " 16  1335 Tournaments  \n",
       " 17   291 Tournaments  \n",
       " 18   118 Tournaments  \n",
       " 19    64 Tournaments  \n",
       " 20    80 Tournaments  \n",
       " 21    78 Tournaments  \n",
       " 22    50 Tournaments  \n",
       " 23   130 Tournaments  \n",
       " 24    51 Tournaments  \n",
       " 25  2615 Tournaments  \n",
       " 26    48 Tournaments  \n",
       " 27    42 Tournaments  \n",
       " 28   333 Tournaments  \n",
       " 29    41 Tournaments  \n",
       " ..               ...  \n",
       " 65     5 Tournaments  \n",
       " 66     4 Tournaments  \n",
       " 67     9 Tournaments  \n",
       " 68   112 Tournaments  \n",
       " 69    94 Tournaments  \n",
       " 70    37 Tournaments  \n",
       " 71    29 Tournaments  \n",
       " 72    12 Tournaments  \n",
       " 73    15 Tournaments  \n",
       " 74   229 Tournaments  \n",
       " 75    35 Tournaments  \n",
       " 76     2 Tournaments  \n",
       " 77    11 Tournaments  \n",
       " 78   197 Tournaments  \n",
       " 79    32 Tournaments  \n",
       " 80   410 Tournaments  \n",
       " 81    18 Tournaments  \n",
       " 82   116 Tournaments  \n",
       " 83    20 Tournaments  \n",
       " 84    53 Tournaments  \n",
       " 85     2 Tournaments  \n",
       " 86    62 Tournaments  \n",
       " 87    16 Tournaments  \n",
       " 88    13 Tournaments  \n",
       " 89    57 Tournaments  \n",
       " 90    20 Tournaments  \n",
       " 91    62 Tournaments  \n",
       " 92      1 Tournament  \n",
       " 93    19 Tournaments  \n",
       " 94    20 Tournaments  \n",
       " \n",
       " [95 rows x 5 columns]]"
      ]
     },
     "execution_count": 38,
     "metadata": {},
     "output_type": "execute_result"
    }
   ],
   "source": [
    "from tabulate import tabulate\n",
    "\n",
    "res = requests.get('https://www.esportsearnings.com/games')\n",
    "soup = BeautifulSoup(res.content, 'lxml')\n",
    "games = soup.find_all('table')\n",
    "df = pd.read_html(str(games))\n",
    "df\n",
    "#print( tabulate(df[0], headers=['GameRank', 'Game', 'TotalUSDPrize', 'PlayerCount', 'TotalTournaments'], tablefmt='psql') )"
   ]
  },
  {
   "cell_type": "code",
   "execution_count": 56,
   "metadata": {},
   "outputs": [
    {
     "data": {
      "text/plain": [
       "(bs4.BeautifulSoup, bs4.element.ResultSet)"
      ]
     },
     "execution_count": 56,
     "metadata": {},
     "output_type": "execute_result"
    }
   ],
   "source": [
    "res = requests.get('https://www.esportsearnings.com/games')\n",
    "soup = BeautifulSoup(res.content, 'lxml')\n",
    "\n",
    "tag = soup.body.main.find_all(attrs={'class': 'detail_box_game'})\n",
    "#df = pd.read_html(str(tag))\n",
    "#df\n",
    "type(soup), type(tag)\n",
    "#ag.find_all(re.compile('^>%</a>'))"
   ]
  },
  {
   "cell_type": "code",
   "execution_count": 54,
   "metadata": {},
   "outputs": [
    {
     "name": "stdout",
     "output_type": "stream",
     "text": [
      "<generator object Tag._all_strings at 0x7f30b72cb0c0>\n"
     ]
    }
   ],
   "source": [
    "res = requests.get('https://www.esportsearnings.com/games')\n",
    "soup = BeautifulSoup(res.content, 'lxml')\n",
    "\n",
    "test = soup.body.main.strings\n",
    "print(test)"
   ]
  }
 ],
 "metadata": {
  "kernelspec": {
   "display_name": "Python 3",
   "language": "python",
   "name": "python3"
  },
  "language_info": {
   "codemirror_mode": {
    "name": "ipython",
    "version": 3
   },
   "file_extension": ".py",
   "mimetype": "text/x-python",
   "name": "python",
   "nbconvert_exporter": "python",
   "pygments_lexer": "ipython3",
   "version": "3.7.0"
  }
 },
 "nbformat": 4,
 "nbformat_minor": 2
}
